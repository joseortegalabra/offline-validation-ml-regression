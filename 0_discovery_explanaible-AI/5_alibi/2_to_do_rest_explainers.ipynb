{
 "cells": [
  {
   "cell_type": "markdown",
   "id": "09719c78-72fe-4225-bbde-add89df38d85",
   "metadata": {},
   "source": [
    "# Explanaible AI - alibi\n",
    "\n",
    "**Links**\n",
    "\n",
    "- alibi documentation main page: https://docs.seldon.io/projects/alibi/en/stable/\n",
    "- alibi repo github: https://github.com/SeldonIO/alibi"
   ]
  },
  {
   "cell_type": "code",
   "execution_count": null,
   "id": "beab15fa-c707-4960-8fe6-8f72057c5076",
   "metadata": {},
   "outputs": [],
   "source": []
  },
  {
   "cell_type": "code",
   "execution_count": 1,
   "id": "83499f84-4bd3-4d00-8d04-5dc3ca79d3fd",
   "metadata": {},
   "outputs": [],
   "source": [
    "import warnings\n",
    "warnings.filterwarnings('ignore')\n",
    "\n",
    "import pandas as pd\n",
    "import numpy as np\n",
    "import pickle\n",
    "import matplotlib.pyplot as plt\n",
    "import sklearn\n",
    "\n",
    "import plotly.graph_objs as go\n",
    "from plotly.subplots import make_subplots\n",
    "import plotly.express as px\n",
    "\n",
    "# data\n",
    "from sklearn.datasets import fetch_california_housing\n",
    "from sklearn.model_selection import train_test_split\n",
    "\n",
    "# models\n",
    "from sklearn.linear_model import LinearRegression # lr\n",
    "from sklearn.linear_model import Ridge # ridge\n",
    "from sklearn.linear_model import Lasso # lasso\n",
    "from sklearn.tree import DecisionTreeRegressor # tree\n",
    "from sklearn.ensemble import GradientBoostingRegressor #gb\n",
    "from sklearn.ensemble import RandomForestRegressor #rf\n",
    "from xgboost import XGBRegressor # xgb\n",
    "from  sklearn.neural_network import MLPRegressor # mlp"
   ]
  },
  {
   "cell_type": "code",
   "execution_count": null,
   "id": "1732bdb5-9489-4e23-9db2-138f7831c377",
   "metadata": {},
   "outputs": [],
   "source": []
  },
  {
   "cell_type": "markdown",
   "id": "b1c92a18-a304-49ce-b2e4-99f71c8a59cd",
   "metadata": {},
   "source": [
    "### 1. Load data"
   ]
  },
  {
   "cell_type": "code",
   "execution_count": 2,
   "id": "3d4e8408-c3eb-4a0c-b540-b5b39bddc182",
   "metadata": {},
   "outputs": [],
   "source": [
    "##### load data\n",
    "data_X, data_y = fetch_california_housing(return_X_y=True, as_frame=True)\n",
    "\n",
    "##### joinn and rename dataset\n",
    "data = data_X.copy()\n",
    "data['Price'] = data_y\n",
    "\n",
    "##### dropduplicates - some kind of plots in plotly return error with duplicated values\n",
    "data = data.drop_duplicates()\n",
    "\n",
    "##### delete outliers\n",
    "percentil_lower = data.quantile(0.01)\n",
    "percentil_upper = data.quantile(0.99)\n",
    "\n",
    "data_raw = data[(data >= percentil_lower) & (data <= percentil_upper)]\n",
    "data_raw.dropna(inplace = True)\n",
    "\n",
    "\n",
    "##### split into train/test\n",
    "target = 'Price'\n",
    "list_features = list(set(data_raw.columns) - set([target]))\n",
    "\n",
    "X_train, X_test, y_train, y_test = train_test_split(data_raw[list_features], \n",
    "                                                    data_raw[[target]], \n",
    "                                                    test_size = 0.2, \n",
    "                                                    random_state=42\n",
    "                                                   )"
   ]
  },
  {
   "cell_type": "code",
   "execution_count": 3,
   "id": "6564635e-fd3b-4d53-b482-1ade504aa113",
   "metadata": {},
   "outputs": [
    {
     "data": {
      "text/plain": [
       "['AveBedrms',\n",
       " 'HouseAge',\n",
       " 'Population',\n",
       " 'MedInc',\n",
       " 'Latitude',\n",
       " 'AveRooms',\n",
       " 'AveOccup',\n",
       " 'Longitude']"
      ]
     },
     "execution_count": 3,
     "metadata": {},
     "output_type": "execute_result"
    }
   ],
   "source": [
    "list_features"
   ]
  },
  {
   "cell_type": "code",
   "execution_count": 4,
   "id": "e5d40cf1-b7cc-42bb-ba08-728daaebfa41",
   "metadata": {},
   "outputs": [
    {
     "data": {
      "text/html": [
       "<div>\n",
       "<style scoped>\n",
       "    .dataframe tbody tr th:only-of-type {\n",
       "        vertical-align: middle;\n",
       "    }\n",
       "\n",
       "    .dataframe tbody tr th {\n",
       "        vertical-align: top;\n",
       "    }\n",
       "\n",
       "    .dataframe thead th {\n",
       "        text-align: right;\n",
       "    }\n",
       "</style>\n",
       "<table border=\"1\" class=\"dataframe\">\n",
       "  <thead>\n",
       "    <tr style=\"text-align: right;\">\n",
       "      <th></th>\n",
       "      <th>AveBedrms</th>\n",
       "      <th>HouseAge</th>\n",
       "      <th>Population</th>\n",
       "      <th>MedInc</th>\n",
       "      <th>Latitude</th>\n",
       "      <th>AveRooms</th>\n",
       "      <th>AveOccup</th>\n",
       "      <th>Longitude</th>\n",
       "    </tr>\n",
       "  </thead>\n",
       "  <tbody>\n",
       "    <tr>\n",
       "      <th>5712</th>\n",
       "      <td>1.094340</td>\n",
       "      <td>34.0</td>\n",
       "      <td>926.0</td>\n",
       "      <td>4.1523</td>\n",
       "      <td>34.22</td>\n",
       "      <td>4.641509</td>\n",
       "      <td>2.495957</td>\n",
       "      <td>-118.24</td>\n",
       "    </tr>\n",
       "    <tr>\n",
       "      <th>15731</th>\n",
       "      <td>1.063750</td>\n",
       "      <td>52.0</td>\n",
       "      <td>1588.0</td>\n",
       "      <td>3.3882</td>\n",
       "      <td>37.78</td>\n",
       "      <td>3.771250</td>\n",
       "      <td>1.985000</td>\n",
       "      <td>-122.44</td>\n",
       "    </tr>\n",
       "    <tr>\n",
       "      <th>2894</th>\n",
       "      <td>0.990991</td>\n",
       "      <td>38.0</td>\n",
       "      <td>743.0</td>\n",
       "      <td>1.7292</td>\n",
       "      <td>35.37</td>\n",
       "      <td>4.135135</td>\n",
       "      <td>3.346847</td>\n",
       "      <td>-118.99</td>\n",
       "    </tr>\n",
       "    <tr>\n",
       "      <th>3333</th>\n",
       "      <td>1.055046</td>\n",
       "      <td>13.0</td>\n",
       "      <td>249.0</td>\n",
       "      <td>1.8417</td>\n",
       "      <td>38.92</td>\n",
       "      <td>4.770642</td>\n",
       "      <td>2.284404</td>\n",
       "      <td>-122.62</td>\n",
       "    </tr>\n",
       "    <tr>\n",
       "      <th>8410</th>\n",
       "      <td>1.026738</td>\n",
       "      <td>33.0</td>\n",
       "      <td>2649.0</td>\n",
       "      <td>2.3375</td>\n",
       "      <td>33.93</td>\n",
       "      <td>3.636364</td>\n",
       "      <td>4.721925</td>\n",
       "      <td>-118.35</td>\n",
       "    </tr>\n",
       "  </tbody>\n",
       "</table>\n",
       "</div>"
      ],
      "text/plain": [
       "       AveBedrms  HouseAge  Population  MedInc  Latitude  AveRooms  AveOccup  \\\n",
       "5712    1.094340      34.0       926.0  4.1523     34.22  4.641509  2.495957   \n",
       "15731   1.063750      52.0      1588.0  3.3882     37.78  3.771250  1.985000   \n",
       "2894    0.990991      38.0       743.0  1.7292     35.37  4.135135  3.346847   \n",
       "3333    1.055046      13.0       249.0  1.8417     38.92  4.770642  2.284404   \n",
       "8410    1.026738      33.0      2649.0  2.3375     33.93  3.636364  4.721925   \n",
       "\n",
       "       Longitude  \n",
       "5712     -118.24  \n",
       "15731    -122.44  \n",
       "2894     -118.99  \n",
       "3333     -122.62  \n",
       "8410     -118.35  "
      ]
     },
     "execution_count": 4,
     "metadata": {},
     "output_type": "execute_result"
    }
   ],
   "source": [
    "X_train.head()"
   ]
  },
  {
   "cell_type": "code",
   "execution_count": null,
   "id": "599ca88e-3277-4ef6-838d-301f22f7c6eb",
   "metadata": {},
   "outputs": [],
   "source": []
  },
  {
   "cell_type": "code",
   "execution_count": null,
   "id": "0cdc8f53-fa1f-44c9-99a2-7da1a4d5efc9",
   "metadata": {},
   "outputs": [],
   "source": []
  },
  {
   "cell_type": "markdown",
   "id": "cebe38f2-1cdc-4dfb-99f8-63af4bf77c62",
   "metadata": {},
   "source": [
    "### 2. Train models"
   ]
  },
  {
   "cell_type": "markdown",
   "id": "dc1b423e-1c3b-49fd-ac84-a3347464e97a",
   "metadata": {},
   "source": [
    "#### 2.1 Linear regression"
   ]
  },
  {
   "cell_type": "code",
   "execution_count": 5,
   "id": "de66fa80-849b-490e-8383-05314a53bd13",
   "metadata": {},
   "outputs": [
    {
     "data": {
      "text/html": [
       "<style>#sk-container-id-1 {color: black;}#sk-container-id-1 pre{padding: 0;}#sk-container-id-1 div.sk-toggleable {background-color: white;}#sk-container-id-1 label.sk-toggleable__label {cursor: pointer;display: block;width: 100%;margin-bottom: 0;padding: 0.3em;box-sizing: border-box;text-align: center;}#sk-container-id-1 label.sk-toggleable__label-arrow:before {content: \"▸\";float: left;margin-right: 0.25em;color: #696969;}#sk-container-id-1 label.sk-toggleable__label-arrow:hover:before {color: black;}#sk-container-id-1 div.sk-estimator:hover label.sk-toggleable__label-arrow:before {color: black;}#sk-container-id-1 div.sk-toggleable__content {max-height: 0;max-width: 0;overflow: hidden;text-align: left;background-color: #f0f8ff;}#sk-container-id-1 div.sk-toggleable__content pre {margin: 0.2em;color: black;border-radius: 0.25em;background-color: #f0f8ff;}#sk-container-id-1 input.sk-toggleable__control:checked~div.sk-toggleable__content {max-height: 200px;max-width: 100%;overflow: auto;}#sk-container-id-1 input.sk-toggleable__control:checked~label.sk-toggleable__label-arrow:before {content: \"▾\";}#sk-container-id-1 div.sk-estimator input.sk-toggleable__control:checked~label.sk-toggleable__label {background-color: #d4ebff;}#sk-container-id-1 div.sk-label input.sk-toggleable__control:checked~label.sk-toggleable__label {background-color: #d4ebff;}#sk-container-id-1 input.sk-hidden--visually {border: 0;clip: rect(1px 1px 1px 1px);clip: rect(1px, 1px, 1px, 1px);height: 1px;margin: -1px;overflow: hidden;padding: 0;position: absolute;width: 1px;}#sk-container-id-1 div.sk-estimator {font-family: monospace;background-color: #f0f8ff;border: 1px dotted black;border-radius: 0.25em;box-sizing: border-box;margin-bottom: 0.5em;}#sk-container-id-1 div.sk-estimator:hover {background-color: #d4ebff;}#sk-container-id-1 div.sk-parallel-item::after {content: \"\";width: 100%;border-bottom: 1px solid gray;flex-grow: 1;}#sk-container-id-1 div.sk-label:hover label.sk-toggleable__label {background-color: #d4ebff;}#sk-container-id-1 div.sk-serial::before {content: \"\";position: absolute;border-left: 1px solid gray;box-sizing: border-box;top: 0;bottom: 0;left: 50%;z-index: 0;}#sk-container-id-1 div.sk-serial {display: flex;flex-direction: column;align-items: center;background-color: white;padding-right: 0.2em;padding-left: 0.2em;position: relative;}#sk-container-id-1 div.sk-item {position: relative;z-index: 1;}#sk-container-id-1 div.sk-parallel {display: flex;align-items: stretch;justify-content: center;background-color: white;position: relative;}#sk-container-id-1 div.sk-item::before, #sk-container-id-1 div.sk-parallel-item::before {content: \"\";position: absolute;border-left: 1px solid gray;box-sizing: border-box;top: 0;bottom: 0;left: 50%;z-index: -1;}#sk-container-id-1 div.sk-parallel-item {display: flex;flex-direction: column;z-index: 1;position: relative;background-color: white;}#sk-container-id-1 div.sk-parallel-item:first-child::after {align-self: flex-end;width: 50%;}#sk-container-id-1 div.sk-parallel-item:last-child::after {align-self: flex-start;width: 50%;}#sk-container-id-1 div.sk-parallel-item:only-child::after {width: 0;}#sk-container-id-1 div.sk-dashed-wrapped {border: 1px dashed gray;margin: 0 0.4em 0.5em 0.4em;box-sizing: border-box;padding-bottom: 0.4em;background-color: white;}#sk-container-id-1 div.sk-label label {font-family: monospace;font-weight: bold;display: inline-block;line-height: 1.2em;}#sk-container-id-1 div.sk-label-container {text-align: center;}#sk-container-id-1 div.sk-container {/* jupyter's `normalize.less` sets `[hidden] { display: none; }` but bootstrap.min.css set `[hidden] { display: none !important; }` so we also need the `!important` here to be able to override the default hidden behavior on the sphinx rendered scikit-learn.org. See: https://github.com/scikit-learn/scikit-learn/issues/21755 */display: inline-block !important;position: relative;}#sk-container-id-1 div.sk-text-repr-fallback {display: none;}</style><div id=\"sk-container-id-1\" class=\"sk-top-container\"><div class=\"sk-text-repr-fallback\"><pre>LinearRegression()</pre><b>In a Jupyter environment, please rerun this cell to show the HTML representation or trust the notebook. <br />On GitHub, the HTML representation is unable to render, please try loading this page with nbviewer.org.</b></div><div class=\"sk-container\" hidden><div class=\"sk-item\"><div class=\"sk-estimator sk-toggleable\"><input class=\"sk-toggleable__control sk-hidden--visually\" id=\"sk-estimator-id-1\" type=\"checkbox\" checked><label for=\"sk-estimator-id-1\" class=\"sk-toggleable__label sk-toggleable__label-arrow\">LinearRegression</label><div class=\"sk-toggleable__content\"><pre>LinearRegression()</pre></div></div></div></div></div>"
      ],
      "text/plain": [
       "LinearRegression()"
      ]
     },
     "execution_count": 5,
     "metadata": {},
     "output_type": "execute_result"
    }
   ],
   "source": [
    "# train lr\n",
    "lr = LinearRegression()\n",
    "lr.fit(X_train, y_train)"
   ]
  },
  {
   "cell_type": "code",
   "execution_count": 6,
   "id": "236f8cfc-e3ce-4a24-8441-234bf2ab5735",
   "metadata": {
    "scrolled": true
   },
   "outputs": [
    {
     "name": "stdout",
     "output_type": "stream",
     "text": [
      "r2_train:  0.6811276939092024\n",
      "r2_test:  0.6813140626891638\n"
     ]
    }
   ],
   "source": [
    "# r2 score\n",
    "r2_lr_train = lr.score(X_train, y_train)\n",
    "r2_lr_test = lr.score(X_test, y_test)\n",
    "\n",
    "print('r2_train: ', r2_lr_train)\n",
    "print('r2_test: ', r2_lr_test)"
   ]
  },
  {
   "cell_type": "code",
   "execution_count": null,
   "id": "70c0981c-8fa6-47e4-b28a-fb54e7fed5bc",
   "metadata": {},
   "outputs": [],
   "source": []
  },
  {
   "cell_type": "markdown",
   "id": "ac1e703f-e905-49a3-bbd5-d1d30e2ec3ab",
   "metadata": {},
   "source": [
    "#### 2.2 Random Forest Simple"
   ]
  },
  {
   "cell_type": "code",
   "execution_count": 7,
   "id": "55b68f43-d004-4a0a-8e36-c4db7abc4c8f",
   "metadata": {},
   "outputs": [
    {
     "data": {
      "text/html": [
       "<style>#sk-container-id-2 {color: black;}#sk-container-id-2 pre{padding: 0;}#sk-container-id-2 div.sk-toggleable {background-color: white;}#sk-container-id-2 label.sk-toggleable__label {cursor: pointer;display: block;width: 100%;margin-bottom: 0;padding: 0.3em;box-sizing: border-box;text-align: center;}#sk-container-id-2 label.sk-toggleable__label-arrow:before {content: \"▸\";float: left;margin-right: 0.25em;color: #696969;}#sk-container-id-2 label.sk-toggleable__label-arrow:hover:before {color: black;}#sk-container-id-2 div.sk-estimator:hover label.sk-toggleable__label-arrow:before {color: black;}#sk-container-id-2 div.sk-toggleable__content {max-height: 0;max-width: 0;overflow: hidden;text-align: left;background-color: #f0f8ff;}#sk-container-id-2 div.sk-toggleable__content pre {margin: 0.2em;color: black;border-radius: 0.25em;background-color: #f0f8ff;}#sk-container-id-2 input.sk-toggleable__control:checked~div.sk-toggleable__content {max-height: 200px;max-width: 100%;overflow: auto;}#sk-container-id-2 input.sk-toggleable__control:checked~label.sk-toggleable__label-arrow:before {content: \"▾\";}#sk-container-id-2 div.sk-estimator input.sk-toggleable__control:checked~label.sk-toggleable__label {background-color: #d4ebff;}#sk-container-id-2 div.sk-label input.sk-toggleable__control:checked~label.sk-toggleable__label {background-color: #d4ebff;}#sk-container-id-2 input.sk-hidden--visually {border: 0;clip: rect(1px 1px 1px 1px);clip: rect(1px, 1px, 1px, 1px);height: 1px;margin: -1px;overflow: hidden;padding: 0;position: absolute;width: 1px;}#sk-container-id-2 div.sk-estimator {font-family: monospace;background-color: #f0f8ff;border: 1px dotted black;border-radius: 0.25em;box-sizing: border-box;margin-bottom: 0.5em;}#sk-container-id-2 div.sk-estimator:hover {background-color: #d4ebff;}#sk-container-id-2 div.sk-parallel-item::after {content: \"\";width: 100%;border-bottom: 1px solid gray;flex-grow: 1;}#sk-container-id-2 div.sk-label:hover label.sk-toggleable__label {background-color: #d4ebff;}#sk-container-id-2 div.sk-serial::before {content: \"\";position: absolute;border-left: 1px solid gray;box-sizing: border-box;top: 0;bottom: 0;left: 50%;z-index: 0;}#sk-container-id-2 div.sk-serial {display: flex;flex-direction: column;align-items: center;background-color: white;padding-right: 0.2em;padding-left: 0.2em;position: relative;}#sk-container-id-2 div.sk-item {position: relative;z-index: 1;}#sk-container-id-2 div.sk-parallel {display: flex;align-items: stretch;justify-content: center;background-color: white;position: relative;}#sk-container-id-2 div.sk-item::before, #sk-container-id-2 div.sk-parallel-item::before {content: \"\";position: absolute;border-left: 1px solid gray;box-sizing: border-box;top: 0;bottom: 0;left: 50%;z-index: -1;}#sk-container-id-2 div.sk-parallel-item {display: flex;flex-direction: column;z-index: 1;position: relative;background-color: white;}#sk-container-id-2 div.sk-parallel-item:first-child::after {align-self: flex-end;width: 50%;}#sk-container-id-2 div.sk-parallel-item:last-child::after {align-self: flex-start;width: 50%;}#sk-container-id-2 div.sk-parallel-item:only-child::after {width: 0;}#sk-container-id-2 div.sk-dashed-wrapped {border: 1px dashed gray;margin: 0 0.4em 0.5em 0.4em;box-sizing: border-box;padding-bottom: 0.4em;background-color: white;}#sk-container-id-2 div.sk-label label {font-family: monospace;font-weight: bold;display: inline-block;line-height: 1.2em;}#sk-container-id-2 div.sk-label-container {text-align: center;}#sk-container-id-2 div.sk-container {/* jupyter's `normalize.less` sets `[hidden] { display: none; }` but bootstrap.min.css set `[hidden] { display: none !important; }` so we also need the `!important` here to be able to override the default hidden behavior on the sphinx rendered scikit-learn.org. See: https://github.com/scikit-learn/scikit-learn/issues/21755 */display: inline-block !important;position: relative;}#sk-container-id-2 div.sk-text-repr-fallback {display: none;}</style><div id=\"sk-container-id-2\" class=\"sk-top-container\"><div class=\"sk-text-repr-fallback\"><pre>RandomForestRegressor(min_samples_leaf=0.1, min_samples_split=0.2,\n",
       "                      n_estimators=3, random_state=42)</pre><b>In a Jupyter environment, please rerun this cell to show the HTML representation or trust the notebook. <br />On GitHub, the HTML representation is unable to render, please try loading this page with nbviewer.org.</b></div><div class=\"sk-container\" hidden><div class=\"sk-item\"><div class=\"sk-estimator sk-toggleable\"><input class=\"sk-toggleable__control sk-hidden--visually\" id=\"sk-estimator-id-2\" type=\"checkbox\" checked><label for=\"sk-estimator-id-2\" class=\"sk-toggleable__label sk-toggleable__label-arrow\">RandomForestRegressor</label><div class=\"sk-toggleable__content\"><pre>RandomForestRegressor(min_samples_leaf=0.1, min_samples_split=0.2,\n",
       "                      n_estimators=3, random_state=42)</pre></div></div></div></div></div>"
      ],
      "text/plain": [
       "RandomForestRegressor(min_samples_leaf=0.1, min_samples_split=0.2,\n",
       "                      n_estimators=3, random_state=42)"
      ]
     },
     "execution_count": 7,
     "metadata": {},
     "output_type": "execute_result"
    }
   ],
   "source": [
    "# train rf simple\n",
    "param_n_trees = 3\n",
    "rf_simple = RandomForestRegressor(n_estimators = param_n_trees,\n",
    "                                  random_state = 42,\n",
    "                                 min_samples_split = 0.2,\n",
    "                                    min_samples_leaf = 0.1)\n",
    "                                   #max_depth = 2)\n",
    "rf_simple.fit(X_train, y_train)"
   ]
  },
  {
   "cell_type": "code",
   "execution_count": 8,
   "id": "0a36b55e-535c-43fa-b2f3-1a8563e5a7cb",
   "metadata": {},
   "outputs": [
    {
     "name": "stdout",
     "output_type": "stream",
     "text": [
      "r2_train:  0.45686524868931044\n",
      "r2_test:  0.43402741471810513\n"
     ]
    }
   ],
   "source": [
    "# r2 score\n",
    "r2_rf_simple_train = rf_simple.score(X_train, y_train)\n",
    "r2_rf_simple_test = rf_simple.score(X_test, y_test)\n",
    "\n",
    "print('r2_train: ', r2_rf_simple_train)\n",
    "print('r2_test: ', r2_rf_simple_test)"
   ]
  },
  {
   "cell_type": "markdown",
   "id": "2449693d-f28f-4da8-a5c5-2ed858cafd6d",
   "metadata": {},
   "source": [
    "#### 2.3 Random Forest Default"
   ]
  },
  {
   "cell_type": "code",
   "execution_count": 9,
   "id": "73836b99-6b99-4451-a35e-e04fe3d054c6",
   "metadata": {},
   "outputs": [
    {
     "data": {
      "text/html": [
       "<style>#sk-container-id-3 {color: black;}#sk-container-id-3 pre{padding: 0;}#sk-container-id-3 div.sk-toggleable {background-color: white;}#sk-container-id-3 label.sk-toggleable__label {cursor: pointer;display: block;width: 100%;margin-bottom: 0;padding: 0.3em;box-sizing: border-box;text-align: center;}#sk-container-id-3 label.sk-toggleable__label-arrow:before {content: \"▸\";float: left;margin-right: 0.25em;color: #696969;}#sk-container-id-3 label.sk-toggleable__label-arrow:hover:before {color: black;}#sk-container-id-3 div.sk-estimator:hover label.sk-toggleable__label-arrow:before {color: black;}#sk-container-id-3 div.sk-toggleable__content {max-height: 0;max-width: 0;overflow: hidden;text-align: left;background-color: #f0f8ff;}#sk-container-id-3 div.sk-toggleable__content pre {margin: 0.2em;color: black;border-radius: 0.25em;background-color: #f0f8ff;}#sk-container-id-3 input.sk-toggleable__control:checked~div.sk-toggleable__content {max-height: 200px;max-width: 100%;overflow: auto;}#sk-container-id-3 input.sk-toggleable__control:checked~label.sk-toggleable__label-arrow:before {content: \"▾\";}#sk-container-id-3 div.sk-estimator input.sk-toggleable__control:checked~label.sk-toggleable__label {background-color: #d4ebff;}#sk-container-id-3 div.sk-label input.sk-toggleable__control:checked~label.sk-toggleable__label {background-color: #d4ebff;}#sk-container-id-3 input.sk-hidden--visually {border: 0;clip: rect(1px 1px 1px 1px);clip: rect(1px, 1px, 1px, 1px);height: 1px;margin: -1px;overflow: hidden;padding: 0;position: absolute;width: 1px;}#sk-container-id-3 div.sk-estimator {font-family: monospace;background-color: #f0f8ff;border: 1px dotted black;border-radius: 0.25em;box-sizing: border-box;margin-bottom: 0.5em;}#sk-container-id-3 div.sk-estimator:hover {background-color: #d4ebff;}#sk-container-id-3 div.sk-parallel-item::after {content: \"\";width: 100%;border-bottom: 1px solid gray;flex-grow: 1;}#sk-container-id-3 div.sk-label:hover label.sk-toggleable__label {background-color: #d4ebff;}#sk-container-id-3 div.sk-serial::before {content: \"\";position: absolute;border-left: 1px solid gray;box-sizing: border-box;top: 0;bottom: 0;left: 50%;z-index: 0;}#sk-container-id-3 div.sk-serial {display: flex;flex-direction: column;align-items: center;background-color: white;padding-right: 0.2em;padding-left: 0.2em;position: relative;}#sk-container-id-3 div.sk-item {position: relative;z-index: 1;}#sk-container-id-3 div.sk-parallel {display: flex;align-items: stretch;justify-content: center;background-color: white;position: relative;}#sk-container-id-3 div.sk-item::before, #sk-container-id-3 div.sk-parallel-item::before {content: \"\";position: absolute;border-left: 1px solid gray;box-sizing: border-box;top: 0;bottom: 0;left: 50%;z-index: -1;}#sk-container-id-3 div.sk-parallel-item {display: flex;flex-direction: column;z-index: 1;position: relative;background-color: white;}#sk-container-id-3 div.sk-parallel-item:first-child::after {align-self: flex-end;width: 50%;}#sk-container-id-3 div.sk-parallel-item:last-child::after {align-self: flex-start;width: 50%;}#sk-container-id-3 div.sk-parallel-item:only-child::after {width: 0;}#sk-container-id-3 div.sk-dashed-wrapped {border: 1px dashed gray;margin: 0 0.4em 0.5em 0.4em;box-sizing: border-box;padding-bottom: 0.4em;background-color: white;}#sk-container-id-3 div.sk-label label {font-family: monospace;font-weight: bold;display: inline-block;line-height: 1.2em;}#sk-container-id-3 div.sk-label-container {text-align: center;}#sk-container-id-3 div.sk-container {/* jupyter's `normalize.less` sets `[hidden] { display: none; }` but bootstrap.min.css set `[hidden] { display: none !important; }` so we also need the `!important` here to be able to override the default hidden behavior on the sphinx rendered scikit-learn.org. See: https://github.com/scikit-learn/scikit-learn/issues/21755 */display: inline-block !important;position: relative;}#sk-container-id-3 div.sk-text-repr-fallback {display: none;}</style><div id=\"sk-container-id-3\" class=\"sk-top-container\"><div class=\"sk-text-repr-fallback\"><pre>RandomForestRegressor(random_state=42)</pre><b>In a Jupyter environment, please rerun this cell to show the HTML representation or trust the notebook. <br />On GitHub, the HTML representation is unable to render, please try loading this page with nbviewer.org.</b></div><div class=\"sk-container\" hidden><div class=\"sk-item\"><div class=\"sk-estimator sk-toggleable\"><input class=\"sk-toggleable__control sk-hidden--visually\" id=\"sk-estimator-id-3\" type=\"checkbox\" checked><label for=\"sk-estimator-id-3\" class=\"sk-toggleable__label sk-toggleable__label-arrow\">RandomForestRegressor</label><div class=\"sk-toggleable__content\"><pre>RandomForestRegressor(random_state=42)</pre></div></div></div></div></div>"
      ],
      "text/plain": [
       "RandomForestRegressor(random_state=42)"
      ]
     },
     "execution_count": 9,
     "metadata": {},
     "output_type": "execute_result"
    }
   ],
   "source": [
    "# train rf default hiperparameters\n",
    "rf_default = RandomForestRegressor(random_state = 42)\n",
    "rf_default.fit(X_train, y_train)"
   ]
  },
  {
   "cell_type": "code",
   "execution_count": 10,
   "id": "aff76cba-0613-4a19-b3db-495f2c50d036",
   "metadata": {},
   "outputs": [
    {
     "name": "stdout",
     "output_type": "stream",
     "text": [
      "r2_train:  0.9742324992188779\n",
      "r2_test:  0.8097542157672419\n"
     ]
    }
   ],
   "source": [
    "# r2 score\n",
    "r2_rf_default_train = rf_default.score(X_train, y_train)\n",
    "r2_rf_default_test = rf_default.score(X_test, y_test)\n",
    "\n",
    "print('r2_train: ', r2_rf_default_train)\n",
    "print('r2_test: ', r2_rf_default_test)"
   ]
  },
  {
   "cell_type": "code",
   "execution_count": null,
   "id": "f107aa9c-0131-4b6e-92bd-30f8e4887ff0",
   "metadata": {},
   "outputs": [],
   "source": []
  },
  {
   "cell_type": "markdown",
   "id": "71903cc1-0892-4cbe-8e3e-4b0a08f5a2f3",
   "metadata": {},
   "source": [
    "### 3. ALIBI - Transform data - To use alibi it is neccesary the data need to be in format np.array()"
   ]
  },
  {
   "cell_type": "code",
   "execution_count": 12,
   "id": "730d5a5a-3c17-4f8d-8747-bcd6e4078829",
   "metadata": {},
   "outputs": [],
   "source": [
    "# transform data into numpy array\n",
    "X_train_numpy = X_train.to_numpy()\n",
    "y_train_numpy = y_train.to_numpy()\n",
    "\n",
    "X_test_numpy = X_test.to_numpy()\n",
    "y_test_numpy = y_test.to_numpy()"
   ]
  },
  {
   "cell_type": "code",
   "execution_count": null,
   "id": "124dc0f7-0a1b-4fac-82a9-2571d02f6453",
   "metadata": {},
   "outputs": [],
   "source": []
  },
  {
   "cell_type": "markdown",
   "id": "5430f520-63ef-42f6-9be1-25d715063aa5",
   "metadata": {},
   "source": [
    "### 4. ALIBI - ALE - Accumulated local effects"
   ]
  },
  {
   "cell_type": "code",
   "execution_count": 13,
   "id": "1f2f05e0-e117-4b28-9084-c3f1b003e1a3",
   "metadata": {},
   "outputs": [
    {
     "data": {
      "text/plain": [
       "['AveBedrms',\n",
       " 'HouseAge',\n",
       " 'Population',\n",
       " 'MedInc',\n",
       " 'Latitude',\n",
       " 'AveRooms',\n",
       " 'AveOccup',\n",
       " 'Longitude']"
      ]
     },
     "execution_count": 13,
     "metadata": {},
     "output_type": "execute_result"
    }
   ],
   "source": [
    "# list features\n",
    "list_features"
   ]
  },
  {
   "cell_type": "code",
   "execution_count": 14,
   "id": "20055d2c-031b-4b85-9b60-1c551d9b3c7d",
   "metadata": {},
   "outputs": [],
   "source": [
    "# target into format list\n",
    "list_target = [target]"
   ]
  },
  {
   "cell_type": "code",
   "execution_count": null,
   "id": "d37a4259-c841-4f77-9e5a-891038091c23",
   "metadata": {},
   "outputs": [],
   "source": []
  }
 ],
 "metadata": {
  "kernelspec": {
   "display_name": "Python 3 (ipykernel)",
   "language": "python",
   "name": "python3"
  },
  "language_info": {
   "codemirror_mode": {
    "name": "ipython",
    "version": 3
   },
   "file_extension": ".py",
   "mimetype": "text/x-python",
   "name": "python",
   "nbconvert_exporter": "python",
   "pygments_lexer": "ipython3",
   "version": "3.10.12"
  }
 },
 "nbformat": 4,
 "nbformat_minor": 5
}
