{
 "cells": [
  {
   "cell_type": "code",
   "execution_count": null,
   "id": "FATcVrU120Ba",
   "metadata": {
    "colab": {
     "base_uri": "https://localhost:8080/"
    },
    "id": "FATcVrU120Ba",
    "outputId": "85f3d465-311d-4a2a-a951-63eb5a834a6e"
   },
   "outputs": [],
   "source": [
    "!pip install shap"
   ]
  },
  {
   "cell_type": "code",
   "execution_count": null,
   "id": "cubic-opera",
   "metadata": {
    "id": "cubic-opera"
   },
   "outputs": [],
   "source": [
    "import warnings\n",
    "warnings.filterwarnings(\"ignore\")\n",
    "import sklearn\n",
    "from sklearn.feature_extraction.text import TfidfVectorizer\n",
    "from sklearn.model_selection import train_test_split\n",
    "import numpy as np\n",
    "import shap"
   ]
  },
  {
   "cell_type": "code",
   "execution_count": null,
   "id": "german-buffalo",
   "metadata": {
    "id": "german-buffalo"
   },
   "outputs": [],
   "source": [
    "import pandas as pd\n",
    "from keras.datasets import imdb"
   ]
  },
  {
   "cell_type": "code",
   "execution_count": null,
   "id": "HWCebcMq27sn",
   "metadata": {
    "id": "HWCebcMq27sn"
   },
   "outputs": [],
   "source": [
    "corpus,y = shap.datasets.imdb()\n",
    "corpus_train, corpus_test, y_train, y_test = train_test_split(corpus, y, test_size=0.2, random_state=7)\n",
    "\n",
    "vectorizer = TfidfVectorizer(min_df=10)\n",
    "X_train = vectorizer.fit_transform(corpus_train).toarray() # sparse also works but Explanation slicing is not yet supported\n",
    "X_test = vectorizer.transform(corpus_test).toarray()"
   ]
  },
  {
   "cell_type": "code",
   "execution_count": null,
   "id": "detailed-blond",
   "metadata": {
    "colab": {
     "base_uri": "https://localhost:8080/",
     "height": 143
    },
    "id": "detailed-blond",
    "outputId": "97db044b-6c29-4e8f-9bee-463cb2a18388"
   },
   "outputs": [],
   "source": [
    "corpus_train[20]"
   ]
  },
  {
   "cell_type": "code",
   "execution_count": null,
   "id": "1iAJlcnP3Ptr",
   "metadata": {
    "colab": {
     "base_uri": "https://localhost:8080/"
    },
    "id": "1iAJlcnP3Ptr",
    "outputId": "54e52427-0e10-4232-db11-40513bdabba3"
   },
   "outputs": [],
   "source": [
    "y"
   ]
  },
  {
   "cell_type": "code",
   "execution_count": null,
   "id": "FZAyqkDU3eKG",
   "metadata": {
    "colab": {
     "base_uri": "https://localhost:8080/"
    },
    "id": "FZAyqkDU3eKG",
    "outputId": "e0063425-96c2-41ae-a822-64197cdd8e68"
   },
   "outputs": [],
   "source": [
    "model = sklearn.linear_model.LogisticRegression(penalty=\"l2\", C=0.1)\n",
    "model.fit(X_train, y_train)"
   ]
  },
  {
   "cell_type": "code",
   "execution_count": null,
   "id": "vp2-jBeB3i6P",
   "metadata": {
    "id": "vp2-jBeB3i6P"
   },
   "outputs": [],
   "source": [
    "explainer = shap.Explainer(model, X_train, feature_names=vectorizer.get_feature_names())\n",
    "shap_values = explainer(X_test)"
   ]
  },
  {
   "cell_type": "code",
   "execution_count": null,
   "id": "dIVGfvqV5a8f",
   "metadata": {
    "colab": {
     "base_uri": "https://localhost:8080/",
     "height": 693
    },
    "id": "dIVGfvqV5a8f",
    "outputId": "38ae0702-3dff-4680-addd-529d1d1a09a1"
   },
   "outputs": [],
   "source": [
    "shap.summary_plot(shap_values, X_test)"
   ]
  },
  {
   "cell_type": "code",
   "execution_count": null,
   "id": "g9Wluzjp3i39",
   "metadata": {
    "colab": {
     "base_uri": "https://localhost:8080/",
     "height": 368
    },
    "id": "g9Wluzjp3i39",
    "outputId": "06a21027-c8e4-498c-96cd-8b6e236e4fc6"
   },
   "outputs": [],
   "source": [
    "shap.plots.beeswarm(shap_values)"
   ]
  },
  {
   "cell_type": "code",
   "execution_count": null,
   "id": "pyoXmPMe5tK4",
   "metadata": {
    "colab": {
     "base_uri": "https://localhost:8080/"
    },
    "id": "pyoXmPMe5tK4",
    "outputId": "b63c2ff0-180f-4fa3-9af3-2a276a3ac50f"
   },
   "outputs": [],
   "source": [
    "names = vectorizer.get_feature_names()\n",
    "names[200:240]"
   ]
  },
  {
   "cell_type": "code",
   "execution_count": null,
   "id": "BwPw7OYQ5tNj",
   "metadata": {
    "colab": {
     "base_uri": "https://localhost:8080/",
     "height": 424
    },
    "id": "BwPw7OYQ5tNj",
    "outputId": "9e80f086-45be-4a52-ef15-e7fcbe341275"
   },
   "outputs": [],
   "source": [
    "pd.DataFrame(X_train,columns=names)"
   ]
  },
  {
   "cell_type": "code",
   "execution_count": null,
   "id": "tlND-yVa3i0-",
   "metadata": {
    "colab": {
     "base_uri": "https://localhost:8080/",
     "height": 69
    },
    "id": "tlND-yVa3i0-",
    "outputId": "b852d122-9364-434d-a0cf-e230d1075339"
   },
   "outputs": [],
   "source": [
    "ind = 0\n",
    "shap.plots.force(shap_values[ind])"
   ]
  },
  {
   "cell_type": "code",
   "execution_count": null,
   "id": "BkdCGmHc3ixY",
   "metadata": {
    "colab": {
     "base_uri": "https://localhost:8080/"
    },
    "id": "BkdCGmHc3ixY",
    "outputId": "c303c4f2-561d-45c7-a461-602f2d9d277b"
   },
   "outputs": [],
   "source": [
    "print(\"Positive\" if y_test[ind] else \"Negative\", \"Review:\")\n",
    "print(corpus_test[ind])"
   ]
  },
  {
   "cell_type": "code",
   "execution_count": null,
   "id": "operating-university",
   "metadata": {
    "colab": {
     "base_uri": "https://localhost:8080/"
    },
    "id": "operating-university",
    "outputId": "a7762459-0a34-4f7d-8bd8-59105e1ee2fc"
   },
   "outputs": [],
   "source": [
    "!pip install eli5"
   ]
  },
  {
   "cell_type": "code",
   "execution_count": null,
   "id": "humanitarian-pickup",
   "metadata": {
    "colab": {
     "base_uri": "https://localhost:8080/",
     "height": 298
    },
    "id": "humanitarian-pickup",
    "outputId": "64c9860f-c70b-4901-8f2c-c5355e8859d1"
   },
   "outputs": [],
   "source": [
    "import eli5\n",
    "eli5.show_weights(model, top=10) #this result is not meaningful, as weight and feature names are not there"
   ]
  },
  {
   "cell_type": "code",
   "execution_count": null,
   "id": "listed-trinity",
   "metadata": {
    "colab": {
     "base_uri": "https://localhost:8080/",
     "height": 471
    },
    "id": "listed-trinity",
    "outputId": "10cccf76-9bba-46ed-f5ab-4cabda88a70a"
   },
   "outputs": [],
   "source": [
    "eli5.show_weights(model,feature_names=vectorizer.get_feature_names(),target_names=['Negative','Positive']) \n",
    "#make sense"
   ]
  },
  {
   "cell_type": "code",
   "execution_count": null,
   "id": "supreme-grain",
   "metadata": {
    "colab": {
     "base_uri": "https://localhost:8080/",
     "height": 222
    },
    "id": "supreme-grain",
    "outputId": "a2cf3504-e6b3-4ea0-e034-6f8587ff1f99"
   },
   "outputs": [],
   "source": [
    "eli5.show_prediction(model, corpus_train[3], vec=vectorizer,\n",
    "                     target_names=['Nagative','Positive']) # explain local prediction"
   ]
  },
  {
   "cell_type": "code",
   "execution_count": null,
   "id": "romance-matrix",
   "metadata": {
    "colab": {
     "base_uri": "https://localhost:8080/",
     "height": 204
    },
    "id": "romance-matrix",
    "outputId": "b892f439-962c-4b2f-f529-191960875dc2"
   },
   "outputs": [],
   "source": [
    "eli5.show_prediction(model, corpus_train[4], vec=vectorizer,\n",
    "                     target_names=['Nagative','Positive']) # explain local prediction"
   ]
  },
  {
   "cell_type": "code",
   "execution_count": null,
   "id": "cognitive-singles",
   "metadata": {
    "colab": {
     "base_uri": "https://localhost:8080/",
     "height": 308
    },
    "id": "cognitive-singles",
    "outputId": "a855080c-1697-4757-a9ac-eb00ef019ea0"
   },
   "outputs": [],
   "source": [
    "eli5.show_prediction(model, corpus_train[101], vec=vectorizer,\n",
    "                     target_names=['Nagative','Positive']) # explain local prediction"
   ]
  },
  {
   "cell_type": "code",
   "execution_count": null,
   "id": "therapeutic-respect",
   "metadata": {
    "id": "therapeutic-respect"
   },
   "outputs": [],
   "source": [
    "# the BIAS is the intercept term from the model"
   ]
  },
  {
   "cell_type": "code",
   "execution_count": null,
   "id": "tamil-explorer",
   "metadata": {
    "id": "tamil-explorer"
   },
   "outputs": [],
   "source": [
    "# the above approach uses a bag of words vectorizer and a linear classifier"
   ]
  },
  {
   "cell_type": "code",
   "execution_count": null,
   "id": "center-egyptian",
   "metadata": {
    "id": "center-egyptian"
   },
   "outputs": [],
   "source": [
    "# for other classifiers the feature selection could be harder"
   ]
  },
  {
   "cell_type": "code",
   "execution_count": null,
   "id": "inside-hierarchy",
   "metadata": {
    "id": "inside-hierarchy"
   },
   "outputs": [],
   "source": [
    "# Improvement in Modeling pipeline to make more sense out of text classification"
   ]
  }
 ],
 "metadata": {
  "colab": {
   "collapsed_sections": [],
   "provenance": []
  },
  "kernelspec": {
   "display_name": "Python 3 (ipykernel)",
   "language": "python",
   "name": "python3"
  },
  "language_info": {
   "codemirror_mode": {
    "name": "ipython",
    "version": 3
   },
   "file_extension": ".py",
   "mimetype": "text/x-python",
   "name": "python",
   "nbconvert_exporter": "python",
   "pygments_lexer": "ipython3",
   "version": "3.10.14"
  }
 },
 "nbformat": 4,
 "nbformat_minor": 5
}
