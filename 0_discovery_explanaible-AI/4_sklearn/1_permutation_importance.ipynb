{
 "cells": [
  {
   "cell_type": "markdown",
   "id": "09719c78-72fe-4225-bbde-add89df38d85",
   "metadata": {},
   "source": [
    "# Explanaible AI - Permutation Importance - sklearn\n",
    "Sklean offer a a method to calculate **permutation importance**. \n",
    "\n",
    "**It shoud be similar to the Permutation Importance offer by eli5** (remember eli5 return and error importing the package, probably because it is too old) (last update 11 may 2022)\n",
    "\n",
    "#### Link sklearn:\n",
    "- Documentation code: https://scikit-learn.org/stable/modules/generated/sklearn.inspection.permutation_importance.html#rd9e56ef97513-bre\n",
    "- User Guide Permutation Importance: https://scikit-learn.org/stable/modules/permutation_importance.html#permutation-importance\n",
    "\n",
    "#### Link eli5:\n",
    "- https://pypi.org/project/eli5/"
   ]
  },
  {
   "cell_type": "code",
   "execution_count": null,
   "id": "bd97a354-aae7-495a-93e7-bd2902da44ba",
   "metadata": {},
   "outputs": [],
   "source": []
  },
  {
   "cell_type": "code",
   "execution_count": 1,
   "id": "7dc67167-5e45-4af0-b038-909f397bcb57",
   "metadata": {},
   "outputs": [],
   "source": [
    "import warnings\n",
    "warnings.filterwarnings('ignore')\n",
    "\n",
    "import pandas as pd\n",
    "import numpy as np\n",
    "import pickle\n",
    "import matplotlib.pyplot as plt\n",
    "import sklearn\n",
    "\n",
    "import plotly.graph_objs as go\n",
    "from plotly.subplots import make_subplots\n",
    "import plotly.express as px\n",
    "\n",
    "# shap\n",
    "import shap\n",
    "\n",
    "# models\n",
    "from sklearn.linear_model import LinearRegression # lr\n",
    "from sklearn.linear_model import Ridge # ridge\n",
    "from sklearn.linear_model import Lasso # lasso\n",
    "from sklearn.tree import DecisionTreeRegressor # tree\n",
    "from sklearn.ensemble import GradientBoostingRegressor #gb\n",
    "from sklearn.ensemble import RandomForestRegressor #rf\n",
    "from xgboost import XGBRegressor # xgb\n",
    "from  sklearn.neural_network import MLPRegressor # mlp"
   ]
  },
  {
   "cell_type": "code",
   "execution_count": null,
   "id": "4f80f0d0-b072-4cd2-962f-7f759e5eb22b",
   "metadata": {},
   "outputs": [],
   "source": []
  },
  {
   "cell_type": "markdown",
   "id": "f6aa1ab2-2006-4d8a-abf7-7bcc23599b56",
   "metadata": {},
   "source": [
    "### Explication\n",
    "Índice:\n",
    "- 1) Qué es permutation Importance\n",
    "- 2) Cómo se calcula\n",
    "- 3) Entendimiento de los valores obtenidos. Alta/Baja importancia\n",
    "- 4) Calcular Permutation Importance es transversal independiente el modelo\n",
    "- 5) Otro uso, analizar performance de un modelo agregando variables random (ruido)\n",
    "- 6) Obtener primero un buen modelo. Luego calcular Importancias"
   ]
  },
  {
   "cell_type": "markdown",
   "id": "820cf510-b6ca-46d6-9782-980a5dc8cd41",
   "metadata": {},
   "source": [
    "1. La importancia de la característica de permutación es una técnica de inspección de modelos que mide la **contribución de cada característica al rendimiento de un modelo** ajustado en un conjunto de datos tabulares determinado. \n",
    "\n",
    "2. Esta técnica es particularmente útil para estimadores no lineales u opacos e **implica mezclar aleatoriamente los valores de una sola característica y observar la degradación resultante de la puntuación del modelo. Al romper la relación entre la característica y el objetivo, determinamos en qué medida el modelo depende de esa característica en particular**\r\n",
    "3. **Si la perturbación de una feature rompe la correlación entre la feature y el target, el rendimiento del modelo disminuye (se obtiene peores métricas).** Por el contrario, si la perturbación de una feaure no degrada significativamente el rendimiento del modelo, es una feature no predictiva\n",
    "\n",
    "4. **Una ventaja clave de la importancia de la característica de permutación es que es independiente del modelo, es decir, se puede aplicar a cualquier estimador ajustado. Además, se puede calcular varias veces con diferentes permutaciones de la característica, lo que proporciona además una medida de la varianza en las importancias estimadas de las características para el modelo entrenado específico.**\n",
    "\n",
    "5. También se puede utilizar para **analizar cómo funciona un modelo agregando variables random (ruido)**. La idea es que el modelo no reconozca como features más importantes las feautures que son ruido porque significaría que el modelo es muy malo, o muy complejo que es capaz de predecir sobreajustando el ruido\n",
    "\n",
    "6. **Advertencia importancia de features de un mal modelo**. Las características que se consideran de baja importancia para un mal modelo (puntuación de validación cruzada baja) podrían ser muy importantes para un buen modelo . Por lo tanto, siempre es importante evaluar el poder predictivo de un modelo utilizando un conjunto reservado (o mejor con validación cruzada) antes de calcular las importancias. La importancia de la permutación no refleja el valor predictivo intrínseco de una característica en sí misma, sino la importancia de esta característica para un modelo en particularo."
   ]
  },
  {
   "cell_type": "markdown",
   "id": "063dea4a-1bed-4191-b206-de71b1b12c62",
   "metadata": {},
   "source": [
    "#### TODO: the sum of values of permutation importance are the metric?\n",
    "Because to calculate the value of permutation importance is generated changing the values of the feature and calculate the metric. An doing this it is possible to see how the performance of the model get worse.\n",
    "\n",
    "**According the documentation, each value returned in permutation importance is the evaluation of the metric with the corrupted data**"
   ]
  },
  {
   "cell_type": "code",
   "execution_count": null,
   "id": "c8307a4a-0758-425b-8edc-344b3cab4411",
   "metadata": {},
   "outputs": [],
   "source": []
  },
  {
   "cell_type": "code",
   "execution_count": null,
   "id": "1dbd3b6b-8b97-433a-a5c3-4056bc0bf3e5",
   "metadata": {},
   "outputs": [],
   "source": []
  },
  {
   "cell_type": "code",
   "execution_count": 2,
   "id": "83499f84-4bd3-4d00-8d04-5dc3ca79d3fd",
   "metadata": {},
   "outputs": [],
   "source": [
    "import warnings\n",
    "warnings.filterwarnings('ignore')\n",
    "\n",
    "import pandas as pd\n",
    "import numpy as np\n",
    "import pickle\n",
    "import matplotlib.pyplot as plt\n",
    "import sklearn\n",
    "\n",
    "import plotly.graph_objs as go\n",
    "from plotly.subplots import make_subplots\n",
    "import plotly.express as px\n",
    "\n",
    "# data\n",
    "from sklearn.datasets import fetch_california_housing\n",
    "from sklearn.model_selection import train_test_split\n",
    "\n",
    "# models\n",
    "from sklearn.linear_model import LinearRegression # lr\n",
    "from sklearn.linear_model import Ridge # ridge\n",
    "from sklearn.linear_model import Lasso # lasso\n",
    "from sklearn.tree import DecisionTreeRegressor # tree\n",
    "from sklearn.ensemble import GradientBoostingRegressor #gb\n",
    "from sklearn.ensemble import RandomForestRegressor #rf\n",
    "from xgboost import XGBRegressor # xgb\n",
    "from  sklearn.neural_network import MLPRegressor # mlp\n",
    "\n",
    "# permutation importance\n",
    "from sklearn.inspection import permutation_importance"
   ]
  },
  {
   "cell_type": "code",
   "execution_count": null,
   "id": "1732bdb5-9489-4e23-9db2-138f7831c377",
   "metadata": {},
   "outputs": [],
   "source": []
  },
  {
   "cell_type": "markdown",
   "id": "b1c92a18-a304-49ce-b2e4-99f71c8a59cd",
   "metadata": {},
   "source": [
    "### 1. Load data"
   ]
  },
  {
   "cell_type": "code",
   "execution_count": 3,
   "id": "3d4e8408-c3eb-4a0c-b540-b5b39bddc182",
   "metadata": {},
   "outputs": [],
   "source": [
    "##### load data\n",
    "data_X, data_y = fetch_california_housing(return_X_y=True, as_frame=True)\n",
    "\n",
    "##### joinn and rename dataset\n",
    "data = data_X.copy()\n",
    "data['Price'] = data_y\n",
    "\n",
    "##### dropduplicates - some kind of plots in plotly return error with duplicated values\n",
    "data = data.drop_duplicates()\n",
    "\n",
    "##### delete outliers\n",
    "percentil_lower = data.quantile(0.01)\n",
    "percentil_upper = data.quantile(0.99)\n",
    "\n",
    "data_raw = data[(data >= percentil_lower) & (data <= percentil_upper)]\n",
    "data_raw.dropna(inplace = True)\n",
    "\n",
    "\n",
    "##### split into train/test\n",
    "target = 'Price'\n",
    "list_features = list(set(data_raw.columns) - set([target]))\n",
    "\n",
    "X_train, X_test, y_train, y_test = train_test_split(data_raw[list_features], \n",
    "                                                    data_raw[[target]], \n",
    "                                                    test_size = 0.2, \n",
    "                                                    random_state=42\n",
    "                                                   )"
   ]
  },
  {
   "cell_type": "code",
   "execution_count": 4,
   "id": "af786edf-a2ef-4e96-87f5-0bf059bb97ce",
   "metadata": {},
   "outputs": [
    {
     "data": {
      "text/plain": [
       "['Longitude',\n",
       " 'Population',\n",
       " 'Latitude',\n",
       " 'AveBedrms',\n",
       " 'HouseAge',\n",
       " 'MedInc',\n",
       " 'AveRooms',\n",
       " 'AveOccup']"
      ]
     },
     "execution_count": 4,
     "metadata": {},
     "output_type": "execute_result"
    }
   ],
   "source": [
    "list_features"
   ]
  },
  {
   "cell_type": "code",
   "execution_count": 5,
   "id": "adc5609e-ea83-422d-8d8c-f78173bb933d",
   "metadata": {},
   "outputs": [
    {
     "data": {
      "text/html": [
       "<div>\n",
       "<style scoped>\n",
       "    .dataframe tbody tr th:only-of-type {\n",
       "        vertical-align: middle;\n",
       "    }\n",
       "\n",
       "    .dataframe tbody tr th {\n",
       "        vertical-align: top;\n",
       "    }\n",
       "\n",
       "    .dataframe thead th {\n",
       "        text-align: right;\n",
       "    }\n",
       "</style>\n",
       "<table border=\"1\" class=\"dataframe\">\n",
       "  <thead>\n",
       "    <tr style=\"text-align: right;\">\n",
       "      <th></th>\n",
       "      <th>Longitude</th>\n",
       "      <th>Population</th>\n",
       "      <th>Latitude</th>\n",
       "      <th>AveBedrms</th>\n",
       "      <th>HouseAge</th>\n",
       "      <th>MedInc</th>\n",
       "      <th>AveRooms</th>\n",
       "      <th>AveOccup</th>\n",
       "    </tr>\n",
       "  </thead>\n",
       "  <tbody>\n",
       "    <tr>\n",
       "      <th>5712</th>\n",
       "      <td>-118.24</td>\n",
       "      <td>926.0</td>\n",
       "      <td>34.22</td>\n",
       "      <td>1.094340</td>\n",
       "      <td>34.0</td>\n",
       "      <td>4.1523</td>\n",
       "      <td>4.641509</td>\n",
       "      <td>2.495957</td>\n",
       "    </tr>\n",
       "    <tr>\n",
       "      <th>15731</th>\n",
       "      <td>-122.44</td>\n",
       "      <td>1588.0</td>\n",
       "      <td>37.78</td>\n",
       "      <td>1.063750</td>\n",
       "      <td>52.0</td>\n",
       "      <td>3.3882</td>\n",
       "      <td>3.771250</td>\n",
       "      <td>1.985000</td>\n",
       "    </tr>\n",
       "    <tr>\n",
       "      <th>2894</th>\n",
       "      <td>-118.99</td>\n",
       "      <td>743.0</td>\n",
       "      <td>35.37</td>\n",
       "      <td>0.990991</td>\n",
       "      <td>38.0</td>\n",
       "      <td>1.7292</td>\n",
       "      <td>4.135135</td>\n",
       "      <td>3.346847</td>\n",
       "    </tr>\n",
       "    <tr>\n",
       "      <th>3333</th>\n",
       "      <td>-122.62</td>\n",
       "      <td>249.0</td>\n",
       "      <td>38.92</td>\n",
       "      <td>1.055046</td>\n",
       "      <td>13.0</td>\n",
       "      <td>1.8417</td>\n",
       "      <td>4.770642</td>\n",
       "      <td>2.284404</td>\n",
       "    </tr>\n",
       "    <tr>\n",
       "      <th>8410</th>\n",
       "      <td>-118.35</td>\n",
       "      <td>2649.0</td>\n",
       "      <td>33.93</td>\n",
       "      <td>1.026738</td>\n",
       "      <td>33.0</td>\n",
       "      <td>2.3375</td>\n",
       "      <td>3.636364</td>\n",
       "      <td>4.721925</td>\n",
       "    </tr>\n",
       "  </tbody>\n",
       "</table>\n",
       "</div>"
      ],
      "text/plain": [
       "       Longitude  Population  Latitude  AveBedrms  HouseAge  MedInc  AveRooms  \\\n",
       "5712     -118.24       926.0     34.22   1.094340      34.0  4.1523  4.641509   \n",
       "15731    -122.44      1588.0     37.78   1.063750      52.0  3.3882  3.771250   \n",
       "2894     -118.99       743.0     35.37   0.990991      38.0  1.7292  4.135135   \n",
       "3333     -122.62       249.0     38.92   1.055046      13.0  1.8417  4.770642   \n",
       "8410     -118.35      2649.0     33.93   1.026738      33.0  2.3375  3.636364   \n",
       "\n",
       "       AveOccup  \n",
       "5712   2.495957  \n",
       "15731  1.985000  \n",
       "2894   3.346847  \n",
       "3333   2.284404  \n",
       "8410   4.721925  "
      ]
     },
     "execution_count": 5,
     "metadata": {},
     "output_type": "execute_result"
    }
   ],
   "source": [
    "X_train.head()"
   ]
  },
  {
   "cell_type": "code",
   "execution_count": null,
   "id": "0cdc8f53-fa1f-44c9-99a2-7da1a4d5efc9",
   "metadata": {},
   "outputs": [],
   "source": []
  },
  {
   "cell_type": "markdown",
   "id": "cebe38f2-1cdc-4dfb-99f8-63af4bf77c62",
   "metadata": {},
   "source": [
    "### 2. Train models"
   ]
  },
  {
   "cell_type": "markdown",
   "id": "3b43c024-a253-444e-bad3-ad36012ac00e",
   "metadata": {},
   "source": [
    "#### 2.1 Linear regression"
   ]
  },
  {
   "cell_type": "code",
   "execution_count": 6,
   "id": "de66fa80-849b-490e-8383-05314a53bd13",
   "metadata": {},
   "outputs": [
    {
     "data": {
      "text/html": [
       "<style>#sk-container-id-1 {color: black;}#sk-container-id-1 pre{padding: 0;}#sk-container-id-1 div.sk-toggleable {background-color: white;}#sk-container-id-1 label.sk-toggleable__label {cursor: pointer;display: block;width: 100%;margin-bottom: 0;padding: 0.3em;box-sizing: border-box;text-align: center;}#sk-container-id-1 label.sk-toggleable__label-arrow:before {content: \"▸\";float: left;margin-right: 0.25em;color: #696969;}#sk-container-id-1 label.sk-toggleable__label-arrow:hover:before {color: black;}#sk-container-id-1 div.sk-estimator:hover label.sk-toggleable__label-arrow:before {color: black;}#sk-container-id-1 div.sk-toggleable__content {max-height: 0;max-width: 0;overflow: hidden;text-align: left;background-color: #f0f8ff;}#sk-container-id-1 div.sk-toggleable__content pre {margin: 0.2em;color: black;border-radius: 0.25em;background-color: #f0f8ff;}#sk-container-id-1 input.sk-toggleable__control:checked~div.sk-toggleable__content {max-height: 200px;max-width: 100%;overflow: auto;}#sk-container-id-1 input.sk-toggleable__control:checked~label.sk-toggleable__label-arrow:before {content: \"▾\";}#sk-container-id-1 div.sk-estimator input.sk-toggleable__control:checked~label.sk-toggleable__label {background-color: #d4ebff;}#sk-container-id-1 div.sk-label input.sk-toggleable__control:checked~label.sk-toggleable__label {background-color: #d4ebff;}#sk-container-id-1 input.sk-hidden--visually {border: 0;clip: rect(1px 1px 1px 1px);clip: rect(1px, 1px, 1px, 1px);height: 1px;margin: -1px;overflow: hidden;padding: 0;position: absolute;width: 1px;}#sk-container-id-1 div.sk-estimator {font-family: monospace;background-color: #f0f8ff;border: 1px dotted black;border-radius: 0.25em;box-sizing: border-box;margin-bottom: 0.5em;}#sk-container-id-1 div.sk-estimator:hover {background-color: #d4ebff;}#sk-container-id-1 div.sk-parallel-item::after {content: \"\";width: 100%;border-bottom: 1px solid gray;flex-grow: 1;}#sk-container-id-1 div.sk-label:hover label.sk-toggleable__label {background-color: #d4ebff;}#sk-container-id-1 div.sk-serial::before {content: \"\";position: absolute;border-left: 1px solid gray;box-sizing: border-box;top: 0;bottom: 0;left: 50%;z-index: 0;}#sk-container-id-1 div.sk-serial {display: flex;flex-direction: column;align-items: center;background-color: white;padding-right: 0.2em;padding-left: 0.2em;position: relative;}#sk-container-id-1 div.sk-item {position: relative;z-index: 1;}#sk-container-id-1 div.sk-parallel {display: flex;align-items: stretch;justify-content: center;background-color: white;position: relative;}#sk-container-id-1 div.sk-item::before, #sk-container-id-1 div.sk-parallel-item::before {content: \"\";position: absolute;border-left: 1px solid gray;box-sizing: border-box;top: 0;bottom: 0;left: 50%;z-index: -1;}#sk-container-id-1 div.sk-parallel-item {display: flex;flex-direction: column;z-index: 1;position: relative;background-color: white;}#sk-container-id-1 div.sk-parallel-item:first-child::after {align-self: flex-end;width: 50%;}#sk-container-id-1 div.sk-parallel-item:last-child::after {align-self: flex-start;width: 50%;}#sk-container-id-1 div.sk-parallel-item:only-child::after {width: 0;}#sk-container-id-1 div.sk-dashed-wrapped {border: 1px dashed gray;margin: 0 0.4em 0.5em 0.4em;box-sizing: border-box;padding-bottom: 0.4em;background-color: white;}#sk-container-id-1 div.sk-label label {font-family: monospace;font-weight: bold;display: inline-block;line-height: 1.2em;}#sk-container-id-1 div.sk-label-container {text-align: center;}#sk-container-id-1 div.sk-container {/* jupyter's `normalize.less` sets `[hidden] { display: none; }` but bootstrap.min.css set `[hidden] { display: none !important; }` so we also need the `!important` here to be able to override the default hidden behavior on the sphinx rendered scikit-learn.org. See: https://github.com/scikit-learn/scikit-learn/issues/21755 */display: inline-block !important;position: relative;}#sk-container-id-1 div.sk-text-repr-fallback {display: none;}</style><div id=\"sk-container-id-1\" class=\"sk-top-container\"><div class=\"sk-text-repr-fallback\"><pre>LinearRegression()</pre><b>In a Jupyter environment, please rerun this cell to show the HTML representation or trust the notebook. <br />On GitHub, the HTML representation is unable to render, please try loading this page with nbviewer.org.</b></div><div class=\"sk-container\" hidden><div class=\"sk-item\"><div class=\"sk-estimator sk-toggleable\"><input class=\"sk-toggleable__control sk-hidden--visually\" id=\"sk-estimator-id-1\" type=\"checkbox\" checked><label for=\"sk-estimator-id-1\" class=\"sk-toggleable__label sk-toggleable__label-arrow\">LinearRegression</label><div class=\"sk-toggleable__content\"><pre>LinearRegression()</pre></div></div></div></div></div>"
      ],
      "text/plain": [
       "LinearRegression()"
      ]
     },
     "execution_count": 6,
     "metadata": {},
     "output_type": "execute_result"
    }
   ],
   "source": [
    "# train lr\n",
    "lr = LinearRegression()\n",
    "lr.fit(X_train, y_train)"
   ]
  },
  {
   "cell_type": "code",
   "execution_count": 7,
   "id": "54b4b946-0f39-4117-a72d-f29eeb84a44a",
   "metadata": {},
   "outputs": [
    {
     "name": "stdout",
     "output_type": "stream",
     "text": [
      "r2_train:  0.6811276939092024\n",
      "r2_test:  0.6813140626891637\n"
     ]
    }
   ],
   "source": [
    "# r2 score\n",
    "r2_lr_train = lr.score(X_train, y_train)\n",
    "r2_lr_test = lr.score(X_test, y_test)\n",
    "\n",
    "print('r2_train: ', r2_lr_train)\n",
    "print('r2_test: ', r2_lr_test)"
   ]
  },
  {
   "cell_type": "code",
   "execution_count": null,
   "id": "54c84fa0-97d4-4ed0-a905-8ad0c3e43abe",
   "metadata": {},
   "outputs": [],
   "source": []
  },
  {
   "cell_type": "markdown",
   "id": "1db39766-635f-4eeb-864b-fec1b8c3bd53",
   "metadata": {},
   "source": [
    "#### 2.2 Random Forest"
   ]
  },
  {
   "cell_type": "code",
   "execution_count": 8,
   "id": "55b68f43-d004-4a0a-8e36-c4db7abc4c8f",
   "metadata": {},
   "outputs": [
    {
     "data": {
      "text/html": [
       "<style>#sk-container-id-2 {color: black;}#sk-container-id-2 pre{padding: 0;}#sk-container-id-2 div.sk-toggleable {background-color: white;}#sk-container-id-2 label.sk-toggleable__label {cursor: pointer;display: block;width: 100%;margin-bottom: 0;padding: 0.3em;box-sizing: border-box;text-align: center;}#sk-container-id-2 label.sk-toggleable__label-arrow:before {content: \"▸\";float: left;margin-right: 0.25em;color: #696969;}#sk-container-id-2 label.sk-toggleable__label-arrow:hover:before {color: black;}#sk-container-id-2 div.sk-estimator:hover label.sk-toggleable__label-arrow:before {color: black;}#sk-container-id-2 div.sk-toggleable__content {max-height: 0;max-width: 0;overflow: hidden;text-align: left;background-color: #f0f8ff;}#sk-container-id-2 div.sk-toggleable__content pre {margin: 0.2em;color: black;border-radius: 0.25em;background-color: #f0f8ff;}#sk-container-id-2 input.sk-toggleable__control:checked~div.sk-toggleable__content {max-height: 200px;max-width: 100%;overflow: auto;}#sk-container-id-2 input.sk-toggleable__control:checked~label.sk-toggleable__label-arrow:before {content: \"▾\";}#sk-container-id-2 div.sk-estimator input.sk-toggleable__control:checked~label.sk-toggleable__label {background-color: #d4ebff;}#sk-container-id-2 div.sk-label input.sk-toggleable__control:checked~label.sk-toggleable__label {background-color: #d4ebff;}#sk-container-id-2 input.sk-hidden--visually {border: 0;clip: rect(1px 1px 1px 1px);clip: rect(1px, 1px, 1px, 1px);height: 1px;margin: -1px;overflow: hidden;padding: 0;position: absolute;width: 1px;}#sk-container-id-2 div.sk-estimator {font-family: monospace;background-color: #f0f8ff;border: 1px dotted black;border-radius: 0.25em;box-sizing: border-box;margin-bottom: 0.5em;}#sk-container-id-2 div.sk-estimator:hover {background-color: #d4ebff;}#sk-container-id-2 div.sk-parallel-item::after {content: \"\";width: 100%;border-bottom: 1px solid gray;flex-grow: 1;}#sk-container-id-2 div.sk-label:hover label.sk-toggleable__label {background-color: #d4ebff;}#sk-container-id-2 div.sk-serial::before {content: \"\";position: absolute;border-left: 1px solid gray;box-sizing: border-box;top: 0;bottom: 0;left: 50%;z-index: 0;}#sk-container-id-2 div.sk-serial {display: flex;flex-direction: column;align-items: center;background-color: white;padding-right: 0.2em;padding-left: 0.2em;position: relative;}#sk-container-id-2 div.sk-item {position: relative;z-index: 1;}#sk-container-id-2 div.sk-parallel {display: flex;align-items: stretch;justify-content: center;background-color: white;position: relative;}#sk-container-id-2 div.sk-item::before, #sk-container-id-2 div.sk-parallel-item::before {content: \"\";position: absolute;border-left: 1px solid gray;box-sizing: border-box;top: 0;bottom: 0;left: 50%;z-index: -1;}#sk-container-id-2 div.sk-parallel-item {display: flex;flex-direction: column;z-index: 1;position: relative;background-color: white;}#sk-container-id-2 div.sk-parallel-item:first-child::after {align-self: flex-end;width: 50%;}#sk-container-id-2 div.sk-parallel-item:last-child::after {align-self: flex-start;width: 50%;}#sk-container-id-2 div.sk-parallel-item:only-child::after {width: 0;}#sk-container-id-2 div.sk-dashed-wrapped {border: 1px dashed gray;margin: 0 0.4em 0.5em 0.4em;box-sizing: border-box;padding-bottom: 0.4em;background-color: white;}#sk-container-id-2 div.sk-label label {font-family: monospace;font-weight: bold;display: inline-block;line-height: 1.2em;}#sk-container-id-2 div.sk-label-container {text-align: center;}#sk-container-id-2 div.sk-container {/* jupyter's `normalize.less` sets `[hidden] { display: none; }` but bootstrap.min.css set `[hidden] { display: none !important; }` so we also need the `!important` here to be able to override the default hidden behavior on the sphinx rendered scikit-learn.org. See: https://github.com/scikit-learn/scikit-learn/issues/21755 */display: inline-block !important;position: relative;}#sk-container-id-2 div.sk-text-repr-fallback {display: none;}</style><div id=\"sk-container-id-2\" class=\"sk-top-container\"><div class=\"sk-text-repr-fallback\"><pre>RandomForestRegressor(min_samples_leaf=0.1, min_samples_split=0.2,\n",
       "                      n_estimators=3, random_state=42)</pre><b>In a Jupyter environment, please rerun this cell to show the HTML representation or trust the notebook. <br />On GitHub, the HTML representation is unable to render, please try loading this page with nbviewer.org.</b></div><div class=\"sk-container\" hidden><div class=\"sk-item\"><div class=\"sk-estimator sk-toggleable\"><input class=\"sk-toggleable__control sk-hidden--visually\" id=\"sk-estimator-id-2\" type=\"checkbox\" checked><label for=\"sk-estimator-id-2\" class=\"sk-toggleable__label sk-toggleable__label-arrow\">RandomForestRegressor</label><div class=\"sk-toggleable__content\"><pre>RandomForestRegressor(min_samples_leaf=0.1, min_samples_split=0.2,\n",
       "                      n_estimators=3, random_state=42)</pre></div></div></div></div></div>"
      ],
      "text/plain": [
       "RandomForestRegressor(min_samples_leaf=0.1, min_samples_split=0.2,\n",
       "                      n_estimators=3, random_state=42)"
      ]
     },
     "execution_count": 8,
     "metadata": {},
     "output_type": "execute_result"
    }
   ],
   "source": [
    "# train rf simple\n",
    "param_n_trees = 3\n",
    "rf_simple = RandomForestRegressor(n_estimators = param_n_trees,\n",
    "                                  random_state = 42,\n",
    "                                 min_samples_split = 0.2,\n",
    "                                    min_samples_leaf = 0.1)\n",
    "                                   #max_depth = 2)\n",
    "rf_simple.fit(X_train, y_train)"
   ]
  },
  {
   "cell_type": "code",
   "execution_count": 9,
   "id": "289b9b04-444d-4f05-ae75-fab8d0466bf0",
   "metadata": {},
   "outputs": [
    {
     "name": "stdout",
     "output_type": "stream",
     "text": [
      "r2_train:  0.4568652486893102\n",
      "r2_test:  0.434027414718105\n"
     ]
    }
   ],
   "source": [
    "# r2 score\n",
    "r2_rf_simple_train = rf_simple.score(X_train, y_train)\n",
    "r2_rf_simple_test = rf_simple.score(X_test, y_test)\n",
    "\n",
    "print('r2_train: ', r2_rf_simple_train)\n",
    "print('r2_test: ', r2_rf_simple_test)"
   ]
  },
  {
   "cell_type": "markdown",
   "id": "28806f03-75aa-4b83-9d98-e4b2e8a7d408",
   "metadata": {},
   "source": [
    "#### 2.3 Random Forest Default"
   ]
  },
  {
   "cell_type": "code",
   "execution_count": 10,
   "id": "4c090191-c1e1-42cf-b9cd-0980f6dc6c3c",
   "metadata": {},
   "outputs": [
    {
     "data": {
      "text/html": [
       "<style>#sk-container-id-3 {color: black;}#sk-container-id-3 pre{padding: 0;}#sk-container-id-3 div.sk-toggleable {background-color: white;}#sk-container-id-3 label.sk-toggleable__label {cursor: pointer;display: block;width: 100%;margin-bottom: 0;padding: 0.3em;box-sizing: border-box;text-align: center;}#sk-container-id-3 label.sk-toggleable__label-arrow:before {content: \"▸\";float: left;margin-right: 0.25em;color: #696969;}#sk-container-id-3 label.sk-toggleable__label-arrow:hover:before {color: black;}#sk-container-id-3 div.sk-estimator:hover label.sk-toggleable__label-arrow:before {color: black;}#sk-container-id-3 div.sk-toggleable__content {max-height: 0;max-width: 0;overflow: hidden;text-align: left;background-color: #f0f8ff;}#sk-container-id-3 div.sk-toggleable__content pre {margin: 0.2em;color: black;border-radius: 0.25em;background-color: #f0f8ff;}#sk-container-id-3 input.sk-toggleable__control:checked~div.sk-toggleable__content {max-height: 200px;max-width: 100%;overflow: auto;}#sk-container-id-3 input.sk-toggleable__control:checked~label.sk-toggleable__label-arrow:before {content: \"▾\";}#sk-container-id-3 div.sk-estimator input.sk-toggleable__control:checked~label.sk-toggleable__label {background-color: #d4ebff;}#sk-container-id-3 div.sk-label input.sk-toggleable__control:checked~label.sk-toggleable__label {background-color: #d4ebff;}#sk-container-id-3 input.sk-hidden--visually {border: 0;clip: rect(1px 1px 1px 1px);clip: rect(1px, 1px, 1px, 1px);height: 1px;margin: -1px;overflow: hidden;padding: 0;position: absolute;width: 1px;}#sk-container-id-3 div.sk-estimator {font-family: monospace;background-color: #f0f8ff;border: 1px dotted black;border-radius: 0.25em;box-sizing: border-box;margin-bottom: 0.5em;}#sk-container-id-3 div.sk-estimator:hover {background-color: #d4ebff;}#sk-container-id-3 div.sk-parallel-item::after {content: \"\";width: 100%;border-bottom: 1px solid gray;flex-grow: 1;}#sk-container-id-3 div.sk-label:hover label.sk-toggleable__label {background-color: #d4ebff;}#sk-container-id-3 div.sk-serial::before {content: \"\";position: absolute;border-left: 1px solid gray;box-sizing: border-box;top: 0;bottom: 0;left: 50%;z-index: 0;}#sk-container-id-3 div.sk-serial {display: flex;flex-direction: column;align-items: center;background-color: white;padding-right: 0.2em;padding-left: 0.2em;position: relative;}#sk-container-id-3 div.sk-item {position: relative;z-index: 1;}#sk-container-id-3 div.sk-parallel {display: flex;align-items: stretch;justify-content: center;background-color: white;position: relative;}#sk-container-id-3 div.sk-item::before, #sk-container-id-3 div.sk-parallel-item::before {content: \"\";position: absolute;border-left: 1px solid gray;box-sizing: border-box;top: 0;bottom: 0;left: 50%;z-index: -1;}#sk-container-id-3 div.sk-parallel-item {display: flex;flex-direction: column;z-index: 1;position: relative;background-color: white;}#sk-container-id-3 div.sk-parallel-item:first-child::after {align-self: flex-end;width: 50%;}#sk-container-id-3 div.sk-parallel-item:last-child::after {align-self: flex-start;width: 50%;}#sk-container-id-3 div.sk-parallel-item:only-child::after {width: 0;}#sk-container-id-3 div.sk-dashed-wrapped {border: 1px dashed gray;margin: 0 0.4em 0.5em 0.4em;box-sizing: border-box;padding-bottom: 0.4em;background-color: white;}#sk-container-id-3 div.sk-label label {font-family: monospace;font-weight: bold;display: inline-block;line-height: 1.2em;}#sk-container-id-3 div.sk-label-container {text-align: center;}#sk-container-id-3 div.sk-container {/* jupyter's `normalize.less` sets `[hidden] { display: none; }` but bootstrap.min.css set `[hidden] { display: none !important; }` so we also need the `!important` here to be able to override the default hidden behavior on the sphinx rendered scikit-learn.org. See: https://github.com/scikit-learn/scikit-learn/issues/21755 */display: inline-block !important;position: relative;}#sk-container-id-3 div.sk-text-repr-fallback {display: none;}</style><div id=\"sk-container-id-3\" class=\"sk-top-container\"><div class=\"sk-text-repr-fallback\"><pre>RandomForestRegressor(random_state=42)</pre><b>In a Jupyter environment, please rerun this cell to show the HTML representation or trust the notebook. <br />On GitHub, the HTML representation is unable to render, please try loading this page with nbviewer.org.</b></div><div class=\"sk-container\" hidden><div class=\"sk-item\"><div class=\"sk-estimator sk-toggleable\"><input class=\"sk-toggleable__control sk-hidden--visually\" id=\"sk-estimator-id-3\" type=\"checkbox\" checked><label for=\"sk-estimator-id-3\" class=\"sk-toggleable__label sk-toggleable__label-arrow\">RandomForestRegressor</label><div class=\"sk-toggleable__content\"><pre>RandomForestRegressor(random_state=42)</pre></div></div></div></div></div>"
      ],
      "text/plain": [
       "RandomForestRegressor(random_state=42)"
      ]
     },
     "execution_count": 10,
     "metadata": {},
     "output_type": "execute_result"
    }
   ],
   "source": [
    "# train rf default hiperparameters\n",
    "rf_default = RandomForestRegressor(random_state = 42)\n",
    "rf_default.fit(X_train, y_train)"
   ]
  },
  {
   "cell_type": "code",
   "execution_count": 11,
   "id": "403f353a-e793-4dab-8359-8d2cec744fb0",
   "metadata": {},
   "outputs": [
    {
     "name": "stdout",
     "output_type": "stream",
     "text": [
      "r2_train:  0.974266916282628\n",
      "r2_test:  0.8098872210813666\n"
     ]
    }
   ],
   "source": [
    "# r2 score\n",
    "r2_rf_default_train = rf_default.score(X_train, y_train)\n",
    "r2_rf_default_test = rf_default.score(X_test, y_test)\n",
    "\n",
    "print('r2_train: ', r2_rf_default_train)\n",
    "print('r2_test: ', r2_rf_default_test)"
   ]
  },
  {
   "cell_type": "code",
   "execution_count": null,
   "id": "3fb8fe4a-a821-48e1-9d2e-49e7363076e5",
   "metadata": {},
   "outputs": [],
   "source": []
  },
  {
   "cell_type": "code",
   "execution_count": null,
   "id": "4098319c-5b97-43d6-bf18-cf208f43cb22",
   "metadata": {},
   "outputs": [],
   "source": []
  },
  {
   "cell_type": "code",
   "execution_count": null,
   "id": "f107aa9c-0131-4b6e-92bd-30f8e4887ff0",
   "metadata": {},
   "outputs": [],
   "source": []
  },
  {
   "cell_type": "markdown",
   "id": "72cc261b-2826-4787-bf5e-4a3d05a0f40e",
   "metadata": {},
   "source": [
    "### 3. Permutation Importance"
   ]
  },
  {
   "cell_type": "markdown",
   "id": "5feae7e0-b88d-42a1-8d1c-11f0d258f415",
   "metadata": {},
   "source": [
    "#### 3.1 Calculation Permutation Importance"
   ]
  },
  {
   "cell_type": "code",
   "execution_count": 12,
   "id": "53dcfe78-f3a2-4f22-8012-7f7c17112ea4",
   "metadata": {},
   "outputs": [
    {
     "data": {
      "text/plain": [
       "['Longitude',\n",
       " 'Population',\n",
       " 'Latitude',\n",
       " 'AveBedrms',\n",
       " 'HouseAge',\n",
       " 'MedInc',\n",
       " 'AveRooms',\n",
       " 'AveOccup']"
      ]
     },
     "execution_count": 12,
     "metadata": {},
     "output_type": "execute_result"
    }
   ],
   "source": [
    "# list features\n",
    "list_features"
   ]
  },
  {
   "cell_type": "code",
   "execution_count": 13,
   "id": "f34e4b5d-fdd2-402b-b0a5-87078b865308",
   "metadata": {},
   "outputs": [],
   "source": [
    "# calculate permutation importances\n",
    "results = permutation_importance(estimator = lr, \n",
    "                                 X = X_train, \n",
    "                                 y = y_train, \n",
    "                                 n_repeats = 30,\n",
    "                                 random_state = 42\n",
    "                                )"
   ]
  },
  {
   "cell_type": "code",
   "execution_count": 14,
   "id": "6eb21711-5ab5-4be7-bba5-8b3d1cd94c56",
   "metadata": {},
   "outputs": [
    {
     "data": {
      "text/plain": [
       "{'importances_mean': array([0.96347181, 0.00383761, 1.14021907, 0.02961554, 0.0453167 ,\n",
       "        1.10182401, 0.03997304, 0.11650087]),\n",
       " 'importances_std': array([0.01030205, 0.0003979 , 0.01085019, 0.00106535, 0.00159285,\n",
       "        0.01103696, 0.00112002, 0.00256492]),\n",
       " 'importances': array([[0.96215384, 0.97155904, 0.97953786, 0.95599389, 0.94786426,\n",
       "         0.96201092, 0.95635709, 0.96847684, 0.95371486, 0.97011378,\n",
       "         0.95352995, 0.94976827, 0.96523152, 0.94603355, 0.97113484,\n",
       "         0.9827264 , 0.95724219, 0.96254196, 0.96226893, 0.98033092,\n",
       "         0.9633458 , 0.96605785, 0.95609589, 0.95233887, 0.95925484,\n",
       "         0.98391823, 0.97421544, 0.97577928, 0.96108315, 0.95347418],\n",
       "        [0.00392532, 0.00421105, 0.00377724, 0.00428794, 0.00382861,\n",
       "         0.0040744 , 0.00438026, 0.00318544, 0.00387613, 0.00391703,\n",
       "         0.00345337, 0.00428024, 0.00371359, 0.0042801 , 0.00350167,\n",
       "         0.00441054, 0.00344649, 0.00345939, 0.00392944, 0.00323539,\n",
       "         0.00324408, 0.00447463, 0.00356485, 0.00420226, 0.0039697 ,\n",
       "         0.00356304, 0.00302993, 0.00369071, 0.00391889, 0.00429643],\n",
       "        [1.16281693, 1.12200884, 1.1356725 , 1.15401802, 1.13910078,\n",
       "         1.1415226 , 1.14912426, 1.12745714, 1.12971652, 1.15659505,\n",
       "         1.13964825, 1.15789134, 1.13449752, 1.1482597 , 1.12748124,\n",
       "         1.13744084, 1.13755383, 1.13185828, 1.14723673, 1.15509121,\n",
       "         1.12636069, 1.15539094, 1.13439082, 1.13149929, 1.1366302 ,\n",
       "         1.14413307, 1.12953472, 1.1438829 , 1.12533003, 1.14442777],\n",
       "        [0.02844482, 0.02913379, 0.02999993, 0.03067208, 0.02868337,\n",
       "         0.03039139, 0.02902134, 0.03104238, 0.02868029, 0.03046564,\n",
       "         0.02760667, 0.03052939, 0.02975152, 0.02723021, 0.02827397,\n",
       "         0.02892055, 0.02803305, 0.03205674, 0.02947997, 0.03024528,\n",
       "         0.02947718, 0.03040659, 0.03048276, 0.02994527, 0.03089291,\n",
       "         0.03020933, 0.02995096, 0.02933031, 0.02917133, 0.02993705],\n",
       "        [0.0433828 , 0.04282142, 0.04544542, 0.04603545, 0.0489448 ,\n",
       "         0.04393453, 0.04301881, 0.04464476, 0.04666786, 0.04460105,\n",
       "         0.04494072, 0.04345247, 0.04671344, 0.04556189, 0.04724327,\n",
       "         0.04394547, 0.04573467, 0.04628382, 0.04693379, 0.04560314,\n",
       "         0.04525809, 0.04528864, 0.04494324, 0.04184736, 0.04701284,\n",
       "         0.04677492, 0.047332  , 0.04390703, 0.04703445, 0.04419287],\n",
       "        [1.11808198, 1.11383771, 1.10892035, 1.08092255, 1.10306206,\n",
       "         1.09888745, 1.11567336, 1.11202996, 1.10891737, 1.09720827,\n",
       "         1.09837673, 1.1207061 , 1.08984386, 1.09897646, 1.10779137,\n",
       "         1.09123907, 1.07726165, 1.09927827, 1.09934483, 1.08759068,\n",
       "         1.1070226 , 1.1049218 , 1.09875498, 1.092666  , 1.11162093,\n",
       "         1.11212184, 1.08419026, 1.11003727, 1.11227358, 1.09316085],\n",
       "        [0.038913  , 0.03902851, 0.04002535, 0.04022402, 0.0418731 ,\n",
       "         0.03919099, 0.03894102, 0.03883263, 0.03911809, 0.04003675,\n",
       "         0.04024409, 0.03846325, 0.04084581, 0.04096829, 0.04077551,\n",
       "         0.03939093, 0.04128744, 0.04019906, 0.04227997, 0.0378918 ,\n",
       "         0.04045159, 0.04050988, 0.03902191, 0.03997017, 0.04003208,\n",
       "         0.0391944 , 0.04090989, 0.03797176, 0.04050219, 0.04209777],\n",
       "        [0.11728951, 0.11737397, 0.11378043, 0.11964282, 0.11546121,\n",
       "         0.11832151, 0.11434305, 0.1201223 , 0.11235216, 0.11538091,\n",
       "         0.11829883, 0.11199025, 0.11591944, 0.11260007, 0.1145106 ,\n",
       "         0.11461925, 0.11927546, 0.1184449 , 0.11314738, 0.11975455,\n",
       "         0.12249858, 0.11726259, 0.11487569, 0.11373058, 0.11622949,\n",
       "         0.11957729, 0.11717695, 0.1171807 , 0.11739751, 0.11646807]])}"
      ]
     },
     "execution_count": 14,
     "metadata": {},
     "output_type": "execute_result"
    }
   ],
   "source": [
    "results"
   ]
  },
  {
   "cell_type": "code",
   "execution_count": 15,
   "id": "1daecbaa-657f-4b14-9bfa-e5f106f63276",
   "metadata": {},
   "outputs": [
    {
     "data": {
      "text/plain": [
       "array([0.96347181, 0.00383761, 1.14021907, 0.02961554, 0.0453167 ,\n",
       "       1.10182401, 0.03997304, 0.11650087])"
      ]
     },
     "execution_count": 15,
     "metadata": {},
     "output_type": "execute_result"
    }
   ],
   "source": [
    "# importances mean\n",
    "results['importances_mean']"
   ]
  },
  {
   "cell_type": "code",
   "execution_count": 16,
   "id": "cde88928-dd48-4689-86c7-2ff0e7efbe54",
   "metadata": {},
   "outputs": [
    {
     "data": {
      "text/plain": [
       "array([0.01030205, 0.0003979 , 0.01085019, 0.00106535, 0.00159285,\n",
       "       0.01103696, 0.00112002, 0.00256492])"
      ]
     },
     "execution_count": 16,
     "metadata": {},
     "output_type": "execute_result"
    }
   ],
   "source": [
    "# importances std\n",
    "results['importances_std']"
   ]
  },
  {
   "cell_type": "code",
   "execution_count": 17,
   "id": "5bfefc20-370d-4a55-8896-e2bc63525f95",
   "metadata": {},
   "outputs": [
    {
     "data": {
      "text/plain": [
       "array([[0.96215384, 0.97155904, 0.97953786, 0.95599389, 0.94786426,\n",
       "        0.96201092, 0.95635709, 0.96847684, 0.95371486, 0.97011378,\n",
       "        0.95352995, 0.94976827, 0.96523152, 0.94603355, 0.97113484,\n",
       "        0.9827264 , 0.95724219, 0.96254196, 0.96226893, 0.98033092,\n",
       "        0.9633458 , 0.96605785, 0.95609589, 0.95233887, 0.95925484,\n",
       "        0.98391823, 0.97421544, 0.97577928, 0.96108315, 0.95347418],\n",
       "       [0.00392532, 0.00421105, 0.00377724, 0.00428794, 0.00382861,\n",
       "        0.0040744 , 0.00438026, 0.00318544, 0.00387613, 0.00391703,\n",
       "        0.00345337, 0.00428024, 0.00371359, 0.0042801 , 0.00350167,\n",
       "        0.00441054, 0.00344649, 0.00345939, 0.00392944, 0.00323539,\n",
       "        0.00324408, 0.00447463, 0.00356485, 0.00420226, 0.0039697 ,\n",
       "        0.00356304, 0.00302993, 0.00369071, 0.00391889, 0.00429643],\n",
       "       [1.16281693, 1.12200884, 1.1356725 , 1.15401802, 1.13910078,\n",
       "        1.1415226 , 1.14912426, 1.12745714, 1.12971652, 1.15659505,\n",
       "        1.13964825, 1.15789134, 1.13449752, 1.1482597 , 1.12748124,\n",
       "        1.13744084, 1.13755383, 1.13185828, 1.14723673, 1.15509121,\n",
       "        1.12636069, 1.15539094, 1.13439082, 1.13149929, 1.1366302 ,\n",
       "        1.14413307, 1.12953472, 1.1438829 , 1.12533003, 1.14442777],\n",
       "       [0.02844482, 0.02913379, 0.02999993, 0.03067208, 0.02868337,\n",
       "        0.03039139, 0.02902134, 0.03104238, 0.02868029, 0.03046564,\n",
       "        0.02760667, 0.03052939, 0.02975152, 0.02723021, 0.02827397,\n",
       "        0.02892055, 0.02803305, 0.03205674, 0.02947997, 0.03024528,\n",
       "        0.02947718, 0.03040659, 0.03048276, 0.02994527, 0.03089291,\n",
       "        0.03020933, 0.02995096, 0.02933031, 0.02917133, 0.02993705],\n",
       "       [0.0433828 , 0.04282142, 0.04544542, 0.04603545, 0.0489448 ,\n",
       "        0.04393453, 0.04301881, 0.04464476, 0.04666786, 0.04460105,\n",
       "        0.04494072, 0.04345247, 0.04671344, 0.04556189, 0.04724327,\n",
       "        0.04394547, 0.04573467, 0.04628382, 0.04693379, 0.04560314,\n",
       "        0.04525809, 0.04528864, 0.04494324, 0.04184736, 0.04701284,\n",
       "        0.04677492, 0.047332  , 0.04390703, 0.04703445, 0.04419287],\n",
       "       [1.11808198, 1.11383771, 1.10892035, 1.08092255, 1.10306206,\n",
       "        1.09888745, 1.11567336, 1.11202996, 1.10891737, 1.09720827,\n",
       "        1.09837673, 1.1207061 , 1.08984386, 1.09897646, 1.10779137,\n",
       "        1.09123907, 1.07726165, 1.09927827, 1.09934483, 1.08759068,\n",
       "        1.1070226 , 1.1049218 , 1.09875498, 1.092666  , 1.11162093,\n",
       "        1.11212184, 1.08419026, 1.11003727, 1.11227358, 1.09316085],\n",
       "       [0.038913  , 0.03902851, 0.04002535, 0.04022402, 0.0418731 ,\n",
       "        0.03919099, 0.03894102, 0.03883263, 0.03911809, 0.04003675,\n",
       "        0.04024409, 0.03846325, 0.04084581, 0.04096829, 0.04077551,\n",
       "        0.03939093, 0.04128744, 0.04019906, 0.04227997, 0.0378918 ,\n",
       "        0.04045159, 0.04050988, 0.03902191, 0.03997017, 0.04003208,\n",
       "        0.0391944 , 0.04090989, 0.03797176, 0.04050219, 0.04209777],\n",
       "       [0.11728951, 0.11737397, 0.11378043, 0.11964282, 0.11546121,\n",
       "        0.11832151, 0.11434305, 0.1201223 , 0.11235216, 0.11538091,\n",
       "        0.11829883, 0.11199025, 0.11591944, 0.11260007, 0.1145106 ,\n",
       "        0.11461925, 0.11927546, 0.1184449 , 0.11314738, 0.11975455,\n",
       "        0.12249858, 0.11726259, 0.11487569, 0.11373058, 0.11622949,\n",
       "        0.11957729, 0.11717695, 0.1171807 , 0.11739751, 0.11646807]])"
      ]
     },
     "execution_count": 17,
     "metadata": {},
     "output_type": "execute_result"
    }
   ],
   "source": [
    "# all values of importances. dimensions (features, repeats)\n",
    "results['importances']"
   ]
  },
  {
   "cell_type": "code",
   "execution_count": 18,
   "id": "39414bc1-0472-494c-a824-e453d3c4512d",
   "metadata": {},
   "outputs": [
    {
     "data": {
      "text/plain": [
       "(8, 30)"
      ]
     },
     "execution_count": 18,
     "metadata": {},
     "output_type": "execute_result"
    }
   ],
   "source": [
    "results['importances'].shape"
   ]
  },
  {
   "cell_type": "code",
   "execution_count": 19,
   "id": "5439df86-c65e-4f46-a07b-e3a6a7a5e7a8",
   "metadata": {},
   "outputs": [
    {
     "data": {
      "text/plain": [
       "array([0.96347181, 0.00383761, 1.14021907, 0.02961554, 0.0453167 ,\n",
       "       1.10182401, 0.03997304, 0.11650087])"
      ]
     },
     "execution_count": 19,
     "metadata": {},
     "output_type": "execute_result"
    }
   ],
   "source": [
    "results['importances'].mean(axis = 1) # example calculation importances mean"
   ]
  },
  {
   "cell_type": "code",
   "execution_count": 20,
   "id": "3084efe5-4178-4978-b56e-72c2aefb2b1c",
   "metadata": {},
   "outputs": [
    {
     "data": {
      "text/plain": [
       "0.4300948299122681"
      ]
     },
     "execution_count": 20,
     "metadata": {},
     "output_type": "execute_result"
    }
   ],
   "source": [
    "results['importances'].mean() # mean value of permutation importance"
   ]
  },
  {
   "cell_type": "code",
   "execution_count": null,
   "id": "37ecf017-9be8-495c-94ec-556dde44ed87",
   "metadata": {},
   "outputs": [],
   "source": []
  },
  {
   "cell_type": "markdown",
   "id": "301b637d-0e62-4918-9757-c56f17b978ce",
   "metadata": {},
   "source": [
    "#### 3.2 Box Plot permutation Importance each feature"
   ]
  },
  {
   "cell_type": "code",
   "execution_count": 21,
   "id": "5a393d68-4ca1-4f4a-b071-47d8ffd118e5",
   "metadata": {},
   "outputs": [
    {
     "data": {
      "text/plain": [
       "['Longitude',\n",
       " 'Population',\n",
       " 'Latitude',\n",
       " 'AveBedrms',\n",
       " 'HouseAge',\n",
       " 'MedInc',\n",
       " 'AveRooms',\n",
       " 'AveOccup']"
      ]
     },
     "execution_count": 21,
     "metadata": {},
     "output_type": "execute_result"
    }
   ],
   "source": [
    "list_features"
   ]
  },
  {
   "cell_type": "code",
   "execution_count": 22,
   "id": "9cf055a6-6f13-4700-a9b7-1787b0ec2ee0",
   "metadata": {},
   "outputs": [],
   "source": [
    "# get index permutation importances sorted\n",
    "sorted_idx = results.importances_mean.argsort()"
   ]
  },
  {
   "cell_type": "code",
   "execution_count": 23,
   "id": "10dffc8e-dfa3-44cd-952b-9d0c7806515f",
   "metadata": {},
   "outputs": [
    {
     "data": {
      "text/plain": [
       "('Population',\n",
       " 'AveBedrms',\n",
       " 'AveRooms',\n",
       " 'HouseAge',\n",
       " 'AveOccup',\n",
       " 'Longitude',\n",
       " 'MedInc',\n",
       " 'Latitude')"
      ]
     },
     "execution_count": 23,
     "metadata": {},
     "output_type": "execute_result"
    }
   ],
   "source": [
    "# sort list features acording sorted_idx\n",
    "from operator import itemgetter\n",
    "sorted_features = itemgetter(*sorted_idx)(list_features)\n",
    "sorted_features"
   ]
  },
  {
   "cell_type": "code",
   "execution_count": 24,
   "id": "970673d3-9787-46e3-9d8b-56f67517a90e",
   "metadata": {},
   "outputs": [
    {
     "data": {
      "image/png": "[encoded data removed]",
      "text/plain": [
       "<Figure size 640x480 with 1 Axes>"
      ]
     },
     "metadata": {},
     "output_type": "display_data"
    }
   ],
   "source": [
    "# plot\n",
    "fig, ax = plt.subplots()\n",
    "\n",
    "ax.boxplot(\n",
    "    results.importances[sorted_idx].T, vert = False, labels = sorted_features\n",
    ")\n",
    "\n",
    "ax.set_title(\"Permutation Importance of each feature\")\n",
    "ax.set_ylabel(\"Features\")\n",
    "fig.tight_layout()\n",
    "plt.show()"
   ]
  },
  {
   "cell_type": "code",
   "execution_count": null,
   "id": "112c3b03-a5d5-410f-ad9e-27c2a6ab27e0",
   "metadata": {},
   "outputs": [],
   "source": []
  },
  {
   "cell_type": "markdown",
   "id": "dd4bdce3-c042-4b94-bfb8-3a567540108a",
   "metadata": {},
   "source": [
    "#### 3.3 Barplot permutation importance"
   ]
  },
  {
   "cell_type": "code",
   "execution_count": 25,
   "id": "c027ebe4-0f5a-47cf-9ab3-d48c961a95a8",
   "metadata": {},
   "outputs": [
    {
     "data": {
      "text/plain": [
       "Longitude     0.963472\n",
       "Population    0.003838\n",
       "Latitude      1.140219\n",
       "AveBedrms     0.029616\n",
       "HouseAge      0.045317\n",
       "MedInc        1.101824\n",
       "AveRooms      0.039973\n",
       "AveOccup      0.116501\n",
       "dtype: float64"
      ]
     },
     "execution_count": 25,
     "metadata": {},
     "output_type": "execute_result"
    }
   ],
   "source": [
    "# define a series with importances (mean) of each feature\n",
    "df_importances = pd.Series(results.importances_mean, index = list_features)\n",
    "df_importances"
   ]
  },
  {
   "cell_type": "code",
   "execution_count": 26,
   "id": "fdc98c35-2083-4d11-b7b7-0810101eb213",
   "metadata": {},
   "outputs": [
    {
     "data": {
      "image/png": "[encoded data removed]",
      "text/plain": [
       "<Figure size 640x480 with 1 Axes>"
      ]
     },
     "metadata": {},
     "output_type": "display_data"
    }
   ],
   "source": [
    "# plot\n",
    "fig, ax = plt.subplots()\n",
    "df_importances.plot.bar(yerr = results.importances_std, ax=ax)\n",
    "ax.set_title(\"Feature importances using permutation\")\n",
    "ax.set_ylabel(\"Mean R2 decrease\")\n",
    "fig.tight_layout()\n",
    "plt.show()"
   ]
  },
  {
   "cell_type": "code",
   "execution_count": null,
   "id": "636582f5-d4b2-45d8-a85b-9b6dc92efa01",
   "metadata": {},
   "outputs": [],
   "source": []
  },
  {
   "cell_type": "markdown",
   "id": "24d15cb9-aff0-4e07-ae0c-4b71a4c346e3",
   "metadata": {},
   "source": [
    "#### TODO: review this\n",
    "\n",
    "#### why latitude has higher values than R2 of permutation importance\n",
    "GPT response:\n",
    "\r\n",
    "Si el valor de la importancia de la permutación (permutation importance) es mayor que el coeficiente de determinación (R^2) del modelo, generalmente se interpreta como que esa característica no es útil para predecir la variable objetivo.\r\n",
    "\r\n",
    "El coeficiente de determinación (R^2) mide la proporción de la varianza en la variable dependiente que es predecible a partir de las variables independientes en el modelo. Un valor de R^2 cercano a 1 indica que el modelo explica una gran parte de la variabilidad de la variable dependiente, mientras que un valor cercano a 0 indica que el modelo no explica mucha variabilidad.\r\n",
    "\r\n",
    "Por otro lado, la importancia de la permutación mide cuánto disminuye el rendimiento del modelo cuando se permuta una característica en comparación con cuando no se permuta. Si la importancia de la permutación es mayor que el R^2 del modelo, sugiere que permutar esa característica tiene un impacto más negativo en el rendimiento del modelo que simplemente eliminarla, lo que indica que la característica no está aportando información útil para predecir la variable objetivo.\r\n",
    "\r\n",
    "En resumen, si la importancia de la permutación es mayor que el R^2 del modelo, se podría considerar eliminar esa característica del modelo, ya que no está ayudando a mejorar su capacidad predictiva."
   ]
  },
  {
   "cell_type": "code",
   "execution_count": null,
   "id": "09ac42c9-940b-48b9-b5a3-6cd179e81225",
   "metadata": {},
   "outputs": [],
   "source": []
  },
  {
   "cell_type": "markdown",
   "id": "45dfe0da-8d31-462b-98c0-24a610d213a0",
   "metadata": {},
   "source": [
    "#### 3.4 Interval Feature Importance"
   ]
  },
  {
   "cell_type": "code",
   "execution_count": 27,
   "id": "361705e6-b45b-4a2e-9b8a-402213d901eb",
   "metadata": {},
   "outputs": [
    {
     "name": "stdout",
     "output_type": "stream",
     "text": [
      "feature: Latitude || 1.1402 +/- 0.011\n",
      "feature: MedInc || 1.1018 +/- 0.011\n",
      "feature: Longitude || 0.9635 +/- 0.01\n",
      "feature: AveOccup || 0.1165 +/- 0.003\n",
      "feature: HouseAge || 0.0453 +/- 0.002\n",
      "feature: AveRooms || 0.04 +/- 0.001\n",
      "feature: AveBedrms || 0.0296 +/- 0.001\n",
      "feature: Population || 0.0038 +/- 0.0\n"
     ]
    }
   ],
   "source": [
    "for i in results.importances_mean.argsort()[::-1]:\n",
    "     \n",
    "    if results.importances_mean[i] - 2 * results.importances_std[i] > 0:\n",
    "        \n",
    "        feature_importance_name = list_features[i]\n",
    "        feature_importance_mean = results.importances_mean[i].round(4)\n",
    "        feature_importance_std = results.importances_std[i].round(3)\n",
    "\n",
    "        print(f'feature: {feature_importance_name} || {feature_importance_mean} +/- {feature_importance_std}')"
   ]
  },
  {
   "cell_type": "code",
   "execution_count": null,
   "id": "de3b3546-0138-45fb-af81-66e6d210e48c",
   "metadata": {},
   "outputs": [],
   "source": []
  },
  {
   "cell_type": "markdown",
   "id": "5f95f302-ec52-4b35-a0d9-73e74eed6581",
   "metadata": {},
   "source": [
    "#### 3.5 Evaluate model with random features"
   ]
  },
  {
   "cell_type": "code",
   "execution_count": 28,
   "id": "88d69130-5c0a-45a3-93a7-30cacdaf9e24",
   "metadata": {},
   "outputs": [],
   "source": [
    "# list feature with noise\n",
    "list_features_noise = list_features + ['noise']"
   ]
  },
  {
   "cell_type": "code",
   "execution_count": 29,
   "id": "33586084-4881-4b75-8a6b-68850e7cfde4",
   "metadata": {},
   "outputs": [],
   "source": [
    "# Create random feature\n",
    "white_noise = np.random.normal(0, 1, X_train.shape[0])\n",
    "X_train_noise = X_train.copy()\n",
    "X_train_noise['noise'] = white_noise"
   ]
  },
  {
   "cell_type": "code",
   "execution_count": 30,
   "id": "8ed918ad-7bbf-4374-b708-0a1be714cd92",
   "metadata": {},
   "outputs": [
    {
     "name": "stdout",
     "output_type": "stream",
     "text": [
      "r2_train_noise:  0.6812330146508401\n",
      "r2_train_NO_noise:  0.6811276939092024\n"
     ]
    }
   ],
   "source": [
    "# train lr\n",
    "lr_noise = LinearRegression()\n",
    "lr_noise.fit(X_train_noise, y_train)\n",
    "\n",
    "# r2 score\n",
    "r2_lr_noise_train = lr_noise.score(X_train_noise, y_train)\n",
    "print('r2_train_noise: ', r2_lr_noise_train)\n",
    "print('r2_train_NO_noise: ', r2_lr_train)"
   ]
  },
  {
   "cell_type": "code",
   "execution_count": 31,
   "id": "1e2433d3-db89-416e-80b3-fc12420d6a60",
   "metadata": {},
   "outputs": [],
   "source": [
    "# calculate permutation importances\n",
    "results_noise = permutation_importance(estimator = lr_noise, \n",
    "                                 X = X_train_noise, \n",
    "                                 y = y_train, \n",
    "                                 n_repeats = 30,\n",
    "                                 random_state = 42\n",
    "                                )"
   ]
  },
  {
   "cell_type": "code",
   "execution_count": 32,
   "id": "4e274153-bfa9-401b-a7a3-24b01b792b83",
   "metadata": {},
   "outputs": [
    {
     "data": {
      "image/png": "[encoded data removed]",
      "text/plain": [
       "<Figure size 640x480 with 1 Axes>"
      ]
     },
     "metadata": {},
     "output_type": "display_data"
    }
   ],
   "source": [
    "### barplot permutation importance\n",
    "\n",
    "# define a series with importances (mean) of each feature\n",
    "df_importances_noise = pd.Series(results_noise.importances_mean, index = list_features_noise)\n",
    "\n",
    "fig, ax = plt.subplots()\n",
    "df_importances_noise.plot.bar(yerr = results_noise.importances_std, ax=ax)\n",
    "\n",
    "ax.set_title(\"Feature importances using permutation with one feature Noise\")\n",
    "ax.set_ylabel(\"Mean R2 decrease\")\n",
    "fig.tight_layout()\n",
    "plt.show()"
   ]
  },
  {
   "cell_type": "markdown",
   "id": "4226a285-6192-473d-a515-25397cb960f7",
   "metadata": {},
   "source": [
    "As you can see, the feature noise has 0 impact in the prediction"
   ]
  },
  {
   "cell_type": "code",
   "execution_count": null,
   "id": "51808f2e-202d-48b7-9d73-a67c8a29a90d",
   "metadata": {},
   "outputs": [],
   "source": []
  },
  {
   "cell_type": "code",
   "execution_count": null,
   "id": "2a98316d-323e-4b11-aba3-e6b702af8ae6",
   "metadata": {},
   "outputs": [],
   "source": []
  },
  {
   "cell_type": "code",
   "execution_count": null,
   "id": "308bdd97-4b6c-41b0-b83c-2ce260bc4a0c",
   "metadata": {},
   "outputs": [],
   "source": []
  },
  {
   "cell_type": "code",
   "execution_count": null,
   "id": "60b3e159-cacf-4467-b78a-c92e474503b5",
   "metadata": {},
   "outputs": [],
   "source": []
  },
  {
   "cell_type": "markdown",
   "id": "fa90cdac-62f3-4dd2-8ddb-fe62069c8f84",
   "metadata": {},
   "source": [
    "### 4. Permutation Importance vs Importance from emsemble models"
   ]
  },
  {
   "cell_type": "markdown",
   "id": "9daccde8-1af0-4d7a-a888-f907a3480477",
   "metadata": {},
   "source": [
    "#### 4.1 Feature Importance Random Forest\n",
    "##### English \n",
    "The impurity-based feature importances.\n",
    "\n",
    "**The higher, the more important the feature. The importance of a feature is computed as the (normalized) total reduction of the criterion brought by that feature. It is also known as the Gini importance.**\n",
    "\n",
    "Warning: impurity-based feature importances can be misleading for high cardinality features (many unique values). See sklearn.inspection.permutation_importance as an alternative.\n",
    "\n",
    "\n",
    "##### Spanish\n",
    "La importancia de las características basadas en impurezas.\n",
    "\n",
    "Cuanto más alto, más importante es la característica. La importancia de una característica se calcula como la reducción total (normalizada) del criterio aportado por esa característica. También se le conoce como la importancia de Gini.\n",
    "\n",
    "Advertencia: las importancias de las características basadas en impurezas pueden ser engañosas para características de alta cardinalidad (muchos valores únicos). Ver sklearn.inspection.permutation_importancecomo alternativa."
   ]
  },
  {
   "cell_type": "code",
   "execution_count": 33,
   "id": "18406494-2994-44da-a40f-5d653e63ab70",
   "metadata": {},
   "outputs": [
    {
     "data": {
      "text/plain": [
       "Longitude     0.097027\n",
       "Population    0.026818\n",
       "Latitude      0.102888\n",
       "AveBedrms     0.028518\n",
       "HouseAge      0.056777\n",
       "MedInc        0.502868\n",
       "AveRooms      0.036811\n",
       "AveOccup      0.148294\n",
       "dtype: float64"
      ]
     },
     "execution_count": 33,
     "metadata": {},
     "output_type": "execute_result"
    }
   ],
   "source": [
    "# calculate feature importance rf\n",
    "df_importances_rf = pd.Series(rf_default.feature_importances_, index = list_features)\n",
    "df_importances_rf"
   ]
  },
  {
   "cell_type": "code",
   "execution_count": 34,
   "id": "a0e4c172-35b9-40df-bf74-3a195dfa9a09",
   "metadata": {},
   "outputs": [
    {
     "data": {
      "image/png": "[encoded data removed]",
      "text/plain": [
       "<Figure size 640x480 with 1 Axes>"
      ]
     },
     "metadata": {},
     "output_type": "display_data"
    }
   ],
   "source": [
    "fig, ax = plt.subplots()\n",
    "df_importances_rf.plot.bar()\n",
    "\n",
    "ax.set_title(\"Feature importances rf\")\n",
    "ax.set_ylabel(\"Importance\")\n",
    "fig.tight_layout()\n",
    "plt.show()"
   ]
  },
  {
   "cell_type": "markdown",
   "id": "af11695d-77a9-4feb-b787-df4e690cdd4c",
   "metadata": {},
   "source": [
    "#### 4.2 Feature Importance Permutation"
   ]
  },
  {
   "cell_type": "code",
   "execution_count": 35,
   "id": "9d606976-c33e-4d32-957f-0da38e547bd0",
   "metadata": {},
   "outputs": [
    {
     "name": "stdout",
     "output_type": "stream",
     "text": [
      "CPU times: total: 54 s\n",
      "Wall time: 54 s\n"
     ]
    }
   ],
   "source": [
    "%%time\n",
    "# calculate permutation importances\n",
    "results_rf = permutation_importance(estimator = rf_default, \n",
    "                                 X = X_train, \n",
    "                                 y = y_train, \n",
    "                                 n_repeats = 30,\n",
    "                                 random_state = 42\n",
    "                                )"
   ]
  },
  {
   "cell_type": "code",
   "execution_count": 36,
   "id": "fe2be95b-baef-4240-9c71-fb26e47ac5f2",
   "metadata": {},
   "outputs": [
    {
     "data": {
      "image/png": "[encoded data removed]",
      "text/plain": [
       "<Figure size 640x480 with 1 Axes>"
      ]
     },
     "metadata": {},
     "output_type": "display_data"
    }
   ],
   "source": [
    "### barplot permutation importance\n",
    "\n",
    "# define a series with importances (mean) of each feature\n",
    "df_importances_rf = pd.Series(results_rf.importances_mean, index = list_features)\n",
    "\n",
    "fig, ax = plt.subplots()\n",
    "df_importances_rf.plot.bar(yerr = results_rf.importances_std, ax=ax)\n",
    "\n",
    "ax.set_title(\"Feature importances using permutation rf model\")\n",
    "ax.set_ylabel(\"Mean R2 decrease\")\n",
    "fig.tight_layout()\n",
    "plt.show()"
   ]
  },
  {
   "cell_type": "code",
   "execution_count": null,
   "id": "4fe4ea01-7ca7-40f1-b89b-2455578cfdbf",
   "metadata": {},
   "outputs": [],
   "source": []
  },
  {
   "cell_type": "markdown",
   "id": "086db02e-09d7-46a9-9b67-2328aff0754e",
   "metadata": {},
   "source": [
    "#### 3.5 Feature Importance with random features"
   ]
  },
  {
   "cell_type": "code",
   "execution_count": 37,
   "id": "6f1a75fc-6383-47ff-9ec7-e6c666e0836d",
   "metadata": {},
   "outputs": [
    {
     "name": "stdout",
     "output_type": "stream",
     "text": [
      "r2_train_noise:  0.9738330435042135\n",
      "r2_train_NO_noise:  0.974266916282628\n",
      "CPU times: total: 30.2 s\n",
      "Wall time: 30.2 s\n"
     ]
    }
   ],
   "source": [
    "%%time\n",
    "# train rf\n",
    "rf_noise = RandomForestRegressor(random_state = 42)\n",
    "rf_noise.fit(X_train_noise, y_train)\n",
    "\n",
    "# r2 score\n",
    "r2_rf_noise_train = rf_noise.score(X_train_noise, y_train)\n",
    "print('r2_train_noise: ', r2_rf_noise_train)\n",
    "print('r2_train_NO_noise: ', r2_rf_default_train)"
   ]
  },
  {
   "cell_type": "code",
   "execution_count": 38,
   "id": "5528b9ed-2676-447f-bf1b-fb588d1332d5",
   "metadata": {},
   "outputs": [
    {
     "data": {
      "image/png": "[encoded data removed]",
      "text/plain": [
       "<Figure size 640x480 with 1 Axes>"
      ]
     },
     "metadata": {},
     "output_type": "display_data"
    },
    {
     "name": "stdout",
     "output_type": "stream",
     "text": [
      "CPU times: total: 188 ms\n",
      "Wall time: 181 ms\n"
     ]
    }
   ],
   "source": [
    "%%time\n",
    "###### IMPORTANCE GINI RF\n",
    "\n",
    "# calculate feature importance rf\n",
    "df_importances_rf_noise = pd.Series(rf_noise.feature_importances_, index = list_features_noise)\n",
    "\n",
    "fig, ax = plt.subplots()\n",
    "df_importances_rf_noise.plot.bar()\n",
    "\n",
    "ax.set_title(\"Feature importances rf with one feature noise\")\n",
    "ax.set_ylabel(\"Importance\")\n",
    "fig.tight_layout()\n",
    "plt.show()"
   ]
  },
  {
   "cell_type": "code",
   "execution_count": 39,
   "id": "acb57fb0-3240-4db6-8389-f364f7b64282",
   "metadata": {},
   "outputs": [
    {
     "data": {
      "image/png": "[encoded data removed]",
      "text/plain": [
       "<Figure size 640x480 with 1 Axes>"
      ]
     },
     "metadata": {},
     "output_type": "display_data"
    },
    {
     "name": "stdout",
     "output_type": "stream",
     "text": [
      "CPU times: total: 1min 1s\n",
      "Wall time: 1min 1s\n"
     ]
    }
   ],
   "source": [
    "%%time\n",
    "###### IMPORTANCE PERMUTATION\n",
    "\n",
    "# calculate permutation importances\n",
    "results_rf_noise = permutation_importance(estimator = rf_noise, \n",
    "                                 X = X_train_noise, \n",
    "                                 y = y_train, \n",
    "                                 n_repeats = 30,\n",
    "                                 random_state = 42\n",
    "                                )\n",
    "\n",
    "### barplot permutation importance\n",
    "\n",
    "# define a series with importances (mean) of each feature\n",
    "df_importances_rf_noise = pd.Series(results_rf_noise.importances_mean, index = list_features_noise)\n",
    "\n",
    "fig, ax = plt.subplots()\n",
    "df_importances_rf_noise.plot.bar(yerr = results_rf_noise.importances_std, ax=ax)\n",
    "\n",
    "ax.set_title(\"Feature importances using permutation rf model with one feature noise\")\n",
    "ax.set_ylabel(\"Mean R2 decrease\")\n",
    "fig.tight_layout()\n",
    "plt.show()"
   ]
  },
  {
   "cell_type": "code",
   "execution_count": null,
   "id": "e35caf04-9db7-462c-89b3-23d2413e84df",
   "metadata": {},
   "outputs": [],
   "source": []
  },
  {
   "cell_type": "code",
   "execution_count": null,
   "id": "62c875fc-9a2c-4144-92d4-5f85f2e24775",
   "metadata": {},
   "outputs": [],
   "source": []
  }
 ],
 "metadata": {
  "kernelspec": {
   "display_name": "Python 3 (ipykernel)",
   "language": "python",
   "name": "python3"
  },
  "language_info": {
   "codemirror_mode": {
    "name": "ipython",
    "version": 3
   },
   "file_extension": ".py",
   "mimetype": "text/x-python",
   "name": "python",
   "nbconvert_exporter": "python",
   "pygments_lexer": "ipython3",
   "version": "3.10.12"
  }
 },
 "nbformat": 4,
 "nbformat_minor": 5
}
