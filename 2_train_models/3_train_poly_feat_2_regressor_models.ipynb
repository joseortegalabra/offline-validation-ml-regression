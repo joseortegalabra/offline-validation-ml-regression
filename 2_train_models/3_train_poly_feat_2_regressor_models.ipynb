{
 "cells": [
  {
   "cell_type": "markdown",
   "id": "b75c653d-ce0c-4b08-a22c-f3648e68af41",
   "metadata": {},
   "source": [
    "# TRAIN POLYNOMIAL FEATURES REGRESSOR MODELS\n",
    "THE DATA IS TRANSFOMED APPLYING MINMAXSCALER, POLYNOMIAL FEATURES (order 2) AND THEN THE MODELS WERE TRAINED\n",
    "\n",
    "The goal is train regressor models and save the pkl with the models.\n",
    "In the future notebooks with the datasets and the models, these will be evaluated\n",
    "\n",
    "\n",
    "### obs: all the models loaded are the models that can be used in gurobi-py (this codes are generated to train models that the ds can undertand completly its behavior to add as constraint in optimization model)\n",
    "\n",
    "SOURCES: https://gurobi-machinelearning.readthedocs.io/en/stable/auto_generated/gurobi_ml.sklearn.gradient_boosting_regressor.html\n",
    "\n",
    "- Linear Regression (Linear Regression, Ridge, Lasso)\n",
    "  \n",
    "- Decission Tree\n",
    "  \n",
    "- Gradient Boosting Regressor\n",
    "\n",
    "- Random Forest\n",
    "  \n",
    "- Xtreme Gradient Boosting\n",
    "  \n",
    "- Neural Network - Multi layer Perceptron\n",
    "\n",
    "\n",
    "### obs: gurobi to accept the models need to have the feature eng and the training model in the same only model(artifact). So it is neccesary to use the method Pipeline\n",
    "\n",
    "### obs 2: All the codes are modified adding the scaler transformation and save in the correct folder"
   ]
  },
  {
   "cell_type": "code",
   "execution_count": null,
   "id": "cb3f6824-ad19-45ef-9519-b843bfcac77d",
   "metadata": {},
   "outputs": [],
   "source": [
    "import os\n",
    "# fix root path to save outputs\n",
    "actual_path = os.path.abspath(os.getcwd())\n",
    "list_root_path = actual_path.split('\\\\')[:-1]\n",
    "root_path = '\\\\'.join(list_root_path)\n",
    "os.chdir(root_path)\n",
    "print('root path: ', root_path)"
   ]
  },
  {
   "cell_type": "code",
   "execution_count": null,
   "id": "8b4673d4-75a1-47b2-bdff-711c564a3014",
   "metadata": {},
   "outputs": [],
   "source": []
  },
  {
   "cell_type": "markdown",
   "id": "452f82a6-3d2e-43f4-a2fd-fdd23757c244",
   "metadata": {},
   "source": [
    "## RUN\n",
    "Train each model independiently (some models with different hp) and save each model in one folder (artifacts/models)"
   ]
  },
  {
   "cell_type": "code",
   "execution_count": null,
   "id": "50e3b2ac-98b5-49fa-8e4f-f7b61da2fcd8",
   "metadata": {},
   "outputs": [],
   "source": [
    "import warnings\n",
    "warnings.filterwarnings('ignore')\n",
    "\n",
    "import pandas as pd\n",
    "import numpy as np\n",
    "import pickle\n",
    "import matplotlib.pyplot as plt\n",
    "\n",
    "# pipeline\n",
    "from sklearn.pipeline import Pipeline\n",
    "\n",
    "# transform\n",
    "from sklearn.preprocessing import MinMaxScaler\n",
    "from sklearn.preprocessing import PolynomialFeatures\n",
    "\n",
    "# models\n",
    "from sklearn.linear_model import LinearRegression # lr\n",
    "from sklearn.linear_model import Ridge # ridge\n",
    "from sklearn.linear_model import Lasso # lasso\n",
    "from sklearn.tree import DecisionTreeRegressor # tree\n",
    "from sklearn.ensemble import GradientBoostingRegressor #gb\n",
    "from sklearn.ensemble import RandomForestRegressor #rf\n",
    "from xgboost import XGBRegressor # xgb\n",
    "from  sklearn.neural_network import MLPRegressor # mlp\n",
    "\n",
    "# plot trees\n",
    "from sklearn.tree import plot_tree\n",
    "from sklearn.tree import export_graphviz\n",
    "import subprocess\n",
    "import xgboost as xgb"
   ]
  },
  {
   "cell_type": "code",
   "execution_count": null,
   "id": "766aa609-aa38-457c-a2d9-f39405963b9f",
   "metadata": {},
   "outputs": [],
   "source": [
    "X = np.array([[0, 1],\n",
    "       [2, 3],\n",
    "       [4, 5]])\n",
    "poly = PolynomialFeatures(2)\n",
    "poly.fit_transform(X)"
   ]
  },
  {
   "cell_type": "code",
   "execution_count": null,
   "id": "055fe063-6ddf-449c-b5df-67be0a1dc7f7",
   "metadata": {},
   "outputs": [],
   "source": []
  },
  {
   "cell_type": "code",
   "execution_count": null,
   "id": "37ec00ae-f64f-4d7f-8508-13b9cec24a6e",
   "metadata": {},
   "outputs": [],
   "source": []
  },
  {
   "cell_type": "markdown",
   "id": "814fbd1e-8276-43fc-9da3-df39fe868edc",
   "metadata": {},
   "source": [
    "### 0. Global params"
   ]
  },
  {
   "cell_type": "code",
   "execution_count": null,
   "id": "512cbad4-1092-4361-ae7e-f27c1717f855",
   "metadata": {},
   "outputs": [],
   "source": [
    "# define folder where the models were saved. There are the same models accepted by gurobi but the feature eng changed\n",
    "folder_models = 'poly_2'"
   ]
  },
  {
   "cell_type": "code",
   "execution_count": null,
   "id": "e15132d5-44ae-47a5-8732-abd4ee141919",
   "metadata": {},
   "outputs": [],
   "source": []
  },
  {
   "cell_type": "markdown",
   "id": "5eb787a0-43c7-4106-a534-c63b406d8dbb",
   "metadata": {},
   "source": [
    "### 1. load data"
   ]
  },
  {
   "cell_type": "code",
   "execution_count": null,
   "id": "937cb0c5-456c-49ad-8f6d-a344875b1aac",
   "metadata": {},
   "outputs": [],
   "source": [
    "### DEFINE LIST FEARTURES - TARGET (order data to have the same order in the features always)\n",
    "list_features = ['AveOccup', 'Latitude', 'Population', 'AveBedrms', 'HouseAge', 'Longitude', 'AveRooms', 'MedInc']"
   ]
  },
  {
   "cell_type": "code",
   "execution_count": null,
   "id": "6a724179-c498-4e4a-a667-b6f34e87af88",
   "metadata": {},
   "outputs": [],
   "source": [
    "### LOAD DATA\n",
    "X_train = pd.read_pickle('artifacts/data/X_train.pkl')\n",
    "X_test = pd.read_pickle('artifacts/data/X_test.pkl')\n",
    "y_train = pd.read_pickle('artifacts/data/y_train.pkl')\n",
    "y_test = pd.read_pickle('artifacts/data/y_test.pkl')"
   ]
  },
  {
   "cell_type": "code",
   "execution_count": null,
   "id": "76c5ec5c-3415-429b-9fab-314c7e44edfa",
   "metadata": {},
   "outputs": [],
   "source": [
    "print('shape data')\n",
    "print('\\n\\n TRAIN')\n",
    "print('X_train: ', X_train.shape)\n",
    "print('y_train: ', y_train.shape)\n",
    "\n",
    "print('\\n\\n TEST')\n",
    "print('X_test: ', X_test.shape)\n",
    "print('y_test: ', y_test.shape)"
   ]
  },
  {
   "cell_type": "code",
   "execution_count": null,
   "id": "1f8b0e22-bcba-413e-88eb-4403b0ee8a6a",
   "metadata": {},
   "outputs": [],
   "source": []
  },
  {
   "cell_type": "code",
   "execution_count": null,
   "id": "e976234a-02dd-4a5f-aa0b-8be472001cc7",
   "metadata": {},
   "outputs": [],
   "source": []
  },
  {
   "cell_type": "code",
   "execution_count": null,
   "id": "422e0bc6-5788-4fee-a062-9de108aa3aaf",
   "metadata": {},
   "outputs": [],
   "source": []
  },
  {
   "cell_type": "markdown",
   "id": "dafad5e9-7a9d-433b-85b8-cc633b4906a7",
   "metadata": {},
   "source": [
    "### 2.1 lr"
   ]
  },
  {
   "cell_type": "code",
   "execution_count": null,
   "id": "5acdee54-37c0-4a37-a5a2-dc12cc534aa2",
   "metadata": {},
   "outputs": [],
   "source": [
    "# train\n",
    "lr_model = LinearRegression()\n",
    "\n",
    "lr = Pipeline([\n",
    "    ('poly_feature_2', PolynomialFeatures(2)),\n",
    "    ('scaler', MinMaxScaler() ), \n",
    "    ('lr',  lr_model)\n",
    "])\n",
    "\n",
    "lr.fit(X_train, y_train)\n",
    "\n",
    "\n",
    "# save\n",
    "path_model = f'artifacts/models/{folder_models}/lr.pkl'\n",
    "with open(path_model, 'wb') as f:\n",
    "    pickle.dump(lr, f)"
   ]
  },
  {
   "cell_type": "code",
   "execution_count": null,
   "id": "1d5c79df-84c9-416b-9af7-e3fe87712ae2",
   "metadata": {},
   "outputs": [],
   "source": []
  },
  {
   "cell_type": "markdown",
   "id": "57e96bea-52d9-4db4-9264-7ea6548213d7",
   "metadata": {},
   "source": [
    "### 2.2 Ridge\n",
    "- L2\n",
    "- Conserve the features. Coeficients not zero. Use all the features"
   ]
  },
  {
   "cell_type": "code",
   "execution_count": null,
   "id": "a9f5ac5e-d0ae-48f7-9540-fbccc945a9e7",
   "metadata": {},
   "outputs": [],
   "source": [
    "# train\n",
    "ridge_model = Ridge()\n",
    "\n",
    "ridge = Pipeline([\n",
    "    ('poly_feature_2', PolynomialFeatures(2)),\n",
    "    ('scaler', MinMaxScaler() ), \n",
    "    ('ridge',  ridge_model)\n",
    "])\n",
    "\n",
    "ridge.fit(X_train, y_train)\n",
    "\n",
    "\n",
    "# save\n",
    "path_model = f'artifacts/models/{folder_models}/ridge.pkl'\n",
    "with open(path_model, 'wb') as f:\n",
    "    pickle.dump(ridge, f)"
   ]
  },
  {
   "cell_type": "code",
   "execution_count": null,
   "id": "ee3a5b1b-fffc-48cd-8407-ffb35dfba0f3",
   "metadata": {},
   "outputs": [],
   "source": []
  },
  {
   "cell_type": "markdown",
   "id": "3734bca5-faa4-4c6c-b900-fb7238383be2",
   "metadata": {},
   "source": [
    "### 2.3 Lasso\n",
    "- L1\n",
    "- Trend to transform the coeficients to zero. Conserve only the most important features"
   ]
  },
  {
   "cell_type": "code",
   "execution_count": null,
   "id": "2b9992e9-f725-4595-99d8-21521e24e0db",
   "metadata": {},
   "outputs": [],
   "source": [
    "# train\n",
    "lasso_model = Lasso()\n",
    "\n",
    "lasso = Pipeline([\n",
    "    ('poly_feature_2', PolynomialFeatures(2)),\n",
    "    ('scaler', MinMaxScaler() ), \n",
    "    ('lasso',  lasso_model)\n",
    "])\n",
    "\n",
    "lasso.fit(X_train, y_train)\n",
    "\n",
    "\n",
    "# save\n",
    "path_model = f'artifacts/models/{folder_models}/lasso.pkl'\n",
    "with open(path_model, 'wb') as f:\n",
    "    pickle.dump(lasso, f)"
   ]
  },
  {
   "cell_type": "code",
   "execution_count": null,
   "id": "6c574beb-6ae9-46fa-9875-ab7e857d55f1",
   "metadata": {},
   "outputs": [],
   "source": []
  },
  {
   "cell_type": "code",
   "execution_count": null,
   "id": "8bc85247-eacc-4a22-9b59-8f3133fafada",
   "metadata": {},
   "outputs": [],
   "source": []
  },
  {
   "cell_type": "code",
   "execution_count": null,
   "id": "2563f1a1-9528-48e2-97c1-058abd212d65",
   "metadata": {},
   "outputs": [],
   "source": []
  },
  {
   "cell_type": "markdown",
   "id": "f08203e7-48a4-4698-9d5f-ad4f521222a2",
   "metadata": {},
   "source": [
    "### 3.1. tree_simple"
   ]
  },
  {
   "cell_type": "code",
   "execution_count": null,
   "id": "ee21b228-279b-45ea-8be7-7dc4dc6ecaad",
   "metadata": {},
   "outputs": [],
   "source": [
    "# train\n",
    "tree_simple_model = DecisionTreeRegressor(random_state = 42,\n",
    "                                   min_samples_split = 0.2,\n",
    "                                    min_samples_leaf = 0.1\n",
    "                                   #max_depth = 2\n",
    "                                   )\n",
    "\n",
    "tree_simple = Pipeline([\n",
    "    ('poly_feature_2', PolynomialFeatures(2)),\n",
    "    ('scaler', MinMaxScaler() ), \n",
    "    ('tree_simple', tree_simple_model )\n",
    "])\n",
    "\n",
    "tree_simple.fit(X_train, y_train)\n",
    "\n",
    "\n",
    "# save\n",
    "path_model = f'artifacts/models/{folder_models}/tree_simple.pkl'\n",
    "with open(path_model, 'wb') as f:\n",
    "    pickle.dump(tree_simple, f)"
   ]
  },
  {
   "cell_type": "code",
   "execution_count": null,
   "id": "fbbaf8b8-6df4-4857-8c09-0f3bf2cd84ca",
   "metadata": {},
   "outputs": [],
   "source": [
    "# #### WITH THE MODELS ARE IN A PIPELINE, IT IS NECCESARY TO ACCESS ONLY THE TREE\n",
    "\n",
    "# from sklearn import set_config\n",
    "# set_config(display='diagram')\n",
    "# from sklearn.tree import plot_tree\n",
    "\n",
    "# # Accede al estimador del pipeline\n",
    "# tree_simple_instance = tree_simple.named_steps['tree_simple']\n",
    "\n",
    "# # Luego, utiliza plot_tree con el estimador\n",
    "# plot_tree(tree_simple_instance, feature_names = list_features)\n",
    "\n",
    "# plt.savefig(f'artifacts/models_fig/{folder_models}/tree_simple.png', dpi = 300)"
   ]
  },
  {
   "cell_type": "code",
   "execution_count": null,
   "id": "b2655631-a19b-4ddd-baba-807a15978522",
   "metadata": {},
   "outputs": [],
   "source": []
  },
  {
   "cell_type": "code",
   "execution_count": null,
   "id": "305b15ef-cb38-4559-ac77-05f93fd14dc9",
   "metadata": {},
   "outputs": [],
   "source": []
  },
  {
   "cell_type": "markdown",
   "id": "5c5c3fa8-24ad-4f05-9b00-0af0f8e84fcc",
   "metadata": {},
   "source": [
    "### 3.2. tree_default"
   ]
  },
  {
   "cell_type": "code",
   "execution_count": null,
   "id": "7b3b00a2-30b2-491f-ba14-ca21d62b8ec1",
   "metadata": {},
   "outputs": [],
   "source": [
    "# train\n",
    "tree_default_model = DecisionTreeRegressor(random_state = 42)\n",
    "\n",
    "tree_default = Pipeline([\n",
    "    ('poly_feature_2', PolynomialFeatures(2)),\n",
    "    ('scaler', MinMaxScaler() ), \n",
    "    ('tree_default',  tree_default_model)\n",
    "])\n",
    "\n",
    "tree_default.fit(X_train, y_train)\n",
    "\n",
    "\n",
    "# save\n",
    "path_model = f'artifacts/models/{folder_models}/tree_default.pkl'\n",
    "with open(path_model, 'wb') as f:\n",
    "    pickle.dump(tree_default, f)\n",
    "\n",
    "\n",
    "# show tree trained\n",
    "#plot_tree(tree_default)"
   ]
  },
  {
   "cell_type": "code",
   "execution_count": null,
   "id": "3d15a554-730e-4445-8c57-ff7fe205c05f",
   "metadata": {},
   "outputs": [],
   "source": []
  },
  {
   "cell_type": "code",
   "execution_count": null,
   "id": "82549dd0-5280-4b9b-8672-ff328f94bb5d",
   "metadata": {},
   "outputs": [],
   "source": []
  },
  {
   "cell_type": "markdown",
   "id": "89fa1aee-e823-4039-bd4e-493a8c9fbb36",
   "metadata": {},
   "source": [
    "### 4.1 rf_simple"
   ]
  },
  {
   "cell_type": "code",
   "execution_count": null,
   "id": "93f4cca7-2ed9-47f7-ab36-45fde8f81773",
   "metadata": {},
   "outputs": [],
   "source": [
    "# train\n",
    "param_n_trees = 3\n",
    "rf_simple_model = RandomForestRegressor(n_estimators = param_n_trees,\n",
    "                                  random_state = 42,\n",
    "                                 min_samples_split = 0.2,\n",
    "                                    min_samples_leaf = 0.1)\n",
    "                                   #max_depth = 2)\n",
    "\n",
    "rf_simple = Pipeline([\n",
    "    ('poly_feature_2', PolynomialFeatures(2)),\n",
    "    ('scaler', MinMaxScaler() ), \n",
    "    ('rf_simple',  rf_simple_model)\n",
    "])\n",
    "\n",
    "rf_simple.fit(X_train, y_train)\n",
    "\n",
    "\n",
    "# save\n",
    "path_model = f'artifacts/models/{folder_models}/rf_simple.pkl'\n",
    "with open(path_model, 'wb') as f:\n",
    "    pickle.dump(rf_simple, f)\n",
    "\n",
    "\n",
    "# show tree trained\n",
    "# fig, axes = plt.subplots(nrows = 1, ncols = param_n_trees, figsize = (10,2), dpi=900)\n",
    "# for index in range(0, param_n_trees):\n",
    "#     plot_tree(rf_simple.estimators_[index],\n",
    "#                     feature_names = list_features,\n",
    "#                    filled = True,\n",
    "#                    ax = axes[index])\n",
    "#     axes[index].set_title('Estimator: ' + str(index), fontsize = 11)\n",
    "# fig.savefig(f'artifacts/models_fig/{folder_models}/rf_simple.png', dpi = 300)"
   ]
  },
  {
   "cell_type": "code",
   "execution_count": null,
   "id": "4f1b718b-0058-4226-bda5-51f7b61dd064",
   "metadata": {},
   "outputs": [],
   "source": []
  },
  {
   "cell_type": "code",
   "execution_count": null,
   "id": "ea7501b3-ab6d-43b3-bf2f-9a9439a531c2",
   "metadata": {},
   "outputs": [],
   "source": []
  },
  {
   "cell_type": "code",
   "execution_count": null,
   "id": "e4ecdf1f-f9ed-4354-b8af-d09b55bca604",
   "metadata": {},
   "outputs": [],
   "source": []
  },
  {
   "cell_type": "markdown",
   "id": "d8fb9adb-dbcf-4180-abe0-87fd2d473d03",
   "metadata": {},
   "source": [
    "### 4.2 rf_default"
   ]
  },
  {
   "cell_type": "code",
   "execution_count": null,
   "id": "d5809dc2-8e10-4edd-a2c2-5c14dd4bdb04",
   "metadata": {},
   "outputs": [],
   "source": [
    "# train\n",
    "rf_default_model = RandomForestRegressor(random_state = 42)\n",
    "\n",
    "rf_default = Pipeline([\n",
    "    ('poly_feature_2', PolynomialFeatures(2)),\n",
    "    ('scaler', MinMaxScaler() ), \n",
    "    ('rf_default',  rf_default_model)\n",
    "])\n",
    "\n",
    "rf_default.fit(X_train, y_train)\n",
    "\n",
    "\n",
    "# save\n",
    "path_model = f'artifacts/models/{folder_models}/rf_default.pkl'\n",
    "with open(path_model, 'wb') as f:\n",
    "    pickle.dump(rf_default, f)"
   ]
  },
  {
   "cell_type": "code",
   "execution_count": null,
   "id": "ef451b4b-b15b-457d-a1dd-8569fd1ab8d4",
   "metadata": {},
   "outputs": [],
   "source": []
  },
  {
   "cell_type": "code",
   "execution_count": null,
   "id": "33cb3cdf-898f-4da4-bdbb-b55069e6ed63",
   "metadata": {},
   "outputs": [],
   "source": []
  },
  {
   "cell_type": "markdown",
   "id": "39487111-80aa-46a6-8614-02b4b599728c",
   "metadata": {},
   "source": [
    "### 5.1. gb_simple"
   ]
  },
  {
   "cell_type": "code",
   "execution_count": null,
   "id": "3d792b6d-34d7-4f8c-a1fb-8550e532b167",
   "metadata": {},
   "outputs": [],
   "source": [
    "# train\n",
    "param_n_estimators = 3\n",
    "gb_simple_model = GradientBoostingRegressor(random_state=0,\n",
    "                                     n_estimators = param_n_estimators,\n",
    "                                      min_samples_split = 0.2,\n",
    "                                    min_samples_leaf = 0.1,\n",
    "                                    #max_depth = 2)\n",
    "                                     )\n",
    "\n",
    "gb_simple = Pipeline([\n",
    "    ('poly_feature_2', PolynomialFeatures(2)),\n",
    "    ('scaler', MinMaxScaler() ), \n",
    "    ('gb_simple',  gb_simple_model)\n",
    "])\n",
    "\n",
    "gb_simple.fit(X_train, y_train)\n",
    "\n",
    "\n",
    "# save\n",
    "path_model = f'artifacts/models/{folder_models}/gb_simple.pkl'\n",
    "with open(path_model, 'wb') as f:\n",
    "    pickle.dump(gb_simple, f)\n",
    "\n",
    "\n",
    "# # show tree trained\n",
    "# fig, axes = plt.subplots(nrows = 1, ncols = param_n_estimators, figsize = (10,2), dpi=900)\n",
    "# for index in range(0, param_n_estimators):\n",
    "#     plot_tree(gb_simple[index][0],\n",
    "#                     feature_names = list_features,\n",
    "#                    filled = True,\n",
    "#                    ax = axes[index])\n",
    "#     axes[index].set_title('Estimator: ' + str(index), fontsize = 11)\n",
    "# fig.savefig(f'artifacts/models_fig/{folder_models}/gb_simple.png', dpi = 300)"
   ]
  },
  {
   "cell_type": "code",
   "execution_count": null,
   "id": "17f8b3f7-989c-439b-a442-675c47fd435d",
   "metadata": {},
   "outputs": [],
   "source": []
  },
  {
   "cell_type": "code",
   "execution_count": null,
   "id": "02a669d0-77d1-4ed9-87d8-d9d3a8daa0f6",
   "metadata": {},
   "outputs": [],
   "source": []
  },
  {
   "cell_type": "markdown",
   "id": "eecaec93-a8cd-4563-abef-5b705992769c",
   "metadata": {},
   "source": [
    "### 5.2 gb_default"
   ]
  },
  {
   "cell_type": "code",
   "execution_count": null,
   "id": "982cac28-718e-451c-b567-4cd40e68d2d9",
   "metadata": {},
   "outputs": [],
   "source": [
    "# train\n",
    "gb_default_model = GradientBoostingRegressor(random_state = 42)\n",
    "\n",
    "gb_default = Pipeline([\n",
    "    ('poly_feature_2', PolynomialFeatures(2)),\n",
    "    ('scaler', MinMaxScaler() ), \n",
    "    ('gb_default',  gb_default_model)\n",
    "])\n",
    "\n",
    "gb_default.fit(X_train, y_train)\n",
    "\n",
    "\n",
    "# save\n",
    "path_model = f'artifacts/models/{folder_models}/gb_default.pkl'\n",
    "with open(path_model, 'wb') as f:\n",
    "    pickle.dump(gb_default, f)"
   ]
  },
  {
   "cell_type": "code",
   "execution_count": null,
   "id": "09529917-40aa-4dc3-babe-b92921f2d334",
   "metadata": {},
   "outputs": [],
   "source": []
  },
  {
   "cell_type": "code",
   "execution_count": null,
   "id": "c554d24f-8a55-4b3f-8d94-78d9f76d7647",
   "metadata": {},
   "outputs": [],
   "source": []
  },
  {
   "cell_type": "code",
   "execution_count": null,
   "id": "0a5049e7-c8c7-4628-845c-6a7d8d5b1df2",
   "metadata": {},
   "outputs": [],
   "source": []
  },
  {
   "cell_type": "markdown",
   "id": "2281faa9-1edd-443d-81b6-811d27b8ec97",
   "metadata": {},
   "source": [
    "### 6.1 xgb_simple"
   ]
  },
  {
   "cell_type": "code",
   "execution_count": null,
   "id": "4ec27a0a-f2f6-4f29-bb9c-e0cf860d9d11",
   "metadata": {},
   "outputs": [],
   "source": [
    "# train\n",
    "param_n_estimators = 3\n",
    "xgb_simple_model = XGBRegressor(random_state = 42,\n",
    "                                     n_estimators = param_n_estimators,\n",
    "                                      min_samples_split = 0.2,\n",
    "                                    min_samples_leaf = 0.1,\n",
    "                                    #max_depth = 2)\n",
    "                                     )\n",
    "\n",
    "xgb_simple = Pipeline([\n",
    "    ('poly_feature_2', PolynomialFeatures(2)),\n",
    "    ('scaler', MinMaxScaler() ), \n",
    "    ('xgb_simple',  xgb_simple_model)\n",
    "])\n",
    "\n",
    "\n",
    "xgb_simple.fit(X_train, y_train)\n",
    "\n",
    "\n",
    "# save\n",
    "path_model = f'artifacts/models/{folder_models}/xgb_simple.pkl'\n",
    "with open(path_model, 'wb') as f:\n",
    "    pickle.dump(xgb_simple, f)\n",
    "\n",
    "\n",
    "# show tree trained\n",
    "# path graphviz\n",
    "graphviz_path = 'D:/Graphviz/bin'\n",
    "os.environ['PATH'] = f\"{graphviz_path};{os.environ['PATH']}\"\n",
    "\n",
    "# show\n",
    "# fig, axes = plt.subplots(nrows = 1, ncols = param_n_estimators, figsize = (10,2), dpi=900)\n",
    "# for index in range(0, param_n_estimators):\n",
    "#     #axes[index] = xgb.plot_tree(xgb_simple, num_trees = index, fill = True)\n",
    "#     xgb.plot_tree(xgb_simple, num_trees = index, fill = True, ax=axes[index])\n",
    "#     axes[index].set_title('Estimator: ' + str(index), fontsize = 11)\n",
    "# fig.savefig(f'artifacts/models_fig/{folder_models}/xgb_simple.png', dpi = 1300)"
   ]
  },
  {
   "cell_type": "code",
   "execution_count": null,
   "id": "55b1d798-7575-4b2b-b2af-7385283c2866",
   "metadata": {},
   "outputs": [],
   "source": []
  },
  {
   "cell_type": "code",
   "execution_count": null,
   "id": "5e154757-3d6d-49af-b6ab-c7edf860b052",
   "metadata": {},
   "outputs": [],
   "source": []
  },
  {
   "cell_type": "code",
   "execution_count": null,
   "id": "d7b2cfa6-fbf1-4bed-8b16-cf4b8cb0e1f4",
   "metadata": {},
   "outputs": [],
   "source": []
  },
  {
   "cell_type": "markdown",
   "id": "19780f67-d779-4778-aba3-68b6d7c54e92",
   "metadata": {},
   "source": [
    "### 6.2 xgb_default"
   ]
  },
  {
   "cell_type": "code",
   "execution_count": null,
   "id": "7c75d073-b385-4f02-a553-26ff32c4afbe",
   "metadata": {},
   "outputs": [],
   "source": [
    "# train\n",
    "xgb_default_model = XGBRegressor(random_state = 42)\n",
    "\n",
    "xgb_default = Pipeline([\n",
    "    ('poly_feature_2', PolynomialFeatures(2)),\n",
    "    ('scaler', MinMaxScaler() ), \n",
    "    ('xgb_default',  xgb_default_model)\n",
    "])\n",
    "\n",
    "xgb_default.fit(X_train, y_train)\n",
    "\n",
    "\n",
    "# save\n",
    "path_model = f'artifacts/models/{folder_models}/xgb_default.pkl'\n",
    "with open(path_model, 'wb') as f:\n",
    "    pickle.dump(xgb_default, f)"
   ]
  },
  {
   "cell_type": "code",
   "execution_count": null,
   "id": "a5d744b4-d4e9-4447-adbb-f1b025e552ee",
   "metadata": {},
   "outputs": [],
   "source": []
  },
  {
   "cell_type": "code",
   "execution_count": null,
   "id": "63b4d96d-c911-41df-810c-cc125ccafc64",
   "metadata": {},
   "outputs": [],
   "source": []
  },
  {
   "cell_type": "code",
   "execution_count": null,
   "id": "9959baa1-4819-48ae-9f56-ae5c0d93d7a9",
   "metadata": {},
   "outputs": [],
   "source": []
  },
  {
   "cell_type": "markdown",
   "id": "22271cd7-5825-4324-823d-c0fe12860e37",
   "metadata": {},
   "source": [
    "### 7.1 mlp_simple"
   ]
  },
  {
   "cell_type": "code",
   "execution_count": null,
   "id": "21fa038d-8fd2-4620-80c2-39c9698785b7",
   "metadata": {},
   "outputs": [],
   "source": [
    "# train\n",
    "mlp_simple_model = MLPRegressor(random_state = 42, max_iter=500, hidden_layer_sizes = [5, 1])\n",
    "\n",
    "mlp_simple = Pipeline([\n",
    "    ('poly_feature_2', PolynomialFeatures(2)),\n",
    "    ('scaler', MinMaxScaler() ), \n",
    "    ('mlp_simple',  mlp_simple_model)\n",
    "])\n",
    "\n",
    "mlp_simple.fit(X_train, y_train)\n",
    "\n",
    "# save\n",
    "path_model = f'artifacts/models/{folder_models}/mlp_simple.pkl'\n",
    "with open(path_model, 'wb') as f:\n",
    "    pickle.dump(mlp_simple, f)"
   ]
  },
  {
   "cell_type": "code",
   "execution_count": null,
   "id": "86b50e64-aa8e-4ac4-9223-52f87d8ae2a7",
   "metadata": {},
   "outputs": [],
   "source": []
  },
  {
   "cell_type": "code",
   "execution_count": null,
   "id": "5958616f-32c1-4e4f-aec2-59510b8cd0eb",
   "metadata": {},
   "outputs": [],
   "source": []
  },
  {
   "cell_type": "markdown",
   "id": "80c70ef5-0ea6-4f9e-b910-171e74b39427",
   "metadata": {},
   "source": [
    "### 7.2 mlp_default"
   ]
  },
  {
   "cell_type": "code",
   "execution_count": null,
   "id": "9fddb9a5-c584-497f-8a01-f0cf6a60bef9",
   "metadata": {},
   "outputs": [],
   "source": [
    "# train\n",
    "mlp_default_model = MLPRegressor(random_state = 42, max_iter=500)\n",
    "\n",
    "mlp_default = Pipeline([\n",
    "    ('poly_feature_2', PolynomialFeatures(2)),\n",
    "    ('scaler', MinMaxScaler() ), \n",
    "    ('mlp_default',  mlp_default_model)\n",
    "])\n",
    "\n",
    "mlp_default.fit(X_train, y_train)\n",
    "\n",
    "# save\n",
    "path_model = f'artifacts/models/{folder_models}/mlp_default.pkl'\n",
    "with open(path_model, 'wb') as f:\n",
    "    pickle.dump(mlp_default, f)"
   ]
  },
  {
   "cell_type": "code",
   "execution_count": null,
   "id": "65d09706-06aa-4201-804c-8ad2bc0a6c29",
   "metadata": {},
   "outputs": [],
   "source": []
  },
  {
   "cell_type": "code",
   "execution_count": null,
   "id": "e4a53af8-9c1d-40ac-b9fe-b617f461ee88",
   "metadata": {},
   "outputs": [],
   "source": []
  },
  {
   "cell_type": "code",
   "execution_count": null,
   "id": "8b289bc2-3df3-40ce-8097-e72cddbfd51b",
   "metadata": {},
   "outputs": [],
   "source": []
  },
  {
   "cell_type": "code",
   "execution_count": null,
   "id": "d9ad4bb2-858d-4479-89d6-a37b0ac2c242",
   "metadata": {},
   "outputs": [],
   "source": []
  },
  {
   "cell_type": "code",
   "execution_count": null,
   "id": "1a38a0f9-dbf7-49ad-b66c-e71ce56d2b46",
   "metadata": {},
   "outputs": [],
   "source": []
  }
 ],
 "metadata": {
  "kernelspec": {
   "display_name": "Python 3 (ipykernel)",
   "language": "python",
   "name": "python3"
  },
  "language_info": {
   "codemirror_mode": {
    "name": "ipython",
    "version": 3
   },
   "file_extension": ".py",
   "mimetype": "text/x-python",
   "name": "python",
   "nbconvert_exporter": "python",
   "pygments_lexer": "ipython3",
   "version": "3.10.14"
  }
 },
 "nbformat": 4,
 "nbformat_minor": 5
}
