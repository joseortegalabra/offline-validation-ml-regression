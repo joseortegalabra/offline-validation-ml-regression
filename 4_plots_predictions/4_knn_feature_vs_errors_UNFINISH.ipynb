{
 "cells": [
  {
   "cell_type": "markdown",
   "id": "3d59f7fc-6d9e-4960-999c-207e58f1d67f",
   "metadata": {},
   "source": [
    "### TODO: IMPOVE THIS"
   ]
  },
  {
   "cell_type": "markdown",
   "id": "af23f723-2476-48da-8e1b-b5db90e9c3e6",
   "metadata": {},
   "source": [
    "# KNN features vs errors\n",
    "THE IDEA IS SEE IF THE VALUES OF SOME FEATURES HAS HIGHER ERRORS - training a knn model to identify which segments of data has the higger errors\n",
    "\n",
    "\n",
    "Plots of predictions of the models with any kind of transformation\n",
    "\n",
    "**IMPORTANT**: The list of models to evaluate is the same, but each model could have its own feature eng, but the Input (the data_X) and the Output (the prediction) follow the same structure, so it is necesary only one notebook to evaluate the differents notebooks of training (if it is not logic for you thinking in the kaggle competitions).\n",
    "\n",
    "In this notebook, there are a parameter \"folder_models\" and in this folder are located the pkl of each model"
   ]
  },
  {
   "cell_type": "code",
   "execution_count": null,
   "id": "15086bcf-d1a7-4eda-9774-34444f24f03d",
   "metadata": {},
   "outputs": [],
   "source": [
    "import os\n",
    "# fix root path to save outputs\n",
    "actual_path = os.path.abspath(os.getcwd())\n",
    "list_root_path = actual_path.split('\\\\')[:-1]\n",
    "root_path = '\\\\'.join(list_root_path)\n",
    "os.chdir(root_path)\n",
    "print('root path: ', root_path)"
   ]
  },
  {
   "cell_type": "code",
   "execution_count": null,
   "id": "79d31f4e-c776-4d9d-8efe-055ef94e1edc",
   "metadata": {},
   "outputs": [],
   "source": []
  },
  {
   "cell_type": "markdown",
   "id": "375f572f-cfd4-4e8e-a895-580672796d41",
   "metadata": {},
   "source": [
    "## RUN"
   ]
  },
  {
   "cell_type": "code",
   "execution_count": null,
   "id": "f2c9c46b-0d53-4030-a0d8-55beed0ad1dd",
   "metadata": {},
   "outputs": [],
   "source": [
    "import warnings\n",
    "warnings.filterwarnings('ignore')\n",
    "\n",
    "import pandas as pd\n",
    "import numpy as np\n",
    "import pickle\n",
    "import matplotlib.pyplot as plt\n",
    "\n",
    "import plotly.graph_objs as go\n",
    "from plotly.subplots import make_subplots\n",
    "import plotly.express as px"
   ]
  },
  {
   "cell_type": "code",
   "execution_count": null,
   "id": "9e047b73-7c55-477c-a028-bfea0c567c87",
   "metadata": {},
   "outputs": [],
   "source": []
  },
  {
   "cell_type": "markdown",
   "id": "d80e6679-8838-49be-aa44-f6393a2189a0",
   "metadata": {},
   "source": [
    "### 0. Global params"
   ]
  },
  {
   "cell_type": "code",
   "execution_count": null,
   "id": "5c807f7f-fe2e-40a3-9182-732d9ad5a3c2",
   "metadata": {},
   "outputs": [],
   "source": [
    "# define folder where the models were saved. There are the same models accepted by gurobi but the feature eng changed\n",
    "\n",
    "# list of folder with models = ['basic', 'scaler', 'poly_2', 'poly_3']\n",
    "folder_models = 'basic'"
   ]
  },
  {
   "cell_type": "code",
   "execution_count": null,
   "id": "ac559f84-4c10-4ebb-be4a-ba9440054d7f",
   "metadata": {},
   "outputs": [],
   "source": []
  },
  {
   "cell_type": "markdown",
   "id": "8f383b70-f1d9-4606-86d1-91f166caa58b",
   "metadata": {},
   "source": [
    "### 1. Load data"
   ]
  },
  {
   "cell_type": "code",
   "execution_count": null,
   "id": "2b7fed6c-92db-4682-822e-8d95392568ff",
   "metadata": {},
   "outputs": [],
   "source": [
    "### DEFINE LIST FEARTURES - TARGET (order data to have the same order in the features always)\n",
    "list_features = ['AveOccup', 'Latitude', 'Population', 'AveBedrms', 'HouseAge', 'Longitude', 'AveRooms', 'MedInc']\n",
    "target = 'Price'"
   ]
  },
  {
   "cell_type": "code",
   "execution_count": null,
   "id": "f30e7496-7868-4436-b443-cdc415cbe977",
   "metadata": {},
   "outputs": [],
   "source": [
    "### LOAD DATA\n",
    "X_train = pd.read_pickle('artifacts/data/X_train.pkl')\n",
    "X_test = pd.read_pickle('artifacts/data/X_test.pkl')\n",
    "y_train = pd.read_pickle('artifacts/data/y_train.pkl')\n",
    "y_test = pd.read_pickle('artifacts/data/y_test.pkl')"
   ]
  },
  {
   "cell_type": "code",
   "execution_count": null,
   "id": "aab84813-d0cf-4984-b985-0ee7d96ff227",
   "metadata": {},
   "outputs": [],
   "source": [
    "print('shape data')\n",
    "print('\\n\\n TRAIN')\n",
    "print('X_train: ', X_train.shape)\n",
    "print('y_train: ', y_train.shape)\n",
    "\n",
    "print('\\n\\n TEST')\n",
    "print('X_test: ', X_test.shape)\n",
    "print('y_test: ', y_test.shape)"
   ]
  },
  {
   "cell_type": "code",
   "execution_count": null,
   "id": "d17ea9b7-8585-4830-a87d-c7fcdce765ff",
   "metadata": {},
   "outputs": [],
   "source": [
    "# # sample - run fast\n",
    "# X_train = X_train[0:100]\n",
    "# y_train = y_train[0:100]"
   ]
  },
  {
   "cell_type": "code",
   "execution_count": null,
   "id": "99bb083c-d2e2-4e10-97c3-84a8d4858836",
   "metadata": {},
   "outputs": [],
   "source": []
  },
  {
   "cell_type": "code",
   "execution_count": null,
   "id": "82a62564-70a5-4f91-9e38-1541fc78e9a0",
   "metadata": {},
   "outputs": [],
   "source": []
  },
  {
   "cell_type": "markdown",
   "id": "51ef807b-a0a1-46c7-a9ad-65b023652cd3",
   "metadata": {},
   "source": [
    "### 2. Load Models\n",
    "Load all the models in a dictory"
   ]
  },
  {
   "cell_type": "code",
   "execution_count": null,
   "id": "07259b0d-3fb9-4421-b230-bb4fecc999af",
   "metadata": {},
   "outputs": [],
   "source": [
    "## define list of models - list to have always the same order.\n",
    "#### In this example, the strings in the list are the same with the models were saved\n",
    "list_models_names = [\n",
    "    \"lr\",\n",
    "    \"ridge\",\n",
    "    \"lasso\",\n",
    "    \n",
    "    \"tree_simple\",\n",
    "    \"tree_default\",\n",
    "    \n",
    "    \"rf_simple\",\n",
    "    \"rf_default\",\n",
    "\n",
    "    \"gb_simple\",\n",
    "    \"gb_default\",\n",
    "\n",
    "    \"xgb_simple\",\n",
    "    \"xgb_default\",\n",
    "\n",
    "    \"mlp_simple\",\n",
    "    \"mlp_default\"\n",
    "]"
   ]
  },
  {
   "cell_type": "code",
   "execution_count": null,
   "id": "0e52f3b5-49b7-4b23-879c-b7b40fd96d9b",
   "metadata": {},
   "outputs": [],
   "source": [
    "# define path to folder models\n",
    "path_folder_models = f'artifacts/models/{folder_models}/'"
   ]
  },
  {
   "cell_type": "code",
   "execution_count": null,
   "id": "e53325c9-dfa6-4bbf-986c-db8cbd6fefcf",
   "metadata": {},
   "outputs": [],
   "source": [
    "### load models\n",
    "dict_models = {}\n",
    "for model_name in list_models_names:\n",
    "    print(f'loading model: {model_name}')\n",
    "    path_model = path_folder_models + f'{model_name}.pkl'\n",
    "    with open(path_model, 'rb') as artifact:\n",
    "        dict_models[model_name] = pickle.load(artifact)"
   ]
  },
  {
   "cell_type": "code",
   "execution_count": null,
   "id": "4e26fb34-9575-46c2-ad9c-253297b444a6",
   "metadata": {},
   "outputs": [],
   "source": []
  },
  {
   "cell_type": "markdown",
   "id": "eeb9e8ac-e4eb-403a-9d19-3cb8e9dc3633",
   "metadata": {},
   "source": [
    "### 3. Train KNN\n",
    "It is necessary train and test datasets"
   ]
  },
  {
   "cell_type": "code",
   "execution_count": null,
   "id": "d19e9298-1cd5-4911-9421-3ac335d83562",
   "metadata": {},
   "outputs": [],
   "source": [
    "from sklearn.preprocessing import MinMaxScaler\n",
    "from sklearn.neighbors import KNeighborsRegressor\n",
    "from sklearn.neighbors import KNeighborsClassifier\n",
    "\n",
    "from sklearn.metrics import r2_score\n",
    "from sklearn.metrics import mean_squared_error"
   ]
  },
  {
   "cell_type": "markdown",
   "id": "3f265cb3-3d7c-4d70-b5da-5825e1e6022b",
   "metadata": {},
   "source": [
    "### 3.0 Define model and data set"
   ]
  },
  {
   "cell_type": "code",
   "execution_count": null,
   "id": "52b40c22-db1f-423a-baa1-883905c0de4f",
   "metadata": {},
   "outputs": [],
   "source": [
    "# select model\n",
    "model = dict_models['lr']\n",
    "\n",
    "# plot errors or abs(errors)\n",
    "abs_error = True"
   ]
  },
  {
   "cell_type": "code",
   "execution_count": null,
   "id": "b1ef42e6-4045-4386-a8dd-4ad8f00bd760",
   "metadata": {},
   "outputs": [],
   "source": []
  },
  {
   "cell_type": "markdown",
   "id": "82eb59df-0889-4483-bda8-889a6f613ef4",
   "metadata": {},
   "source": [
    "#### 3.1 Generate errors"
   ]
  },
  {
   "cell_type": "code",
   "execution_count": null,
   "id": "6fdb4c1d-1f75-436f-826e-470a7326fe78",
   "metadata": {},
   "outputs": [],
   "source": [
    "# predict y_train_pred\n",
    "y_train_pred = model.predict(X_train)\n",
    "y_train_pred = pd.DataFrame(y_train_pred, index = y_train.index, columns = y_train.columns)\n",
    "\n",
    "# predict y_test_pred\n",
    "y_test_pred = model.predict(X_test)\n",
    "y_test_pred = pd.DataFrame(y_test_pred, index = y_test.index, columns = y_test.columns)"
   ]
  },
  {
   "cell_type": "code",
   "execution_count": null,
   "id": "ff851d28-11ac-4f9e-a737-a0be2d159b40",
   "metadata": {},
   "outputs": [],
   "source": [
    "# calculate error train\n",
    "errors_train = y_train - y_train_pred # error\n",
    "errors_train_abs = np.abs(errors_train) # errors in abs value\n",
    "if abs_error:\n",
    "    errors_train_to_plot = errors_train_abs\n",
    "else:\n",
    "    errors_train_to_plot = errors_train\n",
    "\n",
    "\n",
    "# calculate error test\n",
    "errors_test = y_test - y_test_pred # error\n",
    "errors_test_abs = np.abs(errors_test) # errors in abs value\n",
    "if abs_error:\n",
    "    errors_test_to_plot = errors_test_abs\n",
    "else:\n",
    "    errors_test_to_plot = errors_test"
   ]
  },
  {
   "cell_type": "code",
   "execution_count": null,
   "id": "4afea085-a7fe-4579-8457-cc7423a3e412",
   "metadata": {},
   "outputs": [],
   "source": []
  },
  {
   "cell_type": "markdown",
   "id": "aa863ec3-270f-4179-9c87-025167be11a5",
   "metadata": {},
   "source": [
    "#### 3.2 scale data - knn sensibility to dimensions of data - euclidian distance"
   ]
  },
  {
   "cell_type": "code",
   "execution_count": null,
   "id": "71535bed-7e09-4a47-b5e2-7b31e3a3d821",
   "metadata": {},
   "outputs": [],
   "source": [
    "# fit\n",
    "scaler = MinMaxScaler()\n",
    "scaler.fit(X_train)\n",
    "\n",
    "# transform\n",
    "X_train_scaled = scaler.transform(X_train)\n",
    "X_test_scaled = scaler.transform(X_test)"
   ]
  },
  {
   "cell_type": "code",
   "execution_count": null,
   "id": "70113780-b3ba-4413-8747-bfa67481f218",
   "metadata": {},
   "outputs": [],
   "source": []
  },
  {
   "cell_type": "markdown",
   "id": "4d9ba654-35bb-4146-aa77-27fab3d4a0ab",
   "metadata": {},
   "source": [
    "#### 3.3 split errors"
   ]
  },
  {
   "cell_type": "code",
   "execution_count": null,
   "id": "806c9a74-96f1-4995-af23-6be6b939b684",
   "metadata": {},
   "outputs": [],
   "source": [
    "### define bins to split data\n",
    "\n",
    "# deciles = [i / 10 for i in range(1, 10)]\n",
    "# bins_split_errors = errors_train_to_plot.quantile(deciles)\n",
    "# bins_split_errors"
   ]
  },
  {
   "cell_type": "code",
   "execution_count": null,
   "id": "bbc59b45-abd6-4f03-8d31-b148793b1273",
   "metadata": {},
   "outputs": [],
   "source": [
    "# split train\n",
    "errors_train_decil = pd.qcut(errors_train_to_plot[target].values, q=10, labels=False) + 1\n",
    "errors_train_decil"
   ]
  },
  {
   "cell_type": "code",
   "execution_count": null,
   "id": "0924403e-ce51-4cbf-9e84-34e44cfd283f",
   "metadata": {},
   "outputs": [],
   "source": [
    "# split test - to do using bins get in train"
   ]
  },
  {
   "cell_type": "code",
   "execution_count": null,
   "id": "c8b7209f-612e-4045-bcf8-00b0d31199c4",
   "metadata": {},
   "outputs": [],
   "source": []
  },
  {
   "cell_type": "markdown",
   "id": "c5bbd832-dd0a-4c5f-8ff9-cb14a8620fca",
   "metadata": {},
   "source": [
    "#### 3.4 train knn regressor"
   ]
  },
  {
   "cell_type": "code",
   "execution_count": null,
   "id": "861beae7-d7df-4372-99ea-89a9c469dc1a",
   "metadata": {},
   "outputs": [],
   "source": [
    "# for index_neighbors in range(1, 30):\n",
    "#     print('\\n ------- neighbors: ', index_neighbors)\n",
    "\n",
    "\n",
    "#     # define model\n",
    "#     knn = KNeighborsRegressor(n_neighbors = index_neighbors, leaf_size = 30)\n",
    "\n",
    "#     # train\n",
    "#     knn.fit(X_train_scaled, errors_train_to_plot)\n",
    "\n",
    "#     # predict\n",
    "#     prediction_train = knn.predict(X_train_scaled)\n",
    "#     #prediction_test = knn.predict(X_test_scaled)\n",
    "\n",
    "#     # metrics\n",
    "#     r2 = r2_score(errors_train_to_plot, prediction_train)\n",
    "#     mse = mean_squared_error(errors_train_to_plot, prediction_train, squared = True)\n",
    "#     rmse = mean_squared_error(errors_train_to_plot, prediction_train, squared = False)\n",
    "\n",
    "#     print('r2: ', r2)\n",
    "#     print('mse: ', mse)\n",
    "#     print('rmse: ', rmse)"
   ]
  },
  {
   "cell_type": "code",
   "execution_count": null,
   "id": "7610d659-acd8-44c2-9079-97620704d4c7",
   "metadata": {},
   "outputs": [],
   "source": []
  },
  {
   "cell_type": "markdown",
   "id": "d149982d-2a36-44cb-9fe6-393d1dfa4e78",
   "metadata": {},
   "source": [
    "### 3.5 train knn classifier"
   ]
  },
  {
   "cell_type": "code",
   "execution_count": null,
   "id": "42eae5cf-d3e5-4a16-95b8-1cb365c2b391",
   "metadata": {},
   "outputs": [],
   "source": [
    "for index_neighbors in range(1, 30):\n",
    "    print('\\n ------- neighbors: ', index_neighbors)\n",
    "\n",
    "\n",
    "    # define model\n",
    "    knn = KNeighborsClassifier(n_neighbors = index_neighbors)\n",
    "\n",
    "    # train\n",
    "    knn.fit(X_train_scaled, errors_train_decil)\n",
    "\n",
    "    # score\n",
    "    acc = knn.score(X_train_scaled, errors_train_decil)\n",
    "    print('acc: ', acc)"
   ]
  },
  {
   "cell_type": "code",
   "execution_count": null,
   "id": "eb8ecff6-57b7-40d2-8706-268f8abe325e",
   "metadata": {},
   "outputs": [],
   "source": []
  },
  {
   "cell_type": "code",
   "execution_count": null,
   "id": "1f2cc6bb-88ab-400e-a767-6cd9c9d9906d",
   "metadata": {},
   "outputs": [],
   "source": []
  },
  {
   "cell_type": "code",
   "execution_count": null,
   "id": "b2006f88-c5f8-45da-a82b-d9ada948a9e2",
   "metadata": {},
   "outputs": [],
   "source": []
  },
  {
   "cell_type": "code",
   "execution_count": null,
   "id": "b5d1d263-ad76-4b3b-9080-f27f7f15934d",
   "metadata": {},
   "outputs": [],
   "source": []
  },
  {
   "cell_type": "code",
   "execution_count": null,
   "id": "d3b93f94-7865-43ed-a4b0-0d8f7f988e3b",
   "metadata": {},
   "outputs": [],
   "source": []
  }
 ],
 "metadata": {
  "kernelspec": {
   "display_name": "Python 3 (ipykernel)",
   "language": "python",
   "name": "python3"
  },
  "language_info": {
   "codemirror_mode": {
    "name": "ipython",
    "version": 3
   },
   "file_extension": ".py",
   "mimetype": "text/x-python",
   "name": "python",
   "nbconvert_exporter": "python",
   "pygments_lexer": "ipython3",
   "version": "3.10.14"
  }
 },
 "nbformat": 4,
 "nbformat_minor": 5
}
