{
 "cells": [
  {
   "cell_type": "markdown",
   "id": "af23f723-2476-48da-8e1b-b5db90e9c3e6",
   "metadata": {},
   "source": [
    "# Plots predictions\n",
    "Plots of predictions of the models with any kind of transformation\n",
    "\n",
    "**IMPORTANT**: The list of models to evaluate is the same, but each model could have its own feature eng, but the Input (the data_X) and the Output (the prediction) follow the same structure, so it is necesary only one notebook to evaluate the differents notebooks of training (if it is not logic for you thinking in the kaggle competitions).\n",
    "\n",
    "In this notebook, there are a parameter \"folder_models\" and in this folder are located the pkl of each model"
   ]
  },
  {
   "cell_type": "code",
   "execution_count": null,
   "id": "15086bcf-d1a7-4eda-9774-34444f24f03d",
   "metadata": {},
   "outputs": [],
   "source": [
    "import os\n",
    "# fix root path to save outputs\n",
    "actual_path = os.path.abspath(os.getcwd())\n",
    "list_root_path = actual_path.split('\\\\')[:-1]\n",
    "root_path = '\\\\'.join(list_root_path)\n",
    "os.chdir(root_path)\n",
    "print('root path: ', root_path)"
   ]
  },
  {
   "cell_type": "code",
   "execution_count": null,
   "id": "79d31f4e-c776-4d9d-8efe-055ef94e1edc",
   "metadata": {},
   "outputs": [],
   "source": []
  },
  {
   "cell_type": "markdown",
   "id": "375f572f-cfd4-4e8e-a895-580672796d41",
   "metadata": {},
   "source": [
    "## RUN"
   ]
  },
  {
   "cell_type": "code",
   "execution_count": null,
   "id": "f2c9c46b-0d53-4030-a0d8-55beed0ad1dd",
   "metadata": {},
   "outputs": [],
   "source": [
    "import warnings\n",
    "warnings.filterwarnings('ignore')\n",
    "\n",
    "import pandas as pd\n",
    "import numpy as np\n",
    "import pickle\n",
    "import matplotlib.pyplot as plt\n",
    "\n",
    "import plotly.graph_objs as go\n",
    "from plotly.subplots import make_subplots\n",
    "import plotly.express as px"
   ]
  },
  {
   "cell_type": "code",
   "execution_count": null,
   "id": "9e047b73-7c55-477c-a028-bfea0c567c87",
   "metadata": {},
   "outputs": [],
   "source": []
  },
  {
   "cell_type": "markdown",
   "id": "d80e6679-8838-49be-aa44-f6393a2189a0",
   "metadata": {},
   "source": [
    "### 0. Global params"
   ]
  },
  {
   "cell_type": "code",
   "execution_count": null,
   "id": "5c807f7f-fe2e-40a3-9182-732d9ad5a3c2",
   "metadata": {},
   "outputs": [],
   "source": [
    "# define folder where the models were saved. There are the same models accepted by gurobi but the feature eng changed\n",
    "\n",
    "# list of folder with models = ['basic', 'scaler', 'poly_2', 'poly_3']\n",
    "folder_models = 'poly_3'"
   ]
  },
  {
   "cell_type": "code",
   "execution_count": null,
   "id": "ac559f84-4c10-4ebb-be4a-ba9440054d7f",
   "metadata": {},
   "outputs": [],
   "source": []
  },
  {
   "cell_type": "markdown",
   "id": "8f383b70-f1d9-4606-86d1-91f166caa58b",
   "metadata": {},
   "source": [
    "### 1. Load data"
   ]
  },
  {
   "cell_type": "code",
   "execution_count": null,
   "id": "2b7fed6c-92db-4682-822e-8d95392568ff",
   "metadata": {},
   "outputs": [],
   "source": [
    "### DEFINE LIST FEARTURES - TARGET (order data to have the same order in the features always)\n",
    "list_features = ['AveOccup', 'Latitude', 'Population', 'AveBedrms', 'HouseAge', 'Longitude', 'AveRooms', 'MedInc']\n",
    "target = 'Price'"
   ]
  },
  {
   "cell_type": "code",
   "execution_count": null,
   "id": "f30e7496-7868-4436-b443-cdc415cbe977",
   "metadata": {},
   "outputs": [],
   "source": [
    "### LOAD DATA\n",
    "X_train = pd.read_pickle('artifacts/data/X_train.pkl')\n",
    "X_test = pd.read_pickle('artifacts/data/X_test.pkl')\n",
    "y_train = pd.read_pickle('artifacts/data/y_train.pkl')\n",
    "y_test = pd.read_pickle('artifacts/data/y_test.pkl')"
   ]
  },
  {
   "cell_type": "code",
   "execution_count": null,
   "id": "aab84813-d0cf-4984-b985-0ee7d96ff227",
   "metadata": {},
   "outputs": [],
   "source": [
    "print('shape data')\n",
    "print('\\n\\n TRAIN')\n",
    "print('X_train: ', X_train.shape)\n",
    "print('y_train: ', y_train.shape)\n",
    "\n",
    "print('\\n\\n TEST')\n",
    "print('X_test: ', X_test.shape)\n",
    "print('y_test: ', y_test.shape)"
   ]
  },
  {
   "cell_type": "code",
   "execution_count": null,
   "id": "d17ea9b7-8585-4830-a87d-c7fcdce765ff",
   "metadata": {},
   "outputs": [],
   "source": [
    "# sample - run fast\n",
    "X_train = X_train[0:100]\n",
    "y_train = y_train[0:100]"
   ]
  },
  {
   "cell_type": "code",
   "execution_count": null,
   "id": "99bb083c-d2e2-4e10-97c3-84a8d4858836",
   "metadata": {},
   "outputs": [],
   "source": []
  },
  {
   "cell_type": "code",
   "execution_count": null,
   "id": "82a62564-70a5-4f91-9e38-1541fc78e9a0",
   "metadata": {},
   "outputs": [],
   "source": []
  },
  {
   "cell_type": "markdown",
   "id": "51ef807b-a0a1-46c7-a9ad-65b023652cd3",
   "metadata": {},
   "source": [
    "### 2. Load Models\n",
    "Load all the models in a dictory"
   ]
  },
  {
   "cell_type": "code",
   "execution_count": null,
   "id": "07259b0d-3fb9-4421-b230-bb4fecc999af",
   "metadata": {},
   "outputs": [],
   "source": [
    "## define list of models - list to have always the same order.\n",
    "#### In this example, the strings in the list are the same with the models were saved\n",
    "list_models_names = [\n",
    "    \"lr\",\n",
    "    \"ridge\",\n",
    "    \"lasso\",\n",
    "    \n",
    "    \"tree_simple\",\n",
    "    \"tree_default\",\n",
    "    \n",
    "    \"rf_simple\",\n",
    "    \"rf_default\",\n",
    "\n",
    "    \"gb_simple\",\n",
    "    \"gb_default\",\n",
    "\n",
    "    \"xgb_simple\",\n",
    "    \"xgb_default\",\n",
    "\n",
    "    \"mlp_simple\",\n",
    "    \"mlp_default\"\n",
    "]"
   ]
  },
  {
   "cell_type": "code",
   "execution_count": null,
   "id": "0e52f3b5-49b7-4b23-879c-b7b40fd96d9b",
   "metadata": {},
   "outputs": [],
   "source": [
    "# define path to folder models\n",
    "path_folder_models = f'artifacts/models/{folder_models}/'"
   ]
  },
  {
   "cell_type": "code",
   "execution_count": null,
   "id": "e53325c9-dfa6-4bbf-986c-db8cbd6fefcf",
   "metadata": {},
   "outputs": [],
   "source": [
    "### load models\n",
    "dict_models = {}\n",
    "for model_name in list_models_names:\n",
    "    print(f'loading model: {model_name}')\n",
    "    path_model = path_folder_models + f'{model_name}.pkl'\n",
    "    with open(path_model, 'rb') as artifact:\n",
    "        dict_models[model_name] = pickle.load(artifact)"
   ]
  },
  {
   "cell_type": "code",
   "execution_count": null,
   "id": "563b03ad-9ea3-4867-8c49-52a71d60bd5c",
   "metadata": {},
   "outputs": [],
   "source": []
  },
  {
   "cell_type": "markdown",
   "id": "3327cb0d-b287-49a0-ba1f-71174b2debe6",
   "metadata": {},
   "source": [
    "## CORRECT DATA TO PLOT TRENDS"
   ]
  },
  {
   "cell_type": "code",
   "execution_count": null,
   "id": "b2eb31ed-e4f9-480d-afe9-8fe5908d1d1f",
   "metadata": {},
   "outputs": [],
   "source": [
    "# correction data before plot - because this dataset is not a timeseries, the index are not sorted - delete index\n",
    "X_train.reset_index(inplace = True)\n",
    "X_train.drop(columns = 'index', inplace = True)\n",
    "\n",
    "y_train.reset_index(inplace = True)\n",
    "y_train.drop(columns = 'index', inplace = True)\n",
    "\n",
    "X_test.reset_index(inplace = True)\n",
    "X_test.drop(columns = 'index', inplace = True)\n",
    "\n",
    "y_test.reset_index(inplace = True)\n",
    "y_test.drop(columns = 'index', inplace = True)"
   ]
  },
  {
   "cell_type": "code",
   "execution_count": null,
   "id": "ea616312-f97b-47c2-ace3-a0b06218f4ff",
   "metadata": {},
   "outputs": [],
   "source": []
  },
  {
   "cell_type": "code",
   "execution_count": null,
   "id": "747a70a1-56b0-437f-91cd-c30f1fdd462f",
   "metadata": {},
   "outputs": [],
   "source": []
  },
  {
   "cell_type": "code",
   "execution_count": null,
   "id": "7bbc4f74-6144-4430-9dc9-49ff5eff6851",
   "metadata": {},
   "outputs": [],
   "source": []
  },
  {
   "cell_type": "markdown",
   "id": "8012e998-7799-48b4-8322-b82b187fdd10",
   "metadata": {},
   "source": [
    "### 3. Plot trend errors - Individual\n",
    "- Plot trend errors according the order in the data (this could be useful in timeseries data, think this dataset has some correlation across the time)"
   ]
  },
  {
   "cell_type": "code",
   "execution_count": null,
   "id": "d0c91cc9-c1f4-46d2-925b-2439eeb439e3",
   "metadata": {},
   "outputs": [],
   "source": [
    "def trend_errors_predictions(y, y_pred, title_plot):\n",
    "    \"\"\"\n",
    "    Plot Histogram of errors\n",
    "    \n",
    "    Args:\n",
    "        y (dataframe): dataframe with y-true values \n",
    "        y_pred (dataframe): dataframe with y-pred values\n",
    "        title_plot (string): tittle in the plot\n",
    "    \n",
    "    Return\n",
    "        fig (figure matplolib): figure to show, download, etc\n",
    "    \"\"\"\n",
    "    \n",
    "    # calculate error\n",
    "    errors = y - y_pred\n",
    "    \n",
    "    # plot errors\n",
    "    fig = plt.figure()\n",
    "\n",
    "    # scatter points true vs pred\n",
    "    plt.scatter(errors.index, errors, label='Data Errors', marker = 'x', color = 'black', alpha = 0.5)\n",
    "    \n",
    "    # trend\n",
    "    plt.plot(errors.index, errors, color='red', label='Trend Errors')\n",
    "    \n",
    "    plt.xlabel('Time')\n",
    "    plt.ylabel('Errors')\n",
    "    plt.title(f'Trend of Errors in Predictions:  Model: {title_plot}')\n",
    "\n",
    "    return fig"
   ]
  },
  {
   "cell_type": "code",
   "execution_count": null,
   "id": "e4352f8e-ff02-44fe-bf8b-6efcda7b3edf",
   "metadata": {},
   "outputs": [],
   "source": [
    "# example\n",
    "\n",
    "model_example = dict_models['lr']\n",
    "y_example_true = y_train\n",
    "y_example_pred = model_example.predict(X_train)\n",
    "y_example_pred = pd.DataFrame(y_example_pred, index = y_example_true.index, columns = y_example_true.columns)\n",
    "\n",
    "# plot\n",
    "fig_example = trend_errors_predictions(y = y_example_true, \n",
    "                                        y_pred = y_example_pred, \n",
    "                                        title_plot = 'train - linear regression'\n",
    "                                   )\n",
    "\n",
    "# save plot\n",
    "fig_example.savefig(f'artifacts/plots_predictions_true_pred/{folder_models}/trend_errors_train_lr.png', dpi = 500)"
   ]
  },
  {
   "cell_type": "code",
   "execution_count": null,
   "id": "34742d54-1f65-4fc0-a81a-4d2704137106",
   "metadata": {},
   "outputs": [],
   "source": []
  },
  {
   "cell_type": "markdown",
   "id": "259ede22-e965-449a-9663-3c9ee15e8d84",
   "metadata": {},
   "source": [
    "### 4. Trend Errors y_true vs y_pred (multiple plots - one plot for model)"
   ]
  },
  {
   "cell_type": "code",
   "execution_count": null,
   "id": "bc16cf04-30e6-41b0-998c-ffd0e55d9f5e",
   "metadata": {},
   "outputs": [],
   "source": [
    "def trend_errors_predictions_subplots_models(dict_models, X, y, n_bins = 10):\n",
    "    \"\"\"\n",
    "    Plot y_true vs y_pred for each model saved in dict_models (following the estrcture of a dictionary with differents models)\n",
    "\n",
    "    Args:\n",
    "        dict_models(dictionary): python dictionary where each element are differents models\n",
    "        X (dataframe): dataframe with features\n",
    "        y (dataframe): dataframe with target (y_true)\n",
    "    \n",
    "    Return\n",
    "        fig (figure matplolib): figure to show, download, etc\n",
    "    \"\"\"\n",
    "    # create subplots\n",
    "    number_models = len(dict_models)\n",
    "    fig, ax = plt.subplots(number_models, 1, figsize = ((10, 70)) , dpi = 300)\n",
    "    \n",
    "    for index, model_name in enumerate(dict_models):\n",
    "        \n",
    "        # calculate y_pred\n",
    "        y_pred = dict_models[model_name].predict(X)\n",
    "        y_pred = pd.DataFrame(y_pred, index = y.index, columns = y.columns)\n",
    "\n",
    "        # calculate error\n",
    "        errors = y - y_pred\n",
    "        \n",
    "        # scatter points true vs pred\n",
    "        ax[index].scatter(errors.index, errors, label='Data Errors', marker = 'x', color = 'black', alpha = 0.5)\n",
    "        \n",
    "        # trend\n",
    "        ax[index].plot(errors.index, errors, color='red', label='Trend Errors')\n",
    "\n",
    "        # Add names to axis\n",
    "        ax[index].set_xlabel('Error')\n",
    "        ax[index].set_ylabel('Freq')\n",
    "\n",
    "        # layout\n",
    "        ax[index].set_title(f'Trend Errors - Model: {model_name}')\n",
    "\n",
    "\n",
    "    # Adjust vertical spacing between subplots\n",
    "    fig.subplots_adjust(wspace=0.5)\n",
    "    \n",
    "    # Automatically adjust layout to avoid overlapping elements\n",
    "    plt.tight_layout()\n",
    "    return fig"
   ]
  },
  {
   "cell_type": "code",
   "execution_count": null,
   "id": "e674b3e3-e75c-4ec1-87f8-e7ad534454fb",
   "metadata": {},
   "outputs": [],
   "source": [
    "# generate plots data TRAIN\n",
    "fig_true_pred_models_train = trend_errors_predictions_subplots_models(dict_models = dict_models, \n",
    "                                                                   X = X_train, \n",
    "                                                                   y = y_train\n",
    "                                                                  )\n",
    "\n",
    "# save plot\n",
    "fig_true_pred_models_train.savefig(f'artifacts/plots_predictions_true_pred/{folder_models}/trend_errors_models_train.png', dpi = 300)"
   ]
  },
  {
   "cell_type": "code",
   "execution_count": null,
   "id": "0a0f11ec-74fc-4268-b10c-824eb7847ccb",
   "metadata": {},
   "outputs": [],
   "source": [
    "# generate plots data TEST\n",
    "fig_true_pred_models_test = trend_errors_predictions_subplots_models(dict_models = dict_models, \n",
    "                                                                   X = X_test, \n",
    "                                                                   y = y_test\n",
    "                                                                  )\n",
    "\n",
    "# save plot\n",
    "fig_true_pred_models_test.savefig(f'artifacts/plots_predictions_true_pred/{folder_models}/trend_errors_models_test.png', dpi = 300)"
   ]
  },
  {
   "cell_type": "code",
   "execution_count": null,
   "id": "485e0e99-87a2-4b3f-9b12-f4ebfd0d2832",
   "metadata": {},
   "outputs": [],
   "source": []
  },
  {
   "cell_type": "code",
   "execution_count": null,
   "id": "3d80b4e3-6ee4-4846-a9aa-2dec69d2e9a7",
   "metadata": {},
   "outputs": [],
   "source": []
  },
  {
   "cell_type": "markdown",
   "id": "07d4d322-06b8-4aa1-9b1e-6705fc302bfc",
   "metadata": {},
   "source": [
    "### TODO: make this plots in plotly"
   ]
  },
  {
   "cell_type": "markdown",
   "id": "5b81840a-2aec-4d31-adeb-b6497aae8267",
   "metadata": {},
   "source": [
    "### 5. Plot TREND errors ALL MODELS together\n",
    "This plot is made with plotly to interact with it (activate, deactivate plots for example)"
   ]
  },
  {
   "cell_type": "code",
   "execution_count": null,
   "id": "76145495-c4cb-4edc-9cd0-f90c5c9dd8ba",
   "metadata": {},
   "outputs": [],
   "source": [
    "# TODO FINISH THIS"
   ]
  },
  {
   "cell_type": "code",
   "execution_count": null,
   "id": "98ec5f79-0896-41ea-8c5c-06471de3de92",
   "metadata": {},
   "outputs": [],
   "source": []
  },
  {
   "cell_type": "code",
   "execution_count": null,
   "id": "62d6c89f-866e-4dcf-87f8-f188377a16f8",
   "metadata": {},
   "outputs": [],
   "source": []
  },
  {
   "cell_type": "code",
   "execution_count": null,
   "id": "b39fb72c-961b-4ba4-8aa9-cb29ac03f26b",
   "metadata": {},
   "outputs": [],
   "source": []
  },
  {
   "cell_type": "code",
   "execution_count": null,
   "id": "2b8c0133-0b82-47b8-afb6-380e045b9b6e",
   "metadata": {},
   "outputs": [],
   "source": []
  },
  {
   "cell_type": "code",
   "execution_count": null,
   "id": "99bf2d89-d507-4373-9c11-3cfb8930005a",
   "metadata": {},
   "outputs": [],
   "source": []
  },
  {
   "cell_type": "code",
   "execution_count": null,
   "id": "b76db9e5-f616-4dad-b5c7-c049b6f30ac8",
   "metadata": {},
   "outputs": [],
   "source": []
  }
 ],
 "metadata": {
  "kernelspec": {
   "display_name": "Python 3 (ipykernel)",
   "language": "python",
   "name": "python3"
  },
  "language_info": {
   "codemirror_mode": {
    "name": "ipython",
    "version": 3
   },
   "file_extension": ".py",
   "mimetype": "text/x-python",
   "name": "python",
   "nbconvert_exporter": "python",
   "pygments_lexer": "ipython3",
   "version": "3.10.14"
  }
 },
 "nbformat": 4,
 "nbformat_minor": 5
}
