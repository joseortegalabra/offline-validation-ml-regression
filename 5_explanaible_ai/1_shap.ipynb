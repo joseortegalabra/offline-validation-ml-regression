{
 "cells": [
  {
   "cell_type": "markdown",
   "id": "09719c78-72fe-4225-bbde-add89df38d85",
   "metadata": {},
   "source": [
    "# Explanaible AI - Shap\n",
    "Documentation: \n",
    "- https://shap.readthedocs.io/en/latest/example_notebooks/overviews/An%20introduction%20to%20explainable%20AI%20with%20Shapley%20values.html"
   ]
  },
  {
   "cell_type": "code",
   "execution_count": null,
   "id": "7dc7695a-0e77-43f6-a9d9-cf5bb16c2b53",
   "metadata": {},
   "outputs": [],
   "source": [
    "import os\n",
    "# fix root path to save outputs\n",
    "actual_path = os.path.abspath(os.getcwd())\n",
    "list_root_path = actual_path.split('\\\\')[:-1]\n",
    "root_path = '\\\\'.join(list_root_path)\n",
    "os.chdir(root_path)\n",
    "print('root path: ', root_path)"
   ]
  },
  {
   "cell_type": "code",
   "execution_count": null,
   "id": "e0eecf6b-aca9-457c-a6b0-9fd296e4a766",
   "metadata": {},
   "outputs": [],
   "source": []
  },
  {
   "cell_type": "markdown",
   "id": "2d4363af-0198-4458-8aa7-e55503774216",
   "metadata": {},
   "source": [
    "## RUN"
   ]
  },
  {
   "cell_type": "code",
   "execution_count": null,
   "id": "7dc67167-5e45-4af0-b038-909f397bcb57",
   "metadata": {},
   "outputs": [],
   "source": [
    "import warnings\n",
    "warnings.filterwarnings('ignore')\n",
    "\n",
    "import pandas as pd\n",
    "import numpy as np\n",
    "import pickle\n",
    "import matplotlib.pyplot as plt\n",
    "\n",
    "import plotly.graph_objs as go\n",
    "from plotly.subplots import make_subplots\n",
    "import plotly.express as px\n",
    "\n",
    "# shap\n",
    "import shap"
   ]
  },
  {
   "cell_type": "code",
   "execution_count": null,
   "id": "4f80f0d0-b072-4cd2-962f-7f759e5eb22b",
   "metadata": {},
   "outputs": [],
   "source": []
  },
  {
   "cell_type": "markdown",
   "id": "0d0dc1e9-fc46-4cb7-8c3e-eb456c97b485",
   "metadata": {},
   "source": [
    "### 0. Global params"
   ]
  },
  {
   "cell_type": "code",
   "execution_count": null,
   "id": "d0716e25-f5f7-4f9c-8d1e-0e3d5f6f5f59",
   "metadata": {},
   "outputs": [],
   "source": [
    "# define folder where the models were saved. There are the same models accepted by gurobi but the feature eng changed\n",
    "\n",
    "# list of folder with models = ['basic', 'scaler', 'poly_2', 'poly_3']\n",
    "folder_models = 'basic'"
   ]
  },
  {
   "cell_type": "code",
   "execution_count": null,
   "id": "1732bdb5-9489-4e23-9db2-138f7831c377",
   "metadata": {},
   "outputs": [],
   "source": []
  },
  {
   "cell_type": "markdown",
   "id": "b1c92a18-a304-49ce-b2e4-99f71c8a59cd",
   "metadata": {},
   "source": [
    "### 1. Load data"
   ]
  },
  {
   "cell_type": "code",
   "execution_count": null,
   "id": "ceed393f-dfb7-4b9e-b7a6-ec9093b0680a",
   "metadata": {},
   "outputs": [],
   "source": [
    "### DEFINE LIST FEARTURES - TARGET (order data to have the same order in the features always)\n",
    "list_features = ['AveOccup', 'Latitude', 'Population', 'AveBedrms', 'HouseAge', 'Longitude', 'AveRooms', 'MedInc']\n",
    "target = 'Price'"
   ]
  },
  {
   "cell_type": "code",
   "execution_count": null,
   "id": "34dff81e-ab38-425e-8058-05ffbe18d692",
   "metadata": {},
   "outputs": [],
   "source": [
    "### LOAD DATA\n",
    "X_train = pd.read_pickle('artifacts/data/X_train.pkl')\n",
    "X_test = pd.read_pickle('artifacts/data/X_test.pkl')\n",
    "y_train = pd.read_pickle('artifacts/data/y_train.pkl')\n",
    "y_test = pd.read_pickle('artifacts/data/y_test.pkl')"
   ]
  },
  {
   "cell_type": "code",
   "execution_count": null,
   "id": "5d972a6d-bebc-4162-8a98-fdbddad2fd9b",
   "metadata": {},
   "outputs": [],
   "source": [
    "print('shape data')\n",
    "print('\\n\\n TRAIN')\n",
    "print('X_train: ', X_train.shape)\n",
    "print('y_train: ', y_train.shape)\n",
    "\n",
    "print('\\n\\n TEST')\n",
    "print('X_test: ', X_test.shape)\n",
    "print('y_test: ', y_test.shape)"
   ]
  },
  {
   "cell_type": "code",
   "execution_count": null,
   "id": "954090ed-b8a2-4ffc-b9d9-4f0d8c7992bb",
   "metadata": {},
   "outputs": [],
   "source": [
    "# sample x train to run fast codes\n",
    "X_train = X_train[0:1000]\n",
    "X_train.shape"
   ]
  },
  {
   "cell_type": "code",
   "execution_count": null,
   "id": "014d9704-f420-4aed-ad4b-9ab87c8a0af1",
   "metadata": {},
   "outputs": [],
   "source": []
  },
  {
   "cell_type": "code",
   "execution_count": null,
   "id": "63aa182d-3b29-4a9a-9288-bda4551f899a",
   "metadata": {},
   "outputs": [],
   "source": []
  },
  {
   "cell_type": "markdown",
   "id": "18d126c4-f49c-4937-8b1c-5e9396931c5f",
   "metadata": {},
   "source": [
    "### 2. Load Models\n",
    "Load all the models in a dictory"
   ]
  },
  {
   "cell_type": "code",
   "execution_count": null,
   "id": "31e2d6d1-a7cd-4538-9250-ea2beebb9b8a",
   "metadata": {},
   "outputs": [],
   "source": [
    "## define list of models - list to have always the same order.\n",
    "#### In this example, the strings in the list are the same with the models were saved\n",
    "list_models_names = [\n",
    "    \"lr\",\n",
    "    \"ridge\",\n",
    "    \"lasso\",\n",
    "    \n",
    "    \"tree_simple\",\n",
    "    \"tree_default\",\n",
    "    \n",
    "    \"rf_simple\",\n",
    "    \"rf_default\",\n",
    "\n",
    "    \"gb_simple\",\n",
    "    \"gb_default\",\n",
    "\n",
    "    \"xgb_simple\",\n",
    "    \"xgb_default\",\n",
    "\n",
    "    \"mlp_simple\",\n",
    "    \"mlp_default\"\n",
    "]"
   ]
  },
  {
   "cell_type": "code",
   "execution_count": null,
   "id": "318df275-20b2-4071-b173-9be48d00f970",
   "metadata": {},
   "outputs": [],
   "source": [
    "# define path to folder models\n",
    "path_folder_models = f'artifacts/models/{folder_models}/'"
   ]
  },
  {
   "cell_type": "code",
   "execution_count": null,
   "id": "3b550073-d21b-4d29-858e-87d12833807e",
   "metadata": {},
   "outputs": [],
   "source": [
    "### load models\n",
    "dict_models = {}\n",
    "for model_name in list_models_names:\n",
    "    print(f'loading model: {model_name}')\n",
    "    path_model = path_folder_models + f'{model_name}.pkl'\n",
    "    with open(path_model, 'rb') as artifact:\n",
    "        dict_models[model_name] = pickle.load(artifact)"
   ]
  },
  {
   "cell_type": "code",
   "execution_count": null,
   "id": "6a1888c7-adb0-465d-bd94-909023286533",
   "metadata": {},
   "outputs": [],
   "source": []
  },
  {
   "cell_type": "code",
   "execution_count": null,
   "id": "089905bd-bf59-49ce-8081-e46c5975394a",
   "metadata": {},
   "outputs": [],
   "source": [
    "# select model example\n",
    "model = dict_models['lr']"
   ]
  },
  {
   "cell_type": "code",
   "execution_count": null,
   "id": "ea45b26f-2d85-4830-980d-d86943f3f0c8",
   "metadata": {},
   "outputs": [],
   "source": []
  },
  {
   "cell_type": "markdown",
   "id": "f1a7cd38-24d6-4a1d-aab8-66c18a1b44e6",
   "metadata": {},
   "source": [
    "### 3. Sample data"
   ]
  },
  {
   "cell_type": "code",
   "execution_count": null,
   "id": "ef7ae0e3-6cc1-4c06-be81-47f1f890a04d",
   "metadata": {},
   "outputs": [],
   "source": [
    "# sample - run fast\n",
    "X_train_100 = shap.utils.sample(X_train, 100)\n",
    "y_train_100 = shap.utils.sample(y_train, 100)"
   ]
  },
  {
   "cell_type": "code",
   "execution_count": null,
   "id": "d9460417-1642-4502-87d1-297f1e666dd5",
   "metadata": {},
   "outputs": [],
   "source": []
  },
  {
   "cell_type": "code",
   "execution_count": null,
   "id": "272e2050-6916-434f-a804-644880178c01",
   "metadata": {},
   "outputs": [],
   "source": [
    "X_train.shape"
   ]
  },
  {
   "cell_type": "code",
   "execution_count": null,
   "id": "5378e40b-054f-4f95-84c9-6633277d87fe",
   "metadata": {},
   "outputs": [],
   "source": [
    "X_train_100.shape"
   ]
  },
  {
   "cell_type": "code",
   "execution_count": null,
   "id": "3534f03f-0c9a-4c1a-8d9f-c81bdca0b7a5",
   "metadata": {},
   "outputs": [],
   "source": []
  },
  {
   "cell_type": "code",
   "execution_count": null,
   "id": "59d0ed24-1f27-4614-992c-20d8bad2cd5a",
   "metadata": {},
   "outputs": [],
   "source": []
  },
  {
   "cell_type": "markdown",
   "id": "ae1a2482-c8bc-47d1-8c5a-121f13fa206f",
   "metadata": {},
   "source": [
    "### 4. Partial Dependence Plot\n",
    "**Main**\n",
    "\n",
    "To understand a feature’s importance in a model, it is necessary to understand both how changing that feature impacts the model’s output, and also the distribution of that feature’s values.\n",
    "\n",
    "\n",
    "**Explication plot**\n",
    "\n",
    "- Show the distribution of feature values as a histogram on the x-axis\n",
    "- The gray horizontal line in the plot above represents the expected value of the model\n",
    "- The vertical gray line represents the average value of the feature\n",
    "- Note that the blue partial dependence plot line (which is the average value of the model output when we fix the median income feature to a given value) always passes through the intersection of the two gray expected value lines. We can consider this intersection point as the “center” of the partial dependence plot with respect to the data distribution\n",
    "\n",
    "**Documentation**\n",
    "\n",
    "- https://shap-lrjball.readthedocs.io/en/latest/generated/shap.partial_dependence_plot.html"
   ]
  },
  {
   "cell_type": "code",
   "execution_count": null,
   "id": "ba1e0c4c-d083-4c9d-a95e-059623414d58",
   "metadata": {},
   "outputs": [],
   "source": [
    "# select a feature\n",
    "feature = \"MedInc\""
   ]
  },
  {
   "cell_type": "code",
   "execution_count": null,
   "id": "0ada2ddf-19dc-4759-865d-5789104663d9",
   "metadata": {},
   "outputs": [],
   "source": [
    "shap.partial_dependence_plot(\n",
    "    feature,\n",
    "    model.predict,\n",
    "    X_train_100,\n",
    "    ice=False,\n",
    "    model_expected_value=True,\n",
    "    feature_expected_value=True,\n",
    ")"
   ]
  },
  {
   "cell_type": "markdown",
   "id": "55efbeef-f5c2-4f44-bae9-621c9a4bf288",
   "metadata": {},
   "source": [
    "**Aditional**\n",
    "When we are explaining a prediction\n",
    ", the SHAP value for a specific feature\n",
    " is just the difference between the expected model output and the partial dependence plot at the feature’s value "
   ]
  },
  {
   "cell_type": "code",
   "execution_count": null,
   "id": "d0c33c7d-615e-45c3-b124-cfbb0b967c50",
   "metadata": {},
   "outputs": [],
   "source": [
    "# compute the SHAP values for the linear model\n",
    "explainer = shap.Explainer(model.predict, X_train_100)\n",
    "shap_values = explainer(X_train)\n",
    "shap_values"
   ]
  },
  {
   "cell_type": "code",
   "execution_count": null,
   "id": "617999af-f3e8-4ede-85fb-2964b96a1317",
   "metadata": {},
   "outputs": [],
   "source": [
    "# make a standard partial dependence plot\n",
    "sample_ind = 20"
   ]
  },
  {
   "cell_type": "code",
   "execution_count": null,
   "id": "2cda72cd-a4bd-4c41-a376-b639b9c5acac",
   "metadata": {},
   "outputs": [],
   "source": [
    "# TRY TO SOLVE PROBLEMS\n",
    "# reduce dimensions of .base_values. # REDUCE ONE DIMENTION from (1,1) to (1,)\n",
    "shap_values_to_partial_plot = shap_values[sample_ind : sample_ind + 1, :]\n",
    "shap_values_to_partial_plot.base_values = shap_values_to_partial_plot.base_values[0]  # from (1,1) to (1,)\n",
    "shap_values_to_partial_plot"
   ]
  },
  {
   "cell_type": "code",
   "execution_count": null,
   "id": "eb0294f4-bfd6-4bf4-84d7-e9e2d19646f3",
   "metadata": {},
   "outputs": [],
   "source": [
    "# partial dependence plot with shap values\n",
    "shap.partial_dependence_plot(\n",
    "    feature,\n",
    "    model.predict,\n",
    "    X_train_100,\n",
    "    ice=False,\n",
    "    model_expected_value=True,\n",
    "    feature_expected_value=True,\n",
    "    shap_values = shap_values[sample_ind : sample_ind + 1, :]  # plot a shap value\n",
    ")"
   ]
  },
  {
   "cell_type": "code",
   "execution_count": null,
   "id": "f16fa851-fd8a-40d9-9945-82bb53270571",
   "metadata": {},
   "outputs": [],
   "source": [
    "# why this the code is failing\n",
    "shap_values[sample_ind : sample_ind + 1, :]"
   ]
  },
  {
   "cell_type": "code",
   "execution_count": null,
   "id": "ce5bc247-e1ef-46bc-8aab-90b2112d95fc",
   "metadata": {},
   "outputs": [],
   "source": [
    "shap_values[sample_ind : sample_ind + 1, :].values.shape"
   ]
  },
  {
   "cell_type": "code",
   "execution_count": null,
   "id": "542246ff-8dbd-41c3-85ba-54cd137c0715",
   "metadata": {},
   "outputs": [],
   "source": [
    "shap_values[sample_ind : sample_ind + 1, :].base_values.shape"
   ]
  },
  {
   "cell_type": "code",
   "execution_count": null,
   "id": "def3b618-06b6-4b03-a535-355022fc353c",
   "metadata": {},
   "outputs": [],
   "source": [
    "shap_values[sample_ind : sample_ind + 1, :].base_values"
   ]
  },
  {
   "cell_type": "code",
   "execution_count": null,
   "id": "2b4d2b49-fc7a-4b64-97c4-c8568491fa92",
   "metadata": {},
   "outputs": [],
   "source": [
    "shap_values[sample_ind : sample_ind + 1, :].data.shape"
   ]
  },
  {
   "cell_type": "code",
   "execution_count": null,
   "id": "0e733a14-429e-4df9-8bd2-40f578bc48a0",
   "metadata": {},
   "outputs": [],
   "source": []
  },
  {
   "cell_type": "code",
   "execution_count": null,
   "id": "19fdb413-95af-4fa6-a105-15edd4f6fede",
   "metadata": {},
   "outputs": [],
   "source": []
  },
  {
   "cell_type": "code",
   "execution_count": null,
   "id": "94ee056b-0878-45b0-bcf4-a26aeaf4f0ad",
   "metadata": {},
   "outputs": [],
   "source": [
    "shap.plots.scatter(shap_values[:, feature])"
   ]
  },
  {
   "cell_type": "code",
   "execution_count": null,
   "id": "bf8e8ff5-055d-4adf-a0f1-a5d9b21b55c9",
   "metadata": {},
   "outputs": [],
   "source": [
    "shap_values#[:, feature]"
   ]
  },
  {
   "cell_type": "code",
   "execution_count": null,
   "id": "bacfa1ed-e1f0-42ae-9a1b-eadeaa7ee5b1",
   "metadata": {},
   "outputs": [],
   "source": [
    "shap_values.values"
   ]
  },
  {
   "cell_type": "code",
   "execution_count": null,
   "id": "fc0ad7f2-6d87-444c-8292-5a6219748161",
   "metadata": {},
   "outputs": [],
   "source": [
    "shap_values.values[:, feature]"
   ]
  },
  {
   "cell_type": "code",
   "execution_count": null,
   "id": "b786b86e-3e3f-4a80-9165-427736fa8d6f",
   "metadata": {},
   "outputs": [],
   "source": [
    "shap.plots.scatter(shap_values[:, \"MedInc\"])"
   ]
  },
  {
   "cell_type": "code",
   "execution_count": null,
   "id": "57fb0fdd-5e0c-425e-b117-f34f77f954c4",
   "metadata": {},
   "outputs": [],
   "source": []
  },
  {
   "cell_type": "markdown",
   "id": "01325e98-f1b6-496f-aa81-9f7b788e7238",
   "metadata": {},
   "source": [
    "# TODO: terminar de acuerdo a mi estudio de explanaible AI - termninar día viernes en la tarde. Migrar códigos viernes noche"
   ]
  },
  {
   "cell_type": "code",
   "execution_count": null,
   "id": "21501031-af05-4ac7-87e6-8e1ab13cc4a2",
   "metadata": {},
   "outputs": [],
   "source": []
  }
 ],
 "metadata": {
  "kernelspec": {
   "display_name": "Python 3 (ipykernel)",
   "language": "python",
   "name": "python3"
  },
  "language_info": {
   "codemirror_mode": {
    "name": "ipython",
    "version": 3
   },
   "file_extension": ".py",
   "mimetype": "text/x-python",
   "name": "python",
   "nbconvert_exporter": "python",
   "pygments_lexer": "ipython3",
   "version": "3.10.14"
  }
 },
 "nbformat": 4,
 "nbformat_minor": 5
}
