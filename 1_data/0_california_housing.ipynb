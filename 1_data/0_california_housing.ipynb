{
 "cells": [
  {
   "cell_type": "markdown",
   "id": "bd05e6fa-3efd-4aad-b952-7818aa6ce467",
   "metadata": {},
   "source": [
    "# DATASET: California housing dataset\n",
    "Dataset from: https://scikit-learn.org/stable/modules/generated/sklearn.datasets.fetch_california_housing.html\n",
    "\n",
    "In this repo this dataset will be used to modeling regression models\n",
    "\n",
    "OBS: each feature is independient but in some a analysis generated to evaluate the model, some of them consering that each feature is correlated in the time"
   ]
  },
  {
   "cell_type": "code",
   "execution_count": null,
   "id": "27564870-19d7-43c9-ad6d-f75dd2da54a3",
   "metadata": {},
   "outputs": [],
   "source": [
    "import os\n",
    "# fix root path to save outputs\n",
    "actual_path = os.path.abspath(os.getcwd())\n",
    "list_root_path = actual_path.split('\\\\')[:-1]\n",
    "root_path = '\\\\'.join(list_root_path)\n",
    "os.chdir(root_path)\n",
    "print('root path: ', root_path)"
   ]
  },
  {
   "cell_type": "code",
   "execution_count": null,
   "id": "9212363b-b1ef-4cf4-a91b-6b1625aaf1f6",
   "metadata": {},
   "outputs": [],
   "source": []
  },
  {
   "cell_type": "markdown",
   "id": "23ec6940-6c22-453c-bde3-a24ebf904fe5",
   "metadata": {},
   "source": [
    "## Generate the data, basic codes to cleaning the data and split into train/test. Generate data already to modeling"
   ]
  },
  {
   "cell_type": "code",
   "execution_count": null,
   "id": "a67f827a-053a-494e-b530-ab10cf4fdd2f",
   "metadata": {},
   "outputs": [],
   "source": [
    "from sklearn.datasets import fetch_california_housing\n",
    "import json\n",
    "import pandas as pd\n",
    "import pickle\n",
    "import matplotlib.pyplot as plt\n",
    "\n",
    "from sklearn.model_selection import train_test_split"
   ]
  },
  {
   "cell_type": "markdown",
   "id": "015302d0-7158-490b-a2dd-8f8cd272c443",
   "metadata": {},
   "source": [
    "### 1. load data"
   ]
  },
  {
   "cell_type": "code",
   "execution_count": null,
   "id": "90c676b9-0a3e-4bed-8daa-82ac2dc0f21e",
   "metadata": {},
   "outputs": [],
   "source": [
    "data_X, data_y = fetch_california_housing(return_X_y=True, as_frame=True)\n",
    "\n",
    "# joinn and rename dataset\n",
    "data = data_X.copy()\n",
    "data['Price'] = data_y\n",
    "data.head()"
   ]
  },
  {
   "cell_type": "markdown",
   "id": "537fbbd9-4ead-4fe5-b435-b25825744abe",
   "metadata": {},
   "source": [
    "### 2. Drop duplicates"
   ]
  },
  {
   "cell_type": "code",
   "execution_count": null,
   "id": "32068779-9461-4f11-8a92-74eaf8fc263a",
   "metadata": {},
   "outputs": [],
   "source": [
    "data.shape"
   ]
  },
  {
   "cell_type": "code",
   "execution_count": null,
   "id": "0730d635-b53c-430d-a38f-8851cef0e486",
   "metadata": {},
   "outputs": [],
   "source": [
    "# dropduplicates - some kind of plots in plotly return error with duplicated values\n",
    "data = data.drop_duplicates()\n",
    "data.shape"
   ]
  },
  {
   "cell_type": "code",
   "execution_count": null,
   "id": "7599cd36-6edd-4585-a421-c166eb5ccf2d",
   "metadata": {},
   "outputs": [],
   "source": []
  },
  {
   "cell_type": "markdown",
   "id": "9b0521df-df50-4de6-9f95-5a6a188e522a",
   "metadata": {},
   "source": [
    "### 3. Histograms"
   ]
  },
  {
   "cell_type": "code",
   "execution_count": null,
   "id": "9b86180a-9c8c-4538-a7b9-9f8654c8dd9e",
   "metadata": {},
   "outputs": [],
   "source": [
    "for i in data.columns:\n",
    "    \n",
    "    plt.figure()\n",
    "    plt.title(f'{i}')\n",
    "    plt.hist(data[i])"
   ]
  },
  {
   "cell_type": "code",
   "execution_count": null,
   "id": "4892f71d-ad0c-4665-80fe-cade276cf8cc",
   "metadata": {},
   "outputs": [],
   "source": []
  },
  {
   "cell_type": "code",
   "execution_count": null,
   "id": "3698ad8c-6734-4a54-a726-66f31edc0822",
   "metadata": {},
   "outputs": [],
   "source": []
  },
  {
   "cell_type": "markdown",
   "id": "ea7b4b27-e97e-4f8f-af32-4157b4b8bc9e",
   "metadata": {},
   "source": [
    "### 4. drop outliers"
   ]
  },
  {
   "cell_type": "code",
   "execution_count": null,
   "id": "8ea69330-52f4-44d5-bc18-213d6948fec7",
   "metadata": {},
   "outputs": [],
   "source": [
    "#!pip install ydata_profiling\n",
    "from ydata_profiling import ProfileReport"
   ]
  },
  {
   "cell_type": "code",
   "execution_count": null,
   "id": "cc3dfdfe-5169-4a3d-90c2-493074e99ca3",
   "metadata": {},
   "outputs": [],
   "source": [
    "# describe percentiles\n",
    "data.describe(percentiles = [0.01, 0.05, 0.1, 0.25, 0.5, 0.75, 0.90, 0.95, 0.99])"
   ]
  },
  {
   "cell_type": "code",
   "execution_count": null,
   "id": "781aa76f-a72e-4a6f-be9b-e7ad9ded832e",
   "metadata": {},
   "outputs": [],
   "source": [
    "# y data profiling\n",
    "profile = ProfileReport(data, title=\"Profiling Report.html\", minimal = True)\n",
    "profile"
   ]
  },
  {
   "cell_type": "code",
   "execution_count": null,
   "id": "74efec8a-0c02-48b0-9cd9-8b302d33bdb9",
   "metadata": {},
   "outputs": [],
   "source": [
    "### DELETE DATA BELOW PERCENTILE 1 AND ABOVE PERCENITLE 99 - ALL FEATURES\n",
    "\n",
    "# Calculate percentile\n",
    "percentil_lower = data.quantile(0.01)\n",
    "percentil_upper = data.quantile(0.99)\n",
    "\n",
    "# Filter data\n",
    "data_filtered = data[(data >= percentil_lower) & (data <= percentil_upper)]\n",
    "data_filtered.dropna(inplace = True)"
   ]
  },
  {
   "cell_type": "code",
   "execution_count": null,
   "id": "95f0a562-99b5-4c42-9fc5-0d0d603b6873",
   "metadata": {},
   "outputs": [],
   "source": [
    "data_filtered"
   ]
  },
  {
   "cell_type": "code",
   "execution_count": null,
   "id": "53be6e07-e6f6-4514-9cd3-c547913b96a1",
   "metadata": {},
   "outputs": [],
   "source": [
    "data_filtered.describe()"
   ]
  },
  {
   "cell_type": "code",
   "execution_count": null,
   "id": "a097027e-c32d-456f-9653-e732fb12ad00",
   "metadata": {},
   "outputs": [],
   "source": [
    "data_filtered.shape"
   ]
  },
  {
   "cell_type": "code",
   "execution_count": null,
   "id": "19ab9bc5-72d8-4a03-8537-c92c5544c4f1",
   "metadata": {},
   "outputs": [],
   "source": []
  },
  {
   "cell_type": "code",
   "execution_count": null,
   "id": "c47f7852-4bcc-4909-81c7-658d8148ebb0",
   "metadata": {},
   "outputs": [],
   "source": [
    "#### review prolifing - GOAL: DELETE EXTREME VALUES IN FEAUTURES DATA SKEWED"
   ]
  },
  {
   "cell_type": "code",
   "execution_count": null,
   "id": "f5f5b55f-ca9f-4e0c-a0dc-ca0b8e729736",
   "metadata": {},
   "outputs": [],
   "source": [
    "for i in data_filtered.columns:\n",
    "    \n",
    "    plt.figure()\n",
    "    plt.title(f'{i}')\n",
    "    plt.hist(data_filtered[i])"
   ]
  },
  {
   "cell_type": "code",
   "execution_count": null,
   "id": "926d9d47-8b66-4e07-bf52-1e73945d9f94",
   "metadata": {},
   "outputs": [],
   "source": [
    "# profile_filtered = ProfileReport(data, title=\"Profiling Report.html\")\n",
    "# profile_filtered"
   ]
  },
  {
   "cell_type": "code",
   "execution_count": null,
   "id": "0e4f336e-5773-4b07-9a7d-e3fb70070fc8",
   "metadata": {},
   "outputs": [],
   "source": []
  },
  {
   "cell_type": "markdown",
   "id": "1b28ac1b-7411-4b86-a799-05a0fb640c8e",
   "metadata": {},
   "source": [
    "### 5. Save data filtered as data_raw"
   ]
  },
  {
   "cell_type": "code",
   "execution_count": null,
   "id": "2c869f15-9b27-4f7c-a010-10f96c10ece3",
   "metadata": {},
   "outputs": [],
   "source": [
    "data_raw = data_filtered.copy()\n",
    "data_raw.to_pickle('artifacts/data/data_raw.pkl')"
   ]
  },
  {
   "cell_type": "code",
   "execution_count": null,
   "id": "ad1e4135-8923-4ca4-bd4b-f20595f1e560",
   "metadata": {},
   "outputs": [],
   "source": []
  },
  {
   "cell_type": "code",
   "execution_count": null,
   "id": "803fbd8e-7500-46f5-afa4-506a0cb8a16f",
   "metadata": {},
   "outputs": [],
   "source": []
  },
  {
   "cell_type": "markdown",
   "id": "6214a5dd-c571-4a42-8634-93db684a1ee5",
   "metadata": {},
   "source": [
    "### 6. Split into train-test"
   ]
  },
  {
   "cell_type": "code",
   "execution_count": null,
   "id": "58a73e1d-4ca2-4207-a914-f641797e1124",
   "metadata": {},
   "outputs": [],
   "source": [
    "# features - target\n",
    "target = 'Price'\n",
    "list_features = list(set(data_raw.columns) - set([target]))\n",
    "list_features"
   ]
  },
  {
   "cell_type": "code",
   "execution_count": null,
   "id": "bfd06ff8-2931-45af-8556-51d070603433",
   "metadata": {},
   "outputs": [],
   "source": [
    "X_train, X_test, y_train, y_test = train_test_split(data_raw[list_features], \n",
    "                                                    data_raw[[target]], \n",
    "                                                    test_size = 0.2, \n",
    "                                                    random_state=42\n",
    "                                                   )"
   ]
  },
  {
   "cell_type": "code",
   "execution_count": null,
   "id": "4c995f34-83c0-47e3-b635-05c885579f50",
   "metadata": {},
   "outputs": [],
   "source": [
    "X_train.head(3)"
   ]
  },
  {
   "cell_type": "code",
   "execution_count": null,
   "id": "59dd04e0-e182-4a58-a22a-5227ab9ef0ec",
   "metadata": {},
   "outputs": [],
   "source": [
    "y_train.head(3)"
   ]
  },
  {
   "cell_type": "code",
   "execution_count": null,
   "id": "4b65e848-1ade-431d-be1f-c440577a6873",
   "metadata": {},
   "outputs": [],
   "source": []
  },
  {
   "cell_type": "code",
   "execution_count": null,
   "id": "84cbe705-39d5-41be-b53a-67d47de7bf26",
   "metadata": {},
   "outputs": [],
   "source": []
  },
  {
   "cell_type": "code",
   "execution_count": null,
   "id": "7bb12fa3-93db-474a-87df-be8c86bc6154",
   "metadata": {},
   "outputs": [],
   "source": []
  },
  {
   "cell_type": "markdown",
   "id": "d5476e97-b13e-4c75-a893-9da0d2cefba0",
   "metadata": {},
   "source": [
    "### 7. Save train test"
   ]
  },
  {
   "cell_type": "code",
   "execution_count": null,
   "id": "2865c829-7ede-432e-831e-b32908372ba1",
   "metadata": {},
   "outputs": [],
   "source": [
    "X_train.to_pickle('artifacts/data/X_train.pkl')\n",
    "X_test.to_pickle('artifacts/data/X_test.pkl')\n",
    "y_train.to_pickle('artifacts/data/y_train.pkl')\n",
    "y_test.to_pickle('artifacts/data/y_test.pkl')"
   ]
  },
  {
   "cell_type": "code",
   "execution_count": null,
   "id": "272b810e-2225-46bc-8b79-591c0f7dff0c",
   "metadata": {},
   "outputs": [],
   "source": []
  },
  {
   "cell_type": "code",
   "execution_count": null,
   "id": "c81db878-5d98-4350-ab47-505c34584287",
   "metadata": {},
   "outputs": [],
   "source": []
  },
  {
   "cell_type": "code",
   "execution_count": null,
   "id": "b50a0210-9b36-4353-8430-a90f3e8e5675",
   "metadata": {},
   "outputs": [],
   "source": []
  },
  {
   "cell_type": "code",
   "execution_count": null,
   "id": "9253129d-5277-43e3-ad3d-eeff030151e9",
   "metadata": {},
   "outputs": [],
   "source": []
  }
 ],
 "metadata": {
  "kernelspec": {
   "display_name": "Python 3 (ipykernel)",
   "language": "python",
   "name": "python3"
  },
  "language_info": {
   "codemirror_mode": {
    "name": "ipython",
    "version": 3
   },
   "file_extension": ".py",
   "mimetype": "text/x-python",
   "name": "python",
   "nbconvert_exporter": "python",
   "pygments_lexer": "ipython3",
   "version": "3.10.14"
  }
 },
 "nbformat": 4,
 "nbformat_minor": 5
}
