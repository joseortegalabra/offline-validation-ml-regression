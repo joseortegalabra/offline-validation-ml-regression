{
 "cells": [
  {
   "cell_type": "markdown",
   "id": "3d18d5d3-075e-4708-a8b2-3afe29171dc7",
   "metadata": {},
   "source": [
    "# INSTALL PACKAGES EXPLANAIBLE AI"
   ]
  },
  {
   "cell_type": "code",
   "execution_count": null,
   "id": "e7236dda-ec9b-40bd-bfd4-fe9af1406e1d",
   "metadata": {},
   "outputs": [],
   "source": []
  },
  {
   "cell_type": "markdown",
   "id": "b4d7acc7-8d84-46bd-bc97-96611b7f5654",
   "metadata": {},
   "source": [
    "### 1. Try install alibi"
   ]
  },
  {
   "cell_type": "code",
   "execution_count": null,
   "id": "ab491158-d770-4ac0-a876-ea3578f340ef",
   "metadata": {},
   "outputs": [],
   "source": [
    "# !pip install alibi"
   ]
  },
  {
   "cell_type": "markdown",
   "id": "2113c98f-8a61-4a9c-bf3a-a71e228941b3",
   "metadata": {},
   "source": [
    "### 2. SHAP"
   ]
  },
  {
   "cell_type": "code",
   "execution_count": null,
   "id": "4a1bcda1-b68b-4913-876a-0473f4794942",
   "metadata": {},
   "outputs": [],
   "source": [
    "# !pip install shap"
   ]
  },
  {
   "cell_type": "code",
   "execution_count": null,
   "id": "95ccb74b-a70d-42b6-8ef3-844e83e07d19",
   "metadata": {},
   "outputs": [],
   "source": []
  },
  {
   "cell_type": "markdown",
   "id": "aa04c474-c3d4-4792-88b5-a419bf61857a",
   "metadata": {},
   "source": [
    "### 3. SHAPASH\n",
    "See this package force install a previous version of flask (this may genereate problems if you use this env to create flask apps)"
   ]
  },
  {
   "cell_type": "code",
   "execution_count": null,
   "id": "1474e491-43bb-4b62-b779-bad709c78147",
   "metadata": {},
   "outputs": [],
   "source": [
    "!pip install shapash"
   ]
  },
  {
   "cell_type": "code",
   "execution_count": null,
   "id": "3aabfeb4-8dcf-4dfb-a7d4-210ef46c4e61",
   "metadata": {},
   "outputs": [],
   "source": []
  },
  {
   "cell_type": "code",
   "execution_count": null,
   "id": "4a0d3976-c423-4534-a0b7-a384be971596",
   "metadata": {},
   "outputs": [],
   "source": []
  },
  {
   "cell_type": "markdown",
   "id": "5fbb4da7-7859-4f70-a93e-9a0a454e626e",
   "metadata": {},
   "source": [
    "### 4. OLD PACKAGES\n",
    "\"OLD\" because is is packages that are not updated in pip recently. This doesn't mean these packages doesn't works but there are some risks"
   ]
  },
  {
   "cell_type": "markdown",
   "id": "1db96894-11bb-4b4f-841b-3666eeaa5bfb",
   "metadata": {},
   "source": [
    "#### 4.1 eli5"
   ]
  },
  {
   "cell_type": "code",
   "execution_count": null,
   "id": "efc218ec-9d82-44fa-80c9-b2fad69dc740",
   "metadata": {},
   "outputs": [],
   "source": [
    "!pip install eli5"
   ]
  },
  {
   "cell_type": "code",
   "execution_count": null,
   "id": "838c3291-99f6-4f55-9b6b-cb66b56d392f",
   "metadata": {},
   "outputs": [],
   "source": []
  },
  {
   "cell_type": "markdown",
   "id": "9f138b2c-90f4-4b07-a237-c290207bea6e",
   "metadata": {},
   "source": [
    "#### 4.2 lime"
   ]
  },
  {
   "cell_type": "code",
   "execution_count": null,
   "id": "0886c15c-400a-463c-8fb2-c8f6cbd93919",
   "metadata": {},
   "outputs": [],
   "source": [
    "!pip install lime"
   ]
  },
  {
   "cell_type": "code",
   "execution_count": null,
   "id": "cbfcd58f-c546-4fb5-9a0d-9707cf5e82ff",
   "metadata": {},
   "outputs": [],
   "source": []
  },
  {
   "cell_type": "markdown",
   "id": "dcfea64f-1ab2-4604-88ef-57a314c657dc",
   "metadata": {},
   "source": [
    "#### 4.3 skater - last update 21 sept 2018\n",
    "I CANT INSTALL, TOO OLD"
   ]
  },
  {
   "cell_type": "code",
   "execution_count": null,
   "id": "202511b4-116a-42ca-99a5-4637041012e8",
   "metadata": {},
   "outputs": [],
   "source": [
    "!pip install skater"
   ]
  },
  {
   "cell_type": "code",
   "execution_count": null,
   "id": "751613c9-bd68-4daf-992f-9d483c9fb9f7",
   "metadata": {},
   "outputs": [],
   "source": [
    "!pip show skater"
   ]
  },
  {
   "cell_type": "code",
   "execution_count": null,
   "id": "f16db66c-52ae-44b1-99f1-9a240cdc0d6b",
   "metadata": {},
   "outputs": [],
   "source": []
  },
  {
   "cell_type": "markdown",
   "id": "bb8c82ff-b068-4dfe-9d36-ab67e04a9c1e",
   "metadata": {},
   "source": [
    "#### 4.4 Skopes-rule"
   ]
  },
  {
   "cell_type": "code",
   "execution_count": null,
   "id": "6ef61763-0019-4052-bb72-ba87958ecff7",
   "metadata": {},
   "outputs": [],
   "source": [
    "!pip install skope-rules"
   ]
  },
  {
   "cell_type": "code",
   "execution_count": null,
   "id": "dcbe9764-6e37-4a7d-a9b1-69a0fc1acdc2",
   "metadata": {},
   "outputs": [],
   "source": []
  }
 ],
 "metadata": {
  "kernelspec": {
   "display_name": "Python 3 (ipykernel)",
   "language": "python",
   "name": "python3"
  },
  "language_info": {
   "codemirror_mode": {
    "name": "ipython",
    "version": 3
   },
   "file_extension": ".py",
   "mimetype": "text/x-python",
   "name": "python",
   "nbconvert_exporter": "python",
   "pygments_lexer": "ipython3",
   "version": "3.10.14"
  }
 },
 "nbformat": 4,
 "nbformat_minor": 5
}
