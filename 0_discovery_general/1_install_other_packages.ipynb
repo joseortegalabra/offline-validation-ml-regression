{
 "cells": [
  {
   "cell_type": "markdown",
   "id": "32716dd2-8ee4-4ef3-8ebb-92d350af145f",
   "metadata": {},
   "source": [
    "### Visualization"
   ]
  },
  {
   "cell_type": "markdown",
   "id": "f503803e-5b6b-4a26-a2a0-aeab45da1ae8",
   "metadata": {},
   "source": [
    "### pydotplus"
   ]
  },
  {
   "cell_type": "code",
   "execution_count": null,
   "id": "40a0bcae-5713-44fa-9171-091c6cd65397",
   "metadata": {},
   "outputs": [],
   "source": [
    "!pip install pydotplus"
   ]
  },
  {
   "cell_type": "code",
   "execution_count": null,
   "id": "2ad406e8-8542-4dc9-b585-4c793b3f3389",
   "metadata": {},
   "outputs": [],
   "source": []
  },
  {
   "cell_type": "code",
   "execution_count": null,
   "id": "92378333-c00d-42e0-a499-43dbce19692a",
   "metadata": {},
   "outputs": [],
   "source": []
  },
  {
   "cell_type": "markdown",
   "id": "72fcdd59-b1a4-4649-867b-d811a686cc91",
   "metadata": {},
   "source": [
    "### graphviz\n",
    "Install in pc\n",
    "\n",
    "https://www.graphviz.org/download/"
   ]
  },
  {
   "cell_type": "code",
   "execution_count": null,
   "id": "88807d5c-b904-4673-80b3-7af6f310daba",
   "metadata": {},
   "outputs": [],
   "source": []
  }
 ],
 "metadata": {
  "kernelspec": {
   "display_name": "Python 3 (ipykernel)",
   "language": "python",
   "name": "python3"
  },
  "language_info": {
   "codemirror_mode": {
    "name": "ipython",
    "version": 3
   },
   "file_extension": ".py",
   "mimetype": "text/x-python",
   "name": "python",
   "nbconvert_exporter": "python",
   "pygments_lexer": "ipython3",
   "version": "3.10.14"
  }
 },
 "nbformat": 4,
 "nbformat_minor": 5
}
